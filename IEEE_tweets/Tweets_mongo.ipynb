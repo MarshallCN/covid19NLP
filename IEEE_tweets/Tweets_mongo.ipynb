{
 "cells": [
  {
   "cell_type": "code",
   "execution_count": 1,
   "metadata": {},
   "outputs": [],
   "source": [
    "import pymongo\n",
    "import pandas as pd\n",
    "client = pymongo.MongoClient(host='localhost', port=27017)\n",
    "# client = MongoClient('mongodb://localhost:27017/')\n",
    "db = client.covTweets\n",
    "# db = client['covNews']\n",
    "collection = db['t_11']"
   ]
  },
  {
   "cell_type": "code",
   "execution_count": 2,
   "metadata": {},
   "outputs": [
    {
     "data": {
      "text/plain": [
       "{'_id': ObjectId('5ef0cf6f07a84ce62c3cf5df'),\n",
       " 'contributors': None,\n",
       " 'coordinates': None,\n",
       " 'created_at': 'Sun Mar 29 00:00:04 +0000 2020',\n",
       " 'display_text_range': [0, 62],\n",
       " 'entities': {'hashtags': [],\n",
       "  'symbols': [],\n",
       "  'urls': [],\n",
       "  'user_mentions': [{'id': 1917915967,\n",
       "    'id_str': '1917915967',\n",
       "    'indices': [3, 16],\n",
       "    'name': 'Isabel Vela',\n",
       "    'screen_name': '_isabelvela_'}]},\n",
       " 'favorite_count': 0,\n",
       " 'favorited': False,\n",
       " 'full_text': \"RT @_isabelvela_: If the corona don't kill me the alcohol will\",\n",
       " 'geo': None,\n",
       " 'id': 1244051662647496700,\n",
       " 'id_str': '1244051662647496705',\n",
       " 'in_reply_to_screen_name': None,\n",
       " 'in_reply_to_status_id': None,\n",
       " 'in_reply_to_status_id_str': None,\n",
       " 'in_reply_to_user_id': None,\n",
       " 'in_reply_to_user_id_str': None,\n",
       " 'is_quote_status': False,\n",
       " 'lang': 'en',\n",
       " 'place': None,\n",
       " 'retweet_count': 4,\n",
       " 'retweeted': False,\n",
       " 'retweeted_status': {'contributors': None,\n",
       "  'coordinates': None,\n",
       "  'created_at': 'Sat Mar 28 23:59:19 +0000 2020',\n",
       "  'display_text_range': [0, 44],\n",
       "  'entities': {'hashtags': [], 'symbols': [], 'urls': [], 'user_mentions': []},\n",
       "  'favorite_count': 12,\n",
       "  'favorited': False,\n",
       "  'full_text': \"If the corona don't kill me the alcohol will\",\n",
       "  'geo': None,\n",
       "  'id': 1244051475229278200,\n",
       "  'id_str': '1244051475229278209',\n",
       "  'in_reply_to_screen_name': None,\n",
       "  'in_reply_to_status_id': None,\n",
       "  'in_reply_to_status_id_str': None,\n",
       "  'in_reply_to_user_id': None,\n",
       "  'in_reply_to_user_id_str': None,\n",
       "  'is_quote_status': False,\n",
       "  'lang': 'en',\n",
       "  'place': None,\n",
       "  'retweet_count': 4,\n",
       "  'retweeted': False,\n",
       "  'source': '<a href=\"http://twitter.com/download/iphone\" rel=\"nofollow\">Twitter for iPhone</a>',\n",
       "  'truncated': False,\n",
       "  'user': {'contributors_enabled': False,\n",
       "   'created_at': 'Sun Sep 29 19:02:01 +0000 2013',\n",
       "   'default_profile': True,\n",
       "   'default_profile_image': False,\n",
       "   'description': '1997 | 🇲🇽',\n",
       "   'entities': {'description': {'urls': []},\n",
       "    'url': {'urls': [{'display_url': 'instagram.com/_isabelvela_/',\n",
       "       'expanded_url': 'https://www.instagram.com/_isabelvela_/',\n",
       "       'indices': [0, 23],\n",
       "       'url': 'https://t.co/FPWjsquTm9'}]}},\n",
       "   'favourites_count': 21600,\n",
       "   'follow_request_sent': False,\n",
       "   'followers_count': 1185,\n",
       "   'following': False,\n",
       "   'friends_count': 839,\n",
       "   'geo_enabled': True,\n",
       "   'has_extended_profile': True,\n",
       "   'id': 1917915967,\n",
       "   'id_str': '1917915967',\n",
       "   'is_translation_enabled': False,\n",
       "   'is_translator': False,\n",
       "   'lang': None,\n",
       "   'listed_count': 1,\n",
       "   'location': '',\n",
       "   'name': 'Isabel Vela',\n",
       "   'notifications': False,\n",
       "   'profile_background_color': 'C0DEED',\n",
       "   'profile_background_image_url': 'http://abs.twimg.com/images/themes/theme1/bg.png',\n",
       "   'profile_background_image_url_https': 'https://abs.twimg.com/images/themes/theme1/bg.png',\n",
       "   'profile_background_tile': False,\n",
       "   'profile_banner_url': 'https://pbs.twimg.com/profile_banners/1917915967/1590896263',\n",
       "   'profile_image_url': 'http://pbs.twimg.com/profile_images/1269421099412054017/f3fx-pVm_normal.jpg',\n",
       "   'profile_image_url_https': 'https://pbs.twimg.com/profile_images/1269421099412054017/f3fx-pVm_normal.jpg',\n",
       "   'profile_link_color': '1DA1F2',\n",
       "   'profile_sidebar_border_color': 'C0DEED',\n",
       "   'profile_sidebar_fill_color': 'DDEEF6',\n",
       "   'profile_text_color': '333333',\n",
       "   'profile_use_background_image': True,\n",
       "   'protected': False,\n",
       "   'screen_name': '_isabelvela_',\n",
       "   'statuses_count': 11032,\n",
       "   'time_zone': None,\n",
       "   'translator_type': 'none',\n",
       "   'url': 'https://t.co/FPWjsquTm9',\n",
       "   'utc_offset': None,\n",
       "   'verified': False}},\n",
       " 'source': '<a href=\"http://twitter.com/download/iphone\" rel=\"nofollow\">Twitter for iPhone</a>',\n",
       " 'truncated': False,\n",
       " 'user': {'contributors_enabled': False,\n",
       "  'created_at': 'Wed Mar 28 15:53:38 +0000 2012',\n",
       "  'default_profile': True,\n",
       "  'default_profile_image': False,\n",
       "  'description': '',\n",
       "  'entities': {'description': {'urls': []}},\n",
       "  'favourites_count': 48799,\n",
       "  'follow_request_sent': False,\n",
       "  'followers_count': 767,\n",
       "  'following': False,\n",
       "  'friends_count': 492,\n",
       "  'geo_enabled': True,\n",
       "  'has_extended_profile': True,\n",
       "  'id': 539240031,\n",
       "  'id_str': '539240031',\n",
       "  'is_translation_enabled': False,\n",
       "  'is_translator': False,\n",
       "  'lang': None,\n",
       "  'listed_count': 6,\n",
       "  'location': 'TX',\n",
       "  'name': 'Brandon Silva',\n",
       "  'notifications': False,\n",
       "  'profile_background_color': 'C0DEED',\n",
       "  'profile_background_image_url': 'http://abs.twimg.com/images/themes/theme1/bg.png',\n",
       "  'profile_background_image_url_https': 'https://abs.twimg.com/images/themes/theme1/bg.png',\n",
       "  'profile_background_tile': False,\n",
       "  'profile_banner_url': 'https://pbs.twimg.com/profile_banners/539240031/1591580883',\n",
       "  'profile_image_url': 'http://pbs.twimg.com/profile_images/1264845697880293376/CkAkoo3x_normal.jpg',\n",
       "  'profile_image_url_https': 'https://pbs.twimg.com/profile_images/1264845697880293376/CkAkoo3x_normal.jpg',\n",
       "  'profile_link_color': '1DA1F2',\n",
       "  'profile_sidebar_border_color': 'C0DEED',\n",
       "  'profile_sidebar_fill_color': 'DDEEF6',\n",
       "  'profile_text_color': '333333',\n",
       "  'profile_use_background_image': True,\n",
       "  'protected': False,\n",
       "  'screen_name': 'thebrandonsilva',\n",
       "  'statuses_count': 57692,\n",
       "  'time_zone': None,\n",
       "  'translator_type': 'none',\n",
       "  'url': None,\n",
       "  'utc_offset': None,\n",
       "  'verified': False}}"
      ]
     },
     "execution_count": 2,
     "metadata": {},
     "output_type": "execute_result"
    }
   ],
   "source": [
    "collection.find_one({'created_at':{'$regex':'Sun Mar 29'}})"
   ]
  },
  {
   "cell_type": "code",
   "execution_count": 10,
   "metadata": {},
   "outputs": [
    {
     "data": {
      "text/plain": [
       "333494"
      ]
     },
     "execution_count": 10,
     "metadata": {},
     "output_type": "execute_result"
    }
   ],
   "source": [
    "collection.count_documents({'created_at':{'$regex':'Sun Mar 29'}})"
   ]
  },
  {
   "cell_type": "code",
   "execution_count": 3,
   "metadata": {},
   "outputs": [
    {
     "name": "stderr",
     "output_type": "stream",
     "text": [
      "E:\\Anaconda\\envs\\tensorflow\\lib\\site-packages\\ipykernel_launcher.py:1: DeprecationWarning: count is deprecated. Use Collection.count_documents instead.\n",
      "  \"\"\"Entry point for launching an IPython kernel.\n"
     ]
    },
    {
     "data": {
      "text/plain": [
       "1898"
      ]
     },
     "execution_count": 3,
     "metadata": {},
     "output_type": "execute_result"
    }
   ],
   "source": [
    "collection.find({'created_at':{'$regex':'Sun Mar 29'}, 'full_text':{'$regex':'New York'}}).count()"
   ]
  },
  {
   "cell_type": "code",
   "execution_count": 4,
   "metadata": {},
   "outputs": [
    {
     "name": "stderr",
     "output_type": "stream",
     "text": [
      "E:\\Anaconda\\envs\\tensorflow\\lib\\site-packages\\ipykernel_launcher.py:1: DeprecationWarning: count is deprecated. Use Collection.count_documents instead.\n",
      "  \"\"\"Entry point for launching an IPython kernel.\n"
     ]
    },
    {
     "data": {
      "text/plain": [
       "106"
      ]
     },
     "execution_count": 4,
     "metadata": {},
     "output_type": "execute_result"
    }
   ],
   "source": [
    "collection.count_documents({'created_at':{'$regex':'Sun Mar 29'}, 'full_text':{'$regex':'Social distancing'}})"
   ]
  },
  {
   "cell_type": "code",
   "execution_count": 5,
   "metadata": {},
   "outputs": [
    {
     "data": {
      "text/plain": [
       "1020"
      ]
     },
     "execution_count": 5,
     "metadata": {},
     "output_type": "execute_result"
    }
   ],
   "source": [
    "collection.count_documents({'created_at':{'$regex':'Sun Mar 29'}, 'full_text':{'$regex':'Prime Minister'}})"
   ]
  },
  {
   "cell_type": "code",
   "execution_count": 7,
   "metadata": {},
   "outputs": [
    {
     "data": {
      "text/plain": [
       "782"
      ]
     },
     "execution_count": 7,
     "metadata": {},
     "output_type": "execute_result"
    }
   ],
   "source": [
    "collection.count_documents({'created_at':{'$regex':'Sun Mar 29'}, 'full_text':{'$regex':'stay home'}})"
   ]
  },
  {
   "cell_type": "code",
   "execution_count": 6,
   "metadata": {},
   "outputs": [
    {
     "name": "stderr",
     "output_type": "stream",
     "text": [
      "E:\\Anaconda\\envs\\tensorflow\\lib\\site-packages\\ipykernel_launcher.py:1: DeprecationWarning: count is deprecated. Use Collection.count_documents instead.\n",
      "  \"\"\"Entry point for launching an IPython kernel.\n"
     ]
    },
    {
     "data": {
      "text/plain": [
       "205"
      ]
     },
     "execution_count": 6,
     "metadata": {},
     "output_type": "execute_result"
    }
   ],
   "source": [
    "collection.find({'created_at':{'$regex':'Sun Mar 29'}, 'full_text':{'$regex':'coronavirus pandemic'}}).count()"
   ]
  }
 ],
 "metadata": {
  "kernelspec": {
   "display_name": "Python 3",
   "language": "python",
   "name": "python3"
  },
  "language_info": {
   "codemirror_mode": {
    "name": "ipython",
    "version": 3
   },
   "file_extension": ".py",
   "mimetype": "text/x-python",
   "name": "python",
   "nbconvert_exporter": "python",
   "pygments_lexer": "ipython3",
   "version": "3.6.9"
  }
 },
 "nbformat": 4,
 "nbformat_minor": 2
}
