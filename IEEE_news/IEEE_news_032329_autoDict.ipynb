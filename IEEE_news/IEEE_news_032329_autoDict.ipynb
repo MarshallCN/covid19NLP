{
 "cells": [
  {
   "cell_type": "markdown",
   "metadata": {},
   "source": [
    "# Import Modules"
   ]
  },
  {
   "cell_type": "code",
   "execution_count": 1,
   "metadata": {},
   "outputs": [
    {
     "name": "stdout",
     "output_type": "stream",
     "text": [
      "CPU numbers: 32\n"
     ]
    }
   ],
   "source": [
    "import re\n",
    "import numpy as np \n",
    "import pandas as pd \n",
    "import matplotlib.pyplot as plt  \n",
    "import nltk\n",
    "from nltk.tokenize import sent_tokenize, word_tokenize\n",
    "# nltk.download('stopwords')\n",
    "# nltk.download('punkt')\n",
    "# nltk.download('averaged_perceptron_tagger')\n",
    "from tqdm import tqdm\n",
    "from nltk.corpus import stopwords\n",
    "import pickle\n",
    "import os\n",
    "from langdetect import detect # slow detecting language\n",
    "\n",
    "import multiprocessing as mp\n",
    "import numpy as np\n",
    "import time\n",
    "print('CPU numbers:',mp.cpu_count())\n",
    "def _apply_df(args):\n",
    "    df, func, kwargs = args\n",
    "    return df.apply(func, **kwargs)\n",
    "\n",
    "def apply_by_multiprocessing(df, func, **kwargs):\n",
    "#     print(kwargs)\n",
    "    workers = kwargs.pop('workers')\n",
    "    pool = mp.Pool(processes=workers)\n",
    "    result = pool.map(_apply_df, [(d, func, kwargs) for d in np.array_split(df, workers)])\n",
    "    pool.close()\n",
    "    return pd.concat(list(result))\n",
    "#apply_by_multiprocessing(fullset['Text'], processText, workers=cores)\n",
    "\n",
    "from nltk.corpus import wordnet\n",
    "def lemmaWord(word):\n",
    "    lemma = wordnet.morphy(word)\n",
    "    if lemma is not None:\n",
    "        return lemma\n",
    "    else:\n",
    "        return word\n",
    "# def processText(text,lemma=False, gram=1):\n",
    "#     text = re.sub(r'(https|http)?:\\/\\/(\\w|\\.|\\/|\\?|\\=|\\&|\\%)*\\b|@\\w+|#', '', text, flags=re.MULTILINE) #delete URL, # , and @xxx\n",
    "#     tokens = word_tokenize(text)\n",
    "#     whitelist = [\"n't\", \"not\", \"no\"]\n",
    "#     tokens = [lemmaWord(i.lower()) if lemma else i.lower() for i in tokens if (i.lower() not in stopwordEn or i.lower() in whitelist) and i.isalpha()]\n",
    "#     if gram<=1:\n",
    "#         return tokens\n",
    "#     else:\n",
    "#         return [i for i in nltk.ngrams(tokens, gram)]\n",
    "# New Filter    \n",
    "def sub_ent(i,length):\n",
    "    p = float(i/length) #频率作为概率\n",
    "    logp = np.log2(p)\n",
    "    return -1 * p * logp\n",
    "def calc_ent(x):\n",
    "    if x is not None:\n",
    "        x_dict = pd.Series(x).value_counts()\n",
    "        return x_dict.apply(sub_ent, length=len(x)).sum()\n",
    "\n",
    "stopwordEn = stopwords.words('english')\n",
    "stopwordEn.extend(['amp'])\n",
    "whitelist = [\"n't\", \"not\", \"no\"]\n",
    "# deprecated old version\n",
    "# def prepareText(i,lemma=False, gram=1):\n",
    "#     i = re.sub(r'(https|http)?:\\/\\/(\\w|\\.|\\/|\\?|\\=|\\&|\\%)*\\b|@\\w+|#', '', i, flags=re.MULTILINE) #delete URL, # , and @xxx\n",
    "#     if len(i) > 5: # delete tweet contains less than 5 characters\n",
    "#         samples = int(len(i)* 0.2)                                 # sampling 20% characters\n",
    "#         random5 = np.random.choice(len(i)-1,replace=False, size=samples if samples > 5 or len(i) else 5) # at least 5 samples\n",
    "#         # if less than 50% sampled character is not English charater, delete the tweets \n",
    "#         if sum([1 if (i[s] >= u'\\u0041' and i[s] <= u'\\u005a') or (i[s] >= u'\\u0061' and i[s] <= u'\\u007a') or i[s].isdigit() or i[s].isspace() else 0 for s in random5]) > samples/2 :\n",
    "# #             if detect(i)=='en': #slow but accuracte language detect\n",
    "#                 tokens = word_tokenize(i)\n",
    "#                 tokens = [lemmaWord(i.lower()) if lemma else i.lower() for i in tokens if (i.lower() not in stopwordEn or i.lower() in whitelist) and i.isalpha()]\n",
    "#                 if gram>1: tokens = [i for i in nltk.ngrams(tokens, gram)]\n",
    "#                 if len(tokens) > 3: # 2.0 text entropy for 4 different words\n",
    "#                     entropy = calc_ent(tokens)\n",
    "#                     if entropy > 2:\n",
    "#                         return tokens #, entropy"
   ]
  },
  {
   "cell_type": "code",
   "execution_count": 16,
   "metadata": {},
   "outputs": [],
   "source": [
    "#使用MP直接从df提取，直接创建2g wc图\n",
    "# dates = [23,24,25,26,27,28,29]\n",
    "# for d in dates:\n",
    "#     with open('df_03{}_news.pickle'.format(d), 'rb') as handle:\n",
    "#         df = pickle.load(handle)\n",
    "#     all_words = []\n",
    "    \n",
    "#     for i in apply_by_multiprocessing(df['text'], processText, workers=32):\n",
    "#         all_words.extend(i)\n",
    "        \n",
    "#     words_dict = nltk.FreqDist(all_words)\n",
    "#     with open('./data_0323_29/all_words_{}.pickle'.format(d), 'wb') as handle:\n",
    "#         pickle.dump(all_words, handle, protocol=pickle.HIGHEST_PROTOCOL)\n",
    "#     with open('./data_0323_29/words_dict_{}.pickle'.format(d), 'wb') as handle:\n",
    "#         pickle.dump(words_dict, handle, protocol=pickle.HIGHEST_PROTOCOL)\n",
    "        \n",
    "#     print(\"{} Mar data length:{}, all words count:{}, word dict length:{}\".format(d,len(df),len(all_words),len(words_dict)))\n",
    "    \n",
    "#     wordcloud = WordCloud(max_font_size=200, width=2000,height=1000, min_font_size=20, max_words=2000, background_color=\"white\").generate_from_frequencies(words_dict)\n",
    "#     wordcloud.to_file('./data_0323_29/03{}.png'.format(d))\n",
    "    \n",
    "#     wordcloud = WordCloud(max_font_size=200, width=2000,height=1000, min_font_size=20, max_words=2000, background_color=\"white\").generate(' '.join(all_words))\n",
    "#     wordcloud.to_file('./data_0323_29/03{}_2g.png'.format(d))\n",
    "#     with open('./data_0323_29/words_dict_2G_03{}.pickle'.format(d),'wb') as handle:\n",
    "#         pickle.dump(wordcloud.words_, handle)        "
   ]
  },
  {
   "cell_type": "code",
   "execution_count": 3,
   "metadata": {},
   "outputs": [
    {
     "name": "stdout",
     "output_type": "stream",
     "text": [
      "23 Mar@ all words count:33856945, word dict length:264150, word 2g dict length:5000\n",
      "24 Mar@ all words count:36777573, word dict length:278018, word 2g dict length:5000\n",
      "25 Mar@ all words count:38490079, word dict length:279959, word 2g dict length:5000\n",
      "26 Mar@ all words count:37681729, word dict length:284943, word 2g dict length:5000\n",
      "27 Mar@ all words count:35276626, word dict length:282825, word 2g dict length:5000\n",
      "28 Mar@ all words count:21789286, word dict length:212762, word 2g dict length:5000\n",
      "29 Mar@ all words count:13412168, word dict length:162712, word 2g dict length:5000\n"
     ]
    }
   ],
   "source": [
    "# 小写先前all_words数据，直接生成字典，再创建图\n",
    "dates = [23,24,25,26,27,28,29]\n",
    "TOP_COMMON_2G = 5000\n",
    "for d in tqdm(dates):\n",
    "    with open('./data_0323_29/news_all_words_03{}.pickle'.format(d), 'rb') as handle:\n",
    "        all_words = pickle.load(handle)\n",
    "    all_words = [i.lower() for i in all_words]\n",
    "    words_dict = nltk.FreqDist(all_words)\n",
    "    words_dict_2g_tuple = nltk.FreqDist(nltk.ngrams(all_words, 2))\n",
    "    words_dict_2g =  nltk.FreqDist()\n",
    "    for k,v in words_dict_2g_tuple.most_common(TOP_COMMON_2G):\n",
    "        words_dict_2g[' '.join(k)] = v\n",
    "    print(\"{} Mar@ all words count:{}, word dict length:{}, word 2g dict length:{}\".format(d,len(all_words),len(words_dict),len(words_dict_2g_tuple)))\n",
    "    del(all_words)\n",
    "    with open('./data_032329_new/words_dict_03{}.pickle'.format(d), 'wb') as handle:\n",
    "        pickle.dump(words_dict, handle, protocol=pickle.HIGHEST_PROTOCOL)\n",
    "    with open('./data_032329_new/words_dict_2g_03{}.pickle'.format(d), 'wb') as handle:\n",
    "        pickle.dump(words_dict_2g, handle, protocol=pickle.HIGHEST_PROTOCOL)\n",
    "    wordcloud = WordCloud(max_font_size=200, width=2000,height=1000, min_font_size=20, max_words=2000, background_color=\"white\").generate_from_frequencies(words_dict)\n",
    "    wordcloud.to_file('./data_032329_new/03{}.png'.format(d))\n",
    "    wordcloud = WordCloud(max_font_size=200, width=2000,height=1000, min_font_size=20, max_words=2000, background_color=\"white\").generate_from_frequencies(words_dict_2g)\n",
    "    wordcloud.to_file('./data_032329_new/03{}_2g.png'.format(d))"
   ]
  },
  {
   "cell_type": "code",
   "execution_count": 3,
   "metadata": {},
   "outputs": [
    {
     "name": "stderr",
     "output_type": "stream",
     "text": [
      "\r",
      "  0%|          | 0/7 [00:00<?, ?it/s]"
     ]
    },
    {
     "name": "stdout",
     "output_type": "stream",
     "text": [
      "23 Mar@ all words count:30068890, word dict length:264131, word 2g dict length:6921792\n"
     ]
    },
    {
     "name": "stderr",
     "output_type": "stream",
     "text": [
      "\r",
      " 14%|█▍        | 1/7 [03:21<20:08, 201.42s/it]"
     ]
    },
    {
     "name": "stdout",
     "output_type": "stream",
     "text": [
      "24 Mar@ all words count:32873300, word dict length:278009, word 2g dict length:7444859\n"
     ]
    },
    {
     "name": "stderr",
     "output_type": "stream",
     "text": [
      "\r",
      " 29%|██▊       | 2/7 [07:05<17:21, 208.21s/it]"
     ]
    },
    {
     "name": "stdout",
     "output_type": "stream",
     "text": [
      "25 Mar@ all words count:34053091, word dict length:279950, word 2g dict length:7832270\n"
     ]
    },
    {
     "name": "stderr",
     "output_type": "stream",
     "text": [
      "\r",
      " 43%|████▎     | 3/7 [10:45<14:07, 211.84s/it]"
     ]
    },
    {
     "name": "stdout",
     "output_type": "stream",
     "text": [
      "26 Mar@ all words count:33579034, word dict length:284929, word 2g dict length:7910980\n"
     ]
    },
    {
     "name": "stderr",
     "output_type": "stream",
     "text": [
      "\r",
      " 57%|█████▋    | 4/7 [14:16<10:34, 211.40s/it]"
     ]
    },
    {
     "name": "stdout",
     "output_type": "stream",
     "text": [
      "27 Mar@ all words count:31489693, word dict length:282809, word 2g dict length:7546628\n"
     ]
    },
    {
     "name": "stderr",
     "output_type": "stream",
     "text": [
      "\r",
      " 71%|███████▏  | 5/7 [17:31<06:53, 206.68s/it]"
     ]
    },
    {
     "name": "stdout",
     "output_type": "stream",
     "text": [
      "28 Mar@ all words count:19590224, word dict length:212742, word 2g dict length:5049507\n"
     ]
    },
    {
     "name": "stderr",
     "output_type": "stream",
     "text": [
      "\r",
      " 86%|████████▌ | 6/7 [19:36<03:02, 182.16s/it]"
     ]
    },
    {
     "name": "stdout",
     "output_type": "stream",
     "text": [
      "29 Mar@ all words count:12063547, word dict length:162708, word 2g dict length:3522504\n"
     ]
    },
    {
     "name": "stderr",
     "output_type": "stream",
     "text": [
      "100%|██████████| 7/7 [20:54<00:00, 179.20s/it]\n"
     ]
    }
   ],
   "source": [
    "# 从df数据开始,使用unique news，直接生成字典，再创建图 \n",
    "dates = [23,24,25,26,27,28,29]\n",
    "TOP_COMMON_2G = 5000\n",
    "for d in tqdm(dates):\n",
    "    with open('df_03{}_news.pickle'.format(d), 'rb') as handle:\n",
    "        df = pickle.load(handle)\n",
    "    all_words = []\n",
    "    for i in apply_by_multiprocessing(pd.Series(df['text'].unique()), processText, workers=32):\n",
    "        all_words.extend(i)\n",
    "    words_dict = nltk.FreqDist(all_words)\n",
    "    words_dict_2g_tuple = nltk.FreqDist(nltk.ngrams(all_words, 2))\n",
    "    words_dict_2g =  nltk.FreqDist()\n",
    "    for k,v in words_dict_2g_tuple.most_common(TOP_COMMON_2G):\n",
    "        words_dict_2g[' '.join(k)] = v\n",
    "    print(\"{} Mar@ all words count:{}, word dict length:{}, word 2g dict length:{}\".format(d,len(all_words),len(words_dict),len(words_dict_2g_tuple)))\n",
    "    del(all_words)\n",
    "    with open('./data_032329_unique/words_dict_03{}.pickle'.format(d), 'wb') as handle:\n",
    "        pickle.dump(words_dict, handle, protocol=pickle.HIGHEST_PROTOCOL)\n",
    "    with open('./data_032329_unique/words_dict_2g_03{}.pickle'.format(d), 'wb') as handle:\n",
    "        pickle.dump(words_dict_2g, handle, protocol=pickle.HIGHEST_PROTOCOL)"
   ]
  },
  {
   "cell_type": "code",
   "execution_count": 48,
   "metadata": {},
   "outputs": [
    {
     "name": "stderr",
     "output_type": "stream",
     "text": [
      "\r",
      "  0%|          | 0/7 [00:00<?, ?it/s]"
     ]
    },
    {
     "name": "stdout",
     "output_type": "stream",
     "text": [
      "23 Mar@ all words count:28318896, word dict length:242521, word 2g dict length:5859012\n"
     ]
    },
    {
     "name": "stderr",
     "output_type": "stream",
     "text": [
      "\r",
      " 14%|█▍        | 1/7 [02:27<14:47, 147.92s/it]"
     ]
    },
    {
     "name": "stdout",
     "output_type": "stream",
     "text": [
      "24 Mar@ all words count:30944697, word dict length:255948, word 2g dict length:6279475\n"
     ]
    },
    {
     "name": "stderr",
     "output_type": "stream",
     "text": [
      "\r",
      " 29%|██▊       | 2/7 [05:09<12:40, 152.03s/it]"
     ]
    },
    {
     "name": "stdout",
     "output_type": "stream",
     "text": [
      "25 Mar@ all words count:32031190, word dict length:257481, word 2g dict length:6595441\n"
     ]
    },
    {
     "name": "stderr",
     "output_type": "stream",
     "text": [
      "\r",
      " 43%|████▎     | 3/7 [07:57<10:27, 156.81s/it]"
     ]
    },
    {
     "name": "stdout",
     "output_type": "stream",
     "text": [
      "26 Mar@ all words count:31617380, word dict length:262402, word 2g dict length:6666166\n"
     ]
    },
    {
     "name": "stderr",
     "output_type": "stream",
     "text": [
      "\r",
      " 57%|█████▋    | 4/7 [10:42<07:58, 159.39s/it]"
     ]
    },
    {
     "name": "stdout",
     "output_type": "stream",
     "text": [
      "27 Mar@ all words count:29630899, word dict length:260485, word 2g dict length:6375924\n"
     ]
    },
    {
     "name": "stderr",
     "output_type": "stream",
     "text": [
      "\r",
      " 71%|███████▏  | 5/7 [13:19<05:16, 158.40s/it]"
     ]
    },
    {
     "name": "stdout",
     "output_type": "stream",
     "text": [
      "28 Mar@ all words count:18399016, word dict length:192861, word 2g dict length:4339955\n"
     ]
    },
    {
     "name": "stderr",
     "output_type": "stream",
     "text": [
      "\r",
      " 86%|████████▌ | 6/7 [14:59<02:20, 140.99s/it]"
     ]
    },
    {
     "name": "stdout",
     "output_type": "stream",
     "text": [
      "29 Mar@ all words count:11314617, word dict length:145074, word 2g dict length:3067302\n"
     ]
    },
    {
     "name": "stderr",
     "output_type": "stream",
     "text": [
      "100%|██████████| 7/7 [16:01<00:00, 137.42s/it]\n"
     ]
    }
   ],
   "source": [
    "# 从df数据开始,使用unique news，直接生成字典，再创建图, 去除stopwords, 使用lemma\n",
    "dates = [23,24,25,26,27,28,29]\n",
    "TOP_COMMON_2G = 5000\n",
    "for d in tqdm(dates):\n",
    "    with open('df_03{}_news.pickle'.format(d), 'rb') as handle:\n",
    "        df = pickle.load(handle)\n",
    "    all_words = []\n",
    "    for i in apply_by_multiprocessing(pd.Series(df['text'].unique()), processText, workers=32, lemma=True):\n",
    "        all_words.extend(i)\n",
    "    words_dict = nltk.FreqDist(all_words)\n",
    "    words_dict_2g_tuple = nltk.FreqDist(nltk.ngrams(all_words, 2))\n",
    "    words_dict_2g =  nltk.FreqDist()\n",
    "    for k,v in words_dict_2g_tuple.most_common(TOP_COMMON_2G):\n",
    "        words_dict_2g[' '.join(k)] = v\n",
    "    print(\"{} Mar@ all words count:{}, word dict length:{}, word 2g dict length:{}\".format(d,len(all_words),len(words_dict),len(words_dict_2g_tuple)))\n",
    "    del(all_words)\n",
    "    with open('./data_032329_unique/words_dict_03{}_lemma.pickle'.format(d), 'wb') as handle:\n",
    "        pickle.dump(words_dict, handle, protocol=pickle.HIGHEST_PROTOCOL)\n",
    "    with open('./data_032329_unique/words_dict_2g_03{}_lemma.pickle'.format(d), 'wb') as handle:\n",
    "        pickle.dump(words_dict_2g, handle, protocol=pickle.HIGHEST_PROTOCOL)"
   ]
  },
  {
   "cell_type": "markdown",
   "metadata": {},
   "source": [
    "# New filter"
   ]
  },
  {
   "cell_type": "code",
   "execution_count": 427,
   "metadata": {},
   "outputs": [],
   "source": [
    "def prepareNews(i,lemma=False, gram=1):\n",
    "    i = re.sub(r'(https|http)?:\\/\\/(\\w|\\.|\\/|\\?|\\=|\\&|\\%)*\\b|@\\w+|#', '', i, flags=re.MULTILINE) #delete URL, # , and @xxx\n",
    "    if len(i) > 50: # delete tweet contains less than 5 characters\n",
    "        samples = int(len(i)* 0.01)                   # sampling 1% characters\n",
    "#         size = int(len(i)* 0.01) if len(i)>1000 else 10\n",
    "        random_c = np.random.choice(len(i),replace=False, size=samples if samples > 5 else 5)\n",
    "        # if less than 50% sampled character is not English charater, delete the tweets \n",
    "        if sum([1 if (i[s] >= u'\\u0041' and i[s] <= u'\\u005a') or (i[s] >= u'\\u0061' and i[s] <= u'\\u007a') or i[s].isdigit() or i[s].isspace() else 0 for s in random_c]) > len(random_c)/2 :\n",
    "#             if detect(i)=='en': #slow but accuracte language detect\n",
    "\n",
    "                tokens = word_tokenize(i)\n",
    "                tokens = [lemmaWord(i.lower()) if lemma else i.lower() for i in tokens if (i.lower() not in stopwordEn or i.lower() in whitelist) and i.isalpha()]\n",
    "                if gram>1: tokens = [i for i in nltk.ngrams(tokens, gram)]\n",
    "                if len(tokens) > 10: # equals to 3.3 entropy\n",
    "                    entropy = calc_ent(tokens)\n",
    "                    if entropy > 5:\n",
    "                        return tokens #, entropy"
   ]
  },
  {
   "cell_type": "code",
   "execution_count": 378,
   "metadata": {},
   "outputs": [
    {
     "name": "stderr",
     "output_type": "stream",
     "text": [
      "/usr/local/lib/python3.6/dist-packages/ipykernel_launcher.py:56: DeprecationWarning: The default dtype for empty Series will be 'object' instead of 'float64' in a future version. Specify a dtype explicitly to silence this warning.\n"
     ]
    },
    {
     "data": {
      "text/plain": [
       "count    1000.000000\n",
       "mean        6.804233\n",
       "std         1.091333\n",
       "min         0.000000\n",
       "25%         6.378448\n",
       "50%         7.116779\n",
       "75%         7.558226\n",
       "max         8.684250\n",
       "dtype: float64"
      ]
     },
     "execution_count": 378,
     "metadata": {},
     "output_type": "execute_result"
    }
   ],
   "source": [
    "pd.Series([calc_ent(word_tokenize(i)) for i in df.text[:1000]]).describe()"
   ]
  },
  {
   "cell_type": "code",
   "execution_count": 379,
   "metadata": {},
   "outputs": [
    {
     "name": "stderr",
     "output_type": "stream",
     "text": [
      "/usr/local/lib/python3.6/dist-packages/ipykernel_launcher.py:56: DeprecationWarning: The default dtype for empty Series will be 'object' instead of 'float64' in a future version. Specify a dtype explicitly to silence this warning.\n"
     ]
    },
    {
     "data": {
      "text/plain": [
       "<matplotlib.axes._subplots.AxesSubplot at 0x7f73eff6eeb8>"
      ]
     },
     "execution_count": 379,
     "metadata": {},
     "output_type": "execute_result"
    },
    {
     "data": {
      "image/png": "[encoded data removed]",
      "text/plain": [
       "<matplotlib.figure.Figure at 0x7f73eff586a0>"
      ]
     },
     "metadata": {
      "needs_background": "light"
     },
     "output_type": "display_data"
    }
   ],
   "source": [
    "pd.Series([calc_ent(word_tokenize(i)) for i in df.text[:1000]]).plot.box()"
   ]
  },
  {
   "cell_type": "code",
   "execution_count": 387,
   "metadata": {},
   "outputs": [
    {
     "data": {
      "text/plain": [
       "count     1000.00000\n",
       "mean      2609.31400\n",
       "std       2365.92678\n",
       "min          1.00000\n",
       "25%        921.75000\n",
       "50%       2030.00000\n",
       "75%       3685.50000\n",
       "max      25811.00000\n",
       "dtype: float64"
      ]
     },
     "execution_count": 387,
     "metadata": {},
     "output_type": "execute_result"
    }
   ],
   "source": [
    "pd.Series([len(i) for i in df.text[:1000]]).describe()"
   ]
  },
  {
   "cell_type": "code",
   "execution_count": 345,
   "metadata": {},
   "outputs": [
    {
     "data": {
      "text/plain": [
       "['विज्ञापन Home › Himachal Pradesh › coronavirus: all industries except pharma and food processing will remain closed {\"_id\":\"5e788a218ebc3e72b32cf02e\",\"slug\":\"coronavirus-all-industries-except-pharma-and-food-processing-will-remain-closed\",\"type\":\"story\",\"status\": \"\\\\u0938\\\\u0940\\\\u0906\\\\u0908\\\\u0906\\\\u0908 \\\\u091a\\\\u0947\\\\u092f\\\\u0930\\\\u092e\\\\u0948\\\\u0928 \\\\u092c\\\\u094b\\\\u0932\\\\u0947- \\\\u092b\\\\u093e\\\\u0930\\\\u094d\\\\u092e\\\\u093e \\\\u0914\\\\u0930 \\\\u0916\\\\u093e\\\\u0926\\\\u094d\\\\u092f \\\\u092a\\\\u094d\\\\u0930\\\\u0938\\\\u0902\\\\u0938\\\\u094d\\\\u0915\\\\u0930\\\\u0923 \\\\u0915\\\\u0947 \\\\u0905\\\\u0932\\\\u093e\\\\u0935\\\\u093e \\\\u0938\\\\u092d\\\\u0940 \\\\u0909\\\\u0926\\\\u094d\\\\u092f\\\\u094b\\\\u0917 \\\\u0930\\\\u0939\\\\u0947\\\\u0902\\\\u0917\\\\u0947 \\\\u092c\\\\u0902\\\\u0926\",\"category\":{\"title\":\"City & states\",\"title_hn\":\"\\\\u0936\\\\u0939\\\\u0930 \\\\u0914\\\\u0930 \\\\u0930\\\\u093e\\\\u091c\\\\u094d\\\\u092f\",\"slug\":\"city-and-states\"}} सीआईआई चेयरमैन बोले- फार्मा और खाद्य प्रसंस्करण के अलावा सभी उद्योग रहेंगे बंद अमर उजाला नेटवर्क, नालागढ़ (सोलन) Updated Mon, 23 Mar 2020 03:36 PM IST विज्ञापन सीआईआई हिमाचल चैप्टर के चेयरमैन हरीश अग्रवाल ख़बर सुनें ख़बर सुनें हिमाचल के कांगड़ा के बाद प्रदेश के अन्य 11 जिलों में लॉकडाउन की मुख्यमंत्री की घोषणा का उद्योग जगत सहयोग करेगा। लॉकडाउन में फार्मा व खाद्य प्रसंस्करण से जुड़े उद्योग अपना काम करेंगे, जबकि अन्य सभी उद्योग बंद रहेंगे। सीआईआई हिमाचल चैप्टर के चेयरमैन हरीश अग्रवाल ने कहा कि उद्योग संगठनों की सरकार से वार्ता होती रहती थी। सरकार के आदेशों के लिए उद्योग पहले से तैयार थे। उद्योग जगत लॉकडाउन में पूरा समर्थन देगा। फार्मा व खाद्य प्रसंस्करण से जुड़े उद्योग काम करेंगे। कामगारों की सुरक्षा के प्रति भी पुख्ता प्रबंध करेंगे। कहा कि उद्योग प्रबंधन अपनी ओर से हरसंभव बचाव के उपाय अपना रहे हैं। उन्होंने कामगारों, कर्मचारियों सहित उद्योग प्रबंधकों व आम लोगों से आह्वान किया कि वे अपनी सुरक्षा का स्वयं भी ख्याल रखें। भीड़ एकत्रित न होने दें। हाथों को साबुन से अच्छी तरह धोएं। सैनिटाइजर की नियमित रूप से व्यवस्था करें और खांसी व बुखार होने की सूरत में तुरंत चिकित्सीय परामर्श लें। बाहर से आए लोग सूचना स्वास्थ्य विभाग को दें। यदि कारणवश कोई न दे सके तो इनके आसपड़ोस के लोग इसकी सूचना प्रशासन व पुलिस सहित स्वास्थ्य विभाग को दें। हिमाचल के कांगड़ा के बाद प्रदेश के अन्य 11 जिलों में लॉकडाउन की मुख्यमंत्री की घोषणा का उद्योग जगत सहयोग करेगा। लॉकडाउन में फार्मा व खाद्य प्रसंस्करण से जुड़े उद्योग अपना काम करेंगे, जबकि अन्य सभी उद्योग बंद रहेंगे। सीआईआई हिमाचल चैप्टर के चेयरमैन हरीश अग्रवाल ने कहा कि उद्योग संगठनों की सरकार से वार्ता होती रहती थी। सरकार के आदेशों के लिए उद्योग पहले से तैयार थे। उद्योग जगत लॉकडाउन में पूरा समर्थन देगा। फार्मा व खाद्य प्रसंस्करण से जुड़े उद्योग काम करेंगे। विज्ञापन कामगारों की सुरक्षा के प्रति भी पुख्ता प्रबंध करेंगे। कहा कि उद्योग प्रबंधन अपनी ओर से हरसंभव बचाव के उपाय अपना रहे हैं। उन्होंने कामगारों, कर्मचारियों सहित उद्योग प्रबंधकों व आम लोगों से आह्वान किया कि वे अपनी सुरक्षा का स्वयं भी ख्याल रखें। भीड़ एकत्रित न होने दें। हाथों को साबुन से अच्छी तरह धोएं। सैनिटाइजर की नियमित रूप से व्यवस्था करें और खांसी व बुखार होने की सूरत में तुरंत चिकित्सीय परामर्श लें। बाहर से आए लोग सूचना स्वास्थ्य विभाग को दें। यदि कारणवश कोई न दे सके तो इनके आसपड़ोस के लोग इसकी सूचना प्रशासन व पुलिस सहित स्वास्थ्य विभाग को दें। विज्ञापन',\n",
       " 'Авто Первые случаи смерти от COVID-19 зафиксированы в Колумбии, Косово, Румынии и на Гуаме',\n",
       " \"कोरोना काउंट अगली स्टोरी कोरोना वायरस से लड़ने वाले योद्धाओं के लिए ताली बजाते हुए इमोशनल हुईं सपना चौधरी, देखें वीडियो कोरोना वायरस से लड़ने वाले योद्धाओं के लिए ताली बजाते हुए इमोशनल हुईं सपना चौधरी, देखें वीडियो Mon, 23 Mar 2020 06:23 AM रविवारशाम 5जेपूरेदेशनेअपनेघरसेताली, थालीऔरशंखबजाकरकोरोनावायरससेलड़नेवालेयोद्धाओंकोशुक्रियाकिया।हरियाणाकीक्वीनसपनाचौधरीनेभीतालीबजाकरसबकोधन्यवादकहा।लेकिनवहइसदौरानइमोशनलहोगईं।सपनानेवीडियोशेयरकियाहै।वीडियोकेशुरुआतमेंहीवहअपनेआंसूपोंछतेहुएनजरआईं।सपनानेवीडियोशेयरकरतेहुएलिखा, 'बुरेसमयमेंभीकुछअच्छाईहोतीहै।गर्वहैहमेंएकताऔरअंखड़तापर।' Mar 22, 2020 at 5:17am PDT सगाईकोलेकरआईंसुर्खियोंमें.... अभीकुछदिनोंपहलेऐसीखबरेंआईंकिसपनानेसगाईकरलीहै।रिपोर्ट्सकेमुताबिकसपनानेहरियाणाकेसिंगरऔरएक्टरवीरसाहूसेशादीकरली।हालांकिइसबारेमेंदोनोंमेंसेकिसीनेऑफिशयलअनाउंसमेंटनहींकीहै।लेकिनकाफीदिनोंसेसपनाऔरवीरसाहूकेरिलेशनकीखबरेंवायरलहोरहीहैं। बतादेंकिकुछदिनोंपहलेएकइंटरव्यूकेदौरानसपनानेकहाथा, 'वीरसाफदिलकेइंसानहैं।हमदोनोंपहलीबार 2015-16 मेंएकअवॉर्डशोमेंहुईथी।जबमैंनेपहलीबारवीरकोदेखाथातोमुझेलगाथाकिवहबहुतखडूसहैं।फिरहमदूसरेअवॉर्डशोमेंमिले।हालांकिउसवक्तभीड़ज्यादाहोनेकीवजहसेहमारीबातचीतनहींहोपाईथी।'\\nहेमामालिनीनेशंखबजाकरकोरोनासेलड़नेवालेयोद्धाओंकोकियाशुक्रिया, देखेंवीडियो\\nसपनानेबतायाथा, 'इसकेबादजबहमतीसरीबारमिलेतोहमारीथोड़ीबातचीतहुई।मैंनेसोचाकिहमदोनोंएकहीइंडस्ट्रीसेहैंतोहमदोनोंकोबातकरनीचाहिए।इसकेबादहमबातकरनेलगेऔरएकदूसरेकोसमझनेभीलगे।' वहींवीरनेभीएकइंटरव्यूमेंकहाथाकिसपनाउनकेलिएसपनानहींहैं।बतादेंकिवीरकोहरियाणाकाबब्बूमानकहाजाताहै। janta curfew sapna choudhary get emotional while clapping for corona virus fighter\",\n",
       " 'विज्ञापन Home › Delhi › Delhi NCR › coronavirus lockdown: temples and parks are closed but crowd in grocery stores {\"_id\":\"5e787d848ebc3e6fc0262ec6\",\"slug\":\"coronavirus-lockdown-temples-and-parks-are-closed-but-crowd-in-grocery-stores\",\"type\":\"feature-story\",\"status\":\"publish\",\"title_hn\":\"Coronavirus: \\\\u092e\\\\u0902\\\\u0926\\\\u093f\\\\u0930\\\\u094b\\\\u0902-\\\\u092a\\\\u093e\\\\u0930\\\\u094d\\\\u0915\\\\u094b \\\\u0915\\\\u0947 \\\\u0917\\\\u0947\\\\u091f \\\\u092a\\\\u0930 \\\\u0932\\\\u0917\\\\u0947 \\\\u0924\\\\u093e\\\\u0932\\\\u0947, \\\\u0915\\\\u093f\\\\u0930\\\\u093e\\\\u0928\\\\u093e \\\\u0926\\\\u0941\\\\u0915\\\\u093e\\\\u0928\\\\u094b\\\\u0902 \\\\u092a\\\\u0930 \\\\u092d\\\\u0940\\\\u0921\\\\u093c, \\\\u092e\\\\u0939\\\\u0902\\\\u0917\\\\u0940 \\\\u0939\\\\u0941\\\\u0908\\\\u0902 \\\\u0938\\\\u092c\\\\u094d\\\\u091c\\\\u093f\\\\u092f\\\\u093e\\\\u0902\",\"category\":{\"title\":\"City & states\",\"title_hn\":\"\\\\u0936\\\\u0939\\\\u0930 \\\\u0914\\\\u0930 \\\\u0930\\\\u093e\\\\u091c\\\\u094d\\\\u092f\",\"slug\":\"city-and-states\"}} Coronavirus: मंदिरों-पार्को के गेट पर लगे ताले, किराना दुकानों पर भीड़, महंगी हुईं सब्जियां अमित शर्मा, अमर उजाला, नई दिल्ली Updated Mon, 23 Mar 2020 03:53 PM IST विज्ञापन Sanjay Jheel - फोटो : Amar Ujala ख़बर सुनें ख़बर सुनें कोरोना वायरस के संक्रमण को कम करने के लिए दिल्ली सहित अनेक राज्यों में लॉक डाउन की घोषणा हो चुकी है। वहीं दिल्ली में लॉक डाउन के पहले दिन बहुत कम संख्या में लोग सड़कों पर उतरे। लोगों ने खुद को घरों में कैद करके रखा हुआ है और मंदिरों से लेकर पार्कों तक में सन्नाटा बिखरा पड़ा है। सड़कों पर आवाजाही भी बेहद कम हो रही है। इस बीच जरूरी चीजों की खरीदारी में काफी बढ़ोतरी देखी गई। मोहल्लों की किराना दुकानों पर लोगों की भारी भीड़ दिखाई पड़ी। एमसीडी इंस्पेक्टर कर रहे प्रचार केंद्र सरकार ने राज्यों को एडवाइजरी जारी कर रखी है कि लॉक डाउन के नियमों का सख्ती से पालन किया जाए। जो इसका ठीक से पालन न करे, उसके साथ सख्ती से पेश आया जाए। इस कड़े रुख को देखते हुए सभी सरकारी मशीनरी कोरोना संक्रमण के खतरे के बारे में लोगों को जागरूक करने के लिए सक्रिय हो गई हैं। दिल्ली के तीनों नगर निगमों ने अपने इंस्पेक्टर्स को लाउड स्पीकर लगाकर लोगों को कोरोना के खतरे की जानकारी, बचाव के उपाय और सरकार की तरफ से दी जा रही सहायता की जानकारी उपलब्ध कराने का निर्देश दिया है। पूर्वी दिल्ली नगर निगम के इंस्पेक्टर प्रदीप ने अमर उजाला को बताया कि उनके सभी साथियों को कोरोना के संक्रमण की जानकारी देने को कहा गया है। सड़क, चौराहे या गलियों में जहां भी पांच से ज्यादा लोग एक जगह इकट्ठे दिखाई पड़ रहे हैं, वे लोगों को इसके बारे में जागरूक कर रहे हैं। बैंकों के मैसेज- अलर्ट रहें कोरोना के प्रति सभी सरकारी विभागों से लेकर प्राइवेट संस्थान तक लोगों को कोरोना के खतरे से आगाह कर रहे हैं। जागरूकता के लिए प्राइवेट बैंकों तक के संदेश लोगों के पास आ रहे हैं। बैंक अपने संदेशों में कोरोना के खतरे के साथ-साथ यह भी बता रहे हैं कि उनकी शाखाएं किस प्रकार कम कर्मचारियों के साथ काम कर रही हैं, लेकिन ग्राहकों को कोई परेशानी नहीं होने दी जाएगी। कुछ बैंकों ने इसके बारे में समय में बदलाव भी किया है। मंदिर-पार्क सूने लॉक डाउन की स्थिति में लोगों ने अपने आपको घरों में सीमित कर रखा है। लोग घरों से बहुत जरूरी कामों के लिए ही बाहर निकल रहे हैं। यही वजह है कि मंदिर और पार्क जैसे पब्लिक स्थान भी पूरी तरह सूनसान हो गये हैं। कुछ पार्कों में ताले लटक रहे हैं, तो मंदिरों के कपाट भी नहीं खुले हैं। राशन की दुकानों पर भीड़, महंगी हुईं सब्जियां केंद्र और राज्य सरकारों के कई बार के आश्वासन के बाद भी \\'पैनिक बाईंग\\' का असर अभी भी लोगों पर दिख रहा है। लोग अपनी जरूरत से ज्यादा सामान खरीद रहे हैं। हालांकि, राशन की दुकानों पर किसी चीज के दाम में कोई अप्रत्याशित वृद्धि नहीं की गई है। हालांकि सब्जियों के दामों में काफी उछाल दर्ज किया गया है। सार कोरोना वायरस के संक्रमण के खतरे को बताने फील्ड में उतरे एमसीडी के इंस्पेक्टर राशन के दामों में बढ़ोतरी नहीं, लेकिन सब्जियां के भाव आसमान पर विस्तार कोरोना वायरस के संक्रमण को कम करने के लिए दिल्ली सहित अनेक राज्यों में लॉक डाउन की घोषणा हो चुकी है। वहीं दिल्ली में लॉक डाउन के पहले दिन बहुत कम संख्या में लोग सड़कों पर उतरे। लोगों ने खुद को घरों में कैद करके रखा हुआ है और मंदिरों से लेकर पार्कों तक में सन्नाटा बिखरा पड़ा है। सड़कों पर आवाजाही भी बेहद कम हो रही है। इस बीच जरूरी चीजों की खरीदारी में काफी बढ़ोतरी देखी गई। मोहल्लों की किराना दुकानों पर लोगों की भारी भीड़ दिखाई पड़ी। विज्ञापन MCD Inspectors - फोटो : Amar Ujala एमसीडी इंस्पेक्टर कर रहे प्रचार केंद्र सरकार ने राज्यों को एडवाइजरी जारी कर रखी है कि लॉक डाउन के नियमों का सख्ती से पालन किया जाए। जो इसका ठीक से पालन न करे, उसके साथ सख्ती से पेश आया जाए। इस कड़े रुख को देखते हुए सभी सरकारी मशीनरी कोरोना संक्रमण के खतरे के बारे में लोगों को जागरूक करने के लिए सक्रिय हो गई हैं। दिल्ली के तीनों नगर निगमों ने अपने इंस्पेक्टर्स को लाउड स्पीकर लगाकर लोगों को कोरोना के खतरे की जानकारी, बचाव के उपाय और सरकार की तरफ से दी जा रही सहायता की जानकारी उपलब्ध कराने का निर्देश दिया है। पूर्वी दिल्ली नगर निगम के इंस्पेक्टर प्रदीप ने अमर उजाला को बताया कि उनके सभी साथियों को कोरोना के संक्रमण की जानकारी देने को कहा गया है। सड़क, चौराहे या गलियों में जहां भी पांच से ज्यादा लोग एक जगह इकट्ठे दिखाई पड़ रहे हैं, वे लोगों को इसके बारे में जागरूक कर रहे हैं। Close Temple - फोटो : Amar Ujala बैंकों के मैसेज- अलर्ट रहें कोरोना के प्रति सभी सरकारी विभागों से लेकर प्राइवेट संस्थान तक लोगों को कोरोना के खतरे से आगाह कर रहे हैं। जागरूकता के लिए प्राइवेट बैंकों तक के संदेश लोगों के पास आ रहे हैं। बैंक अपने संदेशों में कोरोना के खतरे के साथ-साथ यह भी बता रहे हैं कि उनकी शाखाएं किस प्रकार कम कर्मचारियों के साथ काम कर रही हैं, लेकिन ग्राहकों को कोई परेशानी नहीं होने दी जाएगी। कुछ बैंकों ने इसके बारे में समय में बदलाव भी किया है। मंदिर-पार्क सूने लॉक डाउन की स्थिति में लोगों ने अपने आपको घरों में सीमित कर रखा है। लोग घरों से बहुत जरूरी कामों के लिए ही बाहर निकल रहे हैं। यही वजह है कि मंदिर और पार्क जैसे पब्लिक स्थान भी पूरी तरह सूनसान हो गये हैं। कुछ पार्कों में ताले लटक रहे हैं, तो मंदिरों के कपाट भी नहीं खुले हैं। राशन की दुकानों पर भीड़, महंगी हुईं सब्जियां केंद्र और राज्य सरकारों के कई बार के आश्वासन के बाद भी \\'पैनिक बाईंग\\' का असर अभी भी लोगों पर दिख रहा है। लोग अपनी जरूरत से ज्यादा सामान खरीद रहे हैं। हालांकि, राशन की दुकानों पर किसी चीज के दाम में कोई अप्रत्याशित वृद्धि नहीं की गई है। हालांकि सब्जियों के दामों में काफी उछाल दर्ज किया गया है। विज्ञापन विज्ञापन विज्ञापन\\nरहें हर खबर से अपडेट, डाउनलोड करें Android Hindi News App , iOS Hindi News App और Amarujala Hindi News APP अपने मोबाइल पे|Get all India News in Hindi related to live update of politics, sports, entertainment, technology and education etc. Stay updated with us for all breaking news from India News and more news in Hindi . विज्ञापन',\n",
       " 'ŘŞŘąŘ§Ů Ř¨: Ř§Ů\\x84Ů\\x88Ů\\x84Ř§Ů\\x8aŘ§ŘŞ Ř§Ů\\x84Ů ŘŞŘ\\xadŘŻŘŠ ŘŞŘ\\xadŘ´ŘŻ Ů\\x83Ů\\x84 Ů Ů\\x88Ř§ŘąŘŻŮ\\x87Ř§ Ů\\x84Ů Ů\\x83Ř§Ů\\x81Ř\\xadŘŠ... Ř§Ů\\x84ŘŞŘ§ŘąŮ\\x8aŘŽ : 23-03-2020 Ř§Ů\\x84Ů\\x88Ů\\x82ŘŞ : 12:31 AM ŘŞŘąŘ§Ů Ř¨: Ř§Ů\\x84Ů\\x88Ů\\x84Ř§Ů\\x8aŘ§ŘŞ Ř§Ů\\x84Ů ŘŞŘ\\xadŘŻŘŠ ŘŞŘ\\xadŘ´ŘŻ Ů\\x83Ů\\x84 Ů Ů\\x88Ř§ŘąŘŻŮ\\x87Ř§ Ů\\x84Ů Ů\\x83Ř§Ů\\x81Ř\\xadŘŠ \"Ř§Ů\\x84Ů\\x81Ů\\x8aŘąŮ\\x88Řł Ř§Ů\\x84ŘľŮ\\x8aŮ\\x86Ů\\x8a\" ŘąŮ - ŘŁŮ\\x83ŘŻ Ř§Ů\\x84ŘąŘŚŮ\\x8aŘł Ř§Ů\\x84ŘŁŮ ŘąŮ\\x8aŮ\\x83Ů\\x8aŘ\\x8c ŘŻŮ\\x88Ů\\x86Ř§Ů\\x84ŘŻ ŘŞŘąŘ§Ů Ř¨Ř\\x8c ŘŁŮ\\x86 ŘĽŘŻŘ§ŘąŘŞŮ\\x87 ŘŞŘ\\xadŘ´ŘŻ Ů\\x83Ů\\x84 Ř§Ů\\x84Ů Ů\\x88Ř§ŘąŘŻ Ř§Ů\\x84Ů ŘŞŘ§Ř\\xadŘŠ Ů\\x84Ů Ů\\x83Ř§Ů\\x81Ř\\xadŘŠ Ů\\x88Ř¨Ř§ŘĄ \\'COVID-19\\'Ř\\x8c Ř§Ů\\x84Ř°Ů\\x8a Ů\\x88ŘľŮ\\x81Ů\\x87 Ů Ů\\x86 ŘŹŘŻŮ\\x8aŘŻ Ř¨Ů\\x80\\'Ř§Ů\\x84Ů\\x81Ů\\x8aŘąŮ\\x88Řł Ř§Ů\\x84ŘľŮ\\x8aŮ\\x86Ů\\x8a\\' ŘąŘşŮ Ř§Ř\\xadŘŞŘŹŘ§ŘŹŘ§ŘŞ Ř¨Ů\\x83Ů\\x8aŮ\\x86.Ů\\x88Ů\\x82Ř§Ů\\x84 ŘŞŘąŘ§Ů Ř¨Ř\\x8c Ů\\x81Ů\\x8a Ů Ř¤ŘŞŮ Řą ŘľŘ\\xadŮ\\x81Ů\\x8a ŘšŮ\\x82ŘŻŮ\\x87 Ů ŘłŘ§ŘĄ Ř§Ů\\x84ŘŁŘ\\xadŘŻŘ\\x8c ŘĽŮ\\x86 \\'Ř§Ů\\x84Ů\\x88Ů\\x84Ř§Ů\\x8aŘ§ŘŞ Ř§Ů\\x84Ů ŘŞŘ\\xadŘŻŘŠ ŘŞŘ\\xadŘ´ŘŻ Ů\\x83Ů\\x84 Ů Ů\\x88Ř§ŘąŘŻŮ\\x87Ř§ Ů\\x84Ů Ů\\x83Ř§Ů\\x81Ř\\xadŘŠ Ř§Ů\\x84Ů\\x81Ů\\x8aŘąŮ\\x88Řł Ř§Ů\\x84ŘľŮ\\x8aŮ\\x86Ů\\x8a\\'Ř\\x8c Ů Ř¤Ů\\x83ŘŻŘ§ ŘŁŮ\\x86Ů\\x87 Ů\\x88Ř§Ů\\x81Ů\\x82 ŘšŮ\\x84Ů\\x89 ŘŞŮ\\x84Ř¨Ů\\x8aŘŠ ŘˇŮ\\x84Ř¨Ř§ŘŞ Ů\\x88Ů\\x84Ř§Ů\\x8aŘŞŮ\\x8a Ů\\x86Ů\\x8aŮ\\x88Ů\\x8aŮ\\x88ŘąŮ\\x83 Ů\\x88Ů\\x88Ř§Ř´Ů\\x86ŘˇŮ\\x86 Ů\\x84ŘĽŘąŘłŘ§Ů\\x84 Ů Ř˛Ů\\x8aŘŻ Ů Ů\\x86 Ř§Ů\\x84Ů ŘłŘ§ŘšŘŻŘ§ŘŞ Ř§Ů\\x84ŘšŘ§ŘŹŮ\\x84ŘŠ ŘĽŮ\\x84Ů\\x8aŮ\\x87Ů Ř§ Ů\\x88ŘŁŮ\\x86Ů\\x87 ŘłŮ\\x8aŘľŘ§ŘŻŮ\\x82 Ů\\x82ŘąŮ\\x8aŘ¨Ř§ ŘšŮ\\x84Ů\\x89 ŘˇŮ\\x84Ř¨ Ů\\x83Ř§Ů\\x84Ů\\x8aŮ\\x81Ů\\x88ŘąŮ\\x86Ů\\x8aŘ§.Ů\\x88ŘŞŘšŮ\\x87ŘŻ Ů\\x81Ů\\x8a Ů\\x87Ř°Ř§ Ř§Ů\\x84ŘłŮ\\x8aŘ§Ů\\x82 Ř¨ŘĽŘąŘłŘ§Ů\\x84 Ř§Ů\\x84ŘšŘŻŮ\\x8aŘŻ Ů Ů\\x86 Ř§Ů\\x84ŘĽŮ ŘŻŘ§ŘŻŘ§ŘŞ Ř§Ů\\x84ŘˇŘ¨Ů\\x8aŘŠ ŘĽŮ\\x84Ů\\x89 Ř§Ů\\x84Ů\\x88Ů\\x84Ř§Ů\\x8aŘ§ŘŞ Ř§Ů\\x84Ů ŘľŘ§Ř¨ŘŠŘ\\x8c Ů\\x83Ů Ř§ Ů\\x84Ů\\x81ŘŞ ŘĽŮ\\x84Ů\\x89 ŘŁŮ\\x86 ŘĽŘŻŘ§ŘąŘŞŮ\\x87 ŘŞŘšŮ Ů\\x84 Ř¨Ř´Ů\\x83Ů\\x84 Ů Ů\\x83ŘŤŮ\\x81 ŘšŮ\\x84Ů\\x89 ŘŻŘšŮ Ř§Ů\\x84Ř´ŘąŮ\\x83Ř§ŘŞ Ř§Ů\\x84Ů ŘŞŘśŘąŘąŘŠ ŘŹŘąŘ§ŘĄ Ř§Ů\\x84Ů\\x88Ř¨Ř§ŘĄ.Ů\\x88Ř´ŘŻŘŻ Ř§Ů\\x84ŘąŘŚŮ\\x8aŘł Ř§Ů\\x84ŘŁŮ ŘąŮ\\x8aŮ\\x83Ů\\x8a ŘšŮ\\x84Ů\\x89 ŘśŘąŮ\\x88ŘąŘŠ Ů ŘŞŘ§Ř¨ŘšŘŠ Ř§Ů\\x84Ů Ů\\x88Ř§ŘˇŮ\\x86Ů\\x8aŮ\\x86 Ů\\x84Ů\\x86ŘľŘ§ŘŚŘ\\xad Ř§Ů\\x84ŘłŮ\\x84ŘˇŘ§ŘŞ Ř§Ů\\x84Ů\\x81ŘŻŘąŘ§Ů\\x84Ů\\x8aŘŠ Ř¨Ř´ŘŁŮ\\x86 \\'Ř§Ů\\x84ŘŞŘ¨Ř§ŘšŘŻ Ř§Ů\\x84Ř§ŘŹŘŞŮ Ř§ŘšŮ\\x8a\\' Ů\\x84Ů\\x83Ř¨Ř\\xad Ř§Ů\\x86ŘŞŘ´Ř§Řą Ř§Ů\\x84Ů\\x81Ů\\x8aŘąŮ\\x88Řł.Ř§Ů\\x84Ů ŘľŘŻŘą: Ů\\x88Ů\\x83Ř§Ř§Ů\\x84ŘŞ ŘšŘŻŘŻ Ř§Ů\\x84Ů Ř´Ř§Ů\\x87ŘŻŘ§ŘŞ : ( 803 ) Ů\\x84Ř§ Ů\\x8aŮ\\x88ŘŹŘŻ ŘŞŘšŮ\\x84Ů\\x8aŮ\\x82Ř§ŘŞ Ř§Ů\\x84ŘŞŘłŘŹŮ\\x8aŮ\\x84 Ř§Ů\\x84ŘŻŘŽŮ\\x88Ů\\x84 ŘŞŮ\\x86Ů\\x88Ů\\x8aŮ\\x87 ŘŞŘŞŮ Ů ŘąŘ§ŘŹŘšŘŠ Ů\\x83Ř§Ů\\x81ŘŠ Ř§Ů\\x84ŘŞŘšŮ\\x84Ů\\x8aŮ\\x82Ř§ŘŞ Ř\\x8cŮ\\x88ŘŞŮ\\x86Ř´Řą Ů\\x81Ů\\x8a Ř\\xadŘ§Ů\\x84 Ř§Ů\\x84Ů Ů\\x88Ř§Ů\\x81Ů\\x82ŘŠ ŘšŮ\\x84Ů\\x8aŮ\\x87Ř§ Ů\\x81Ů\\x82Řˇ. Ů\\x88Ů\\x8aŘ\\xadŘŞŮ\\x81Ř¸ Ů Ů\\x88Ů\\x82Řš Ů\\x88Ů\\x83Ř§Ů\\x84ŘŠ ŘąŮ Ů\\x84Ů\\x84ŘŁŮ\\x86Ř¨Ř§ŘĄ - ŘŁŘŽŘ¨Ř§Řą ŘšŘ§ŘŹŮ\\x84ŘŠŘ\\x8c Ř˘ŘŽŘą Ř§Ů\\x84ŘŁŘŽŘ¨Ř§ŘąŘ\\x8c ŘľŮ\\x88Řą Ů\\x88Ů\\x81Ů\\x8aŘŻŮ\\x88Ů\\x87Ř§ŘŞ Ů\\x84Ů\\x84Ř\\xadŘŻŘŤ. Ř¨Ř\\xadŮ\\x82 Ř\\xadŘ°Ů\\x81 ŘŁŮ\\x8a ŘŞŘšŮ\\x84Ů\\x8aŮ\\x82 Ů\\x81Ů\\x8a ŘŁŮ\\x8a Ů\\x88Ů\\x82ŘŞ Ř\\x8cŮ\\x88Ů\\x84ŘŁŮ\\x8a ŘłŘ¨Ř¨ Ů\\x83Ř§Ů\\x86Ř\\x8cŮ\\x88Ů\\x84Ů\\x86 Ů\\x8aŮ\\x86Ř´Řą ŘŁŮ\\x8a ŘŞŘšŮ\\x84Ů\\x8aŮ\\x82 Ů\\x8aŘŞŘśŮ Ů\\x86 Ř§ŘłŘ§ŘĄŘŠ ŘŁŮ\\x88ŘŽŘąŮ\\x88ŘŹŘ§ ŘšŮ\\x86 Ř§Ů\\x84Ů Ů\\x88ŘśŮ\\x88Řš Ř§Ů\\x84Ů ŘˇŘąŮ\\x88Ř\\xad Ř\\x8cŘ§Ů\\x88 Ř§Ů\\x86 Ů\\x8aŘŞŘśŮ Ů\\x86 Ř§ŘłŮ Ř§ŘĄ Ř§Ů\\x8aŘŠ Ř´ŘŽŘľŮ\\x8aŘ§ŘŞ Ř§Ů\\x88 Ů\\x8aŘŞŮ\\x86Ř§Ů\\x88Ů\\x84 Ř§ŘŤŘ§ŘąŘŠ Ů\\x84Ů\\x84Ů\\x86ŘšŘąŘ§ŘŞ Ř§Ů\\x84ŘˇŘ§ŘŚŮ\\x81Ů\\x8aŘŠ Ů\\x88Ř§Ů\\x84Ů Ř°Ů\\x87Ř¨Ů\\x8aŘŠ Ř§Ů\\x88 Ř§Ů\\x84ŘšŮ\\x86ŘľŘąŮ\\x8aŘŠ Ř˘Ů Ů\\x84Ů\\x8aŮ\\x86 Ř§Ů\\x84ŘŞŮ\\x82Ů\\x8aŘŻ Ř¨Ů ŘłŘŞŮ\\x88Ů\\x89 ŘąŘ§Ů\\x82Ů\\x8a Ř¨Ř§Ů\\x84ŘŞŘšŮ\\x84Ů\\x8aŮ\\x82Ř§ŘŞ Ř\\xadŮ\\x8aŘŤ Ř§Ů\\x86Ů\\x87Ř§ ŘŞŘšŘ¨Řą ŘšŮ\\x86 Ů ŘŻŮ\\x89 ŘŞŮ\\x82ŘŻŮ Ů\\x88ŘŤŮ\\x82Ř§Ů\\x81ŘŠ Ř˛Ů\\x88Ř§Řą Ů Ů\\x88Ů\\x82Řš Ů\\x88Ů\\x83Ř§Ů\\x84ŘŠ ŘąŮ Ů\\x84Ů\\x84ŘŁŮ\\x86Ř¨Ř§ŘĄ - ŘŁŘŽŘ¨Ř§Řą ŘšŘ§ŘŹŮ\\x84ŘŠŘ\\x8c Ř˘ŘŽŘą Ř§Ů\\x84ŘŁŘŽŘ¨Ř§ŘąŘ\\x8c ŘľŮ\\x88Řą Ů\\x88Ů\\x81Ů\\x8aŘŻŮ\\x88Ů\\x87Ř§ŘŞ Ů\\x84Ů\\x84Ř\\xadŘŻŘŤ. ŘšŮ\\x84Ů Ř§ Ř§Ů\\x86 Ř§Ů\\x84ŘŞŘšŮ\\x84Ů\\x8aŮ\\x82Ř§ŘŞ ŘŞŘšŘ¨Řą ŘšŮ\\x86 ŘŁŘľŘ\\xadŘ§Ř¨Ů\\x87Ř§ Ů\\x81Ů\\x82Řˇ . ŘąŘŻ ŘšŮ\\x84Ů\\x89 : Ř§Ů\\x84ŘąŘŻ ŘšŮ\\x84Ů\\x89 ŘŞŘšŮ\\x84Ů\\x8aŮ\\x82 Ř§Ů\\x84Ř§ŘłŮ : Ř§Ů\\x84Ř¨ŘąŮ\\x8aŘŻ Ř§Ů\\x84Ř§Ů\\x84Ů\\x83ŘŞŘąŮ\\x88Ů\\x86Ů\\x8a : Ř§Ř¸Ů\\x87Ř§Řą Ř§Ů\\x84Ř¨ŘąŮ\\x8aŘŻ Ř§Ů\\x84Ř§Ů\\x84Ů\\x83ŘŞŘąŮ\\x88Ů\\x86Ů\\x8a Ř§Ů\\x84ŘŞŘšŮ\\x84Ů\\x8aŮ\\x82 : ŘąŮ Ř˛ Ř§Ů\\x84ŘŞŘ\\xadŮ\\x82Ů\\x82 : ŘŁŮ\\x83ŘŞŘ¨ Ř§Ů\\x84ŘąŮ Ř˛ : Ř§ŘśŘ§Ů\\x81ŘŠ',\n",
       " 'कोरोना काउंट अगली स्टोरी COVID-19: 170 देशों में 3 लाख से ज्यादा लोग कोरोना से संक्रमित, 35 देश पूरी तरह से लॉकडाउन COVID-19: 170 देशों में 3 लाख से ज्यादा लोग कोरोना से संक्रमित, 35 देश पूरी तरह से लॉकडाउन एएफपी,पेरिस Last updated: Sun, 22 Mar 2020 11:04 PM दुनियाभरके 170 देशोंमेंरविवारकोकोरोनावायरससेसंक्रमितलोगोंकीसंख्या 13,444 मौतोंकेसाथ 308,130 है।एएफपीनेआधिकारिकसूत्रोंकीमददसेकीगईगणनाकेअनुसारयहजानकारीदीहै।येआंकड़ेअंतरराष्ट्रीयसमयानुसाररविवार (22 मार्च) सुबह 11 बजेतककेहैं।भारतसहितदुनियाकेकईदेशोंमेंकोरोनावायरसकोफैलनेसेरोकनेलिएरविवार (22 मार्च) कोकरीबएकअरबलोगघरोंमेंबंदरहे। सबसेबुरीतरहसेप्रभावितइटलीमेंकारखानेबंदकरदिएगएहैं।इसमहामारीकेकारणदुनियाकेकरीब 35 मुल्कोंनेबंद (लॉकडाउन) कियाहै, जिससेजनजीवन, यात्राऔरकारोबारप्रभावितहुएहै।वहींसरकारेंसीमाएंबंदकरनेकोलेकरजद्दोजहदकररहीहैंऔरवायरसकीवजहसेआर्थिकमंदीसेबचनेकेलिएआपातकालीनउपायोंमेंअरबडॉलरलगारहीहैं।\\nकोरोनासेस्पेनमें 394 औरलोगोंकीमौत, अबतक 1720 नेगंवाईजान शनिवार (21 मार्च) कोअंतरराष्ट्रीयसमयानुसारशामसातबजेतकदुनियाभरमें 1,702 औरलोगोंकीमौतहुईऔर 28,674 नए मामलेसामनेआए।चीनमेंसबसेपहलेदिसम्बरमेंकोरोनावायरसकामामलासामनेआयाथा।चीनमेंकोरोनावायरसके 81,054 मामलेसामनेआए, जिसमें 3,261 लोगोंकीमौतभीशामिलहैं।इसमेंसे 72,244 लोगठीकहोगए।देशमेंशनिवारसे 46 नएमामलोंऔरछहलोगोंकीमौतहोनेकीजानकारीदीगई। इटलीमेंफरवरीमेंकोरोनावायरसकापहलामामलासामनेआयाथा।इटलीमेंवायरससेमरनेवालोंकीसंख्याचीनसेअधिकहोगईहै।इटलीमेंइससे 4,825 लोगोंकीमौतहुईऔरइससे 53,578 लोगसंक्रमितहुएऔर 6,072 लोगठीकहोगए।कोरोनावायरससेसबसेबुरीतरहसेप्रभावितदेशोंमेंतीसरेस्थानपरस्पेनहैजहां 1,720 लोगोंकीमौतहुईऔरइसकेसंक्रमणके 28,572 मामलेहैं। फ्रांसमेंअबतक 562 लोगोंकीमौतहुईऔरसंक्रमणकेमामलोंकीसंख्या 14,459 है।अमेरिकामेंइससे 340 लोगोंकीमौतहुईऔरसंक्रमणके 26,747 मामलेहै।शनिवार (21 मार्च) कीशामसातबजेसेकोसोवो, कोलंबिया, कांगोलोकतांत्रिकगणराज्य, रोमानिया, चिलीऔरसाइप्रसमेंकोरोनावायरससेपहलीमौतहुई।अंगोला, गाजा, पूर्वीतिमोर, युगांडाऔरइरीट्रियानेवायरसकेपहलेमामलेकीजानकारीदी। Coronavirus Over 3 Lakhs People Infected in 170 Nations 35 Country Fully Lockdown',\n",
       " 'Президент подписал разрешение использовать нацгвардию в трех штатах за счет федерального бюджета. всего: 172 новости',\n",
       " 'сегодня, 02:11 Страны не могут остановить распространение нового коронавируса только путем полного запрета передвижения внутри страны.',\n",
       " 'В целях недопущения распространения новой коронавирусной инфекции на территории Российской Федерации граждан, приезжающих из неблагополучных по COVID-19 стран, должна осуществляться изоляция (самоизоляция) в домашних условиях, сообщает ИА ЕАОMedia. всего: 570 новостей',\n",
       " 'कोरोना काउंट अगली स्टोरी COVID-19: यूरोप में कोरोना संक्रमण के मामले डेढ़ लाख के पार, 7000 से ज्यादा मौत COVID-19: यूरोप में कोरोना संक्रमण के मामले डेढ़ लाख के पार, 7000 से ज्यादा मौत लाइव हिंदुस्तान टीम,पेरिस Last updated: Sun, 22 Mar 2020 11:13 PM यूरोपमेंकोरोनावायरसकेमामलोंकीसंख्याडेढ़लाखकेपारपहुंचगईहै।इसमेंइटलीके 53,000 सेअधिकमामलेशामिलहैं।एएफपीकेआंकड़ेकेअनुसारकोरोनावायरसके 152,117 मामलोंमें 7,802 मौतेंभीशामिलहैं।यूरोपइसमहामारीसेसबसेअधिकप्रभावितमहाद्वीपहै।एशियामेंइसमहामारीकेघोषितमामलोंकीसंख्या 96,669 हैंजिसमें 3,479 मौतेंशामिलहैं। वहीं, दुनियाभरके 170 देशोंमेंरविवार (22 मार्च) कोकोरोनावायरससेसंक्रमितलोगोंकीसंख्या 13,444 मौतोंकेसाथ 308,130 है।एएफपीनेआधिकारिकसूत्रोंकीमददसेकीगईगणनाकेअनुसारयहजानकारीदीहै।येआंकड़ेअंतरराष्ट्रीयसमयानुसाररविवार (22 मार्च) सुबह 11 बजेतककेहैं। BREAKING coronavirus infections in Europe top 150,000: AFP tally pic.twitter.com/T3ZMYXBRmV — AFP news agency () March 22, 2020 शनिवार (21 मार्च) कोअंतरराष्ट्रीयसमयानुसारशामसातबजेतकदुनियाभरमें 1,702 औरलोगोंकीमौतहुईऔर 28,674 नयेमामलेसामनेआए।चीनमेंसबसेपहलेदिसम्बरमेंकोरोनावायरसकामामलासामनेआयाथा।चीनमेंकोरोनावायरसके 81,054 मामलेसामनेआए, जिसमें 3,261 लोगोंकीमौतभीशामिलहैं।इसमेंसे 72,244 लोगठीकहोगए।देशमेंशनिवारसे 46 नएमामलोंऔरछहलोगोंकीमौतहोनेकीजानकारीदीगई।\\nकोरोनासेस्पेनमें 394 औरलोगोंकीमौत, अबतक 1720 नेगंवाईजान इटलीमेंफरवरीमेंकोरोनावायरसकापहलामामलासामनेआयाथा।इटलीमेंवायरससेमरनेवालोंकीसंख्याचीनसेअधिकहोगईहै।इटलीमेंइससे 4,825 लोगोंकीमौतहुईऔरइससे 53,578 लोगसंक्रमितहुएऔर 6,072 लोगठीकहोगए।कोरोनावायरससेसबसेबुरीतरहसेप्रभावितदेशोंमेंतीसरेस्थानपरस्पेनहैजहां 1,720 लोगोंकीमौतहुईऔरइसकेसंक्रमणके 28,572 मामलेहैं।\\nकोरोनासेईरानमेंमरनेवालोंकीसंख्या 1600 केपार, 21 हजारसेज्यादालोगसंक्रमित फ्रांसमेंअबतक 562 लोगोंकीमौतहुईऔरसंक्रमणकेमामलोंकीसंख्या 14,459 है।अमेरिकामेंइससे 340 लोगोंकीमौतहुईऔरसंक्रमणके 26,747 मामलेहै।शनिवार (21 मार्च) कीशामसातबजेसेकोसोवो, कोलंबिया, कांगोलोकतांत्रिकगणराज्य, रोमानिया, चिलीऔरसाइप्रसमेंकोरोनावायरससेपहलीमौतहुई।अंगोला, गाजा, पूर्वीतिमोर, युगांडाऔरइरीट्रियानेवायरसकेपहलेमामलेकीजानकारीदी। Coronavirus infections in Europe top 150000 Death Toll Over 7000 Due To Covid19',\n",
       " ' : एक घंटे में 23 बार से ज्यादा चेहरे को छूते हैं हम, ज्यादातर लोग दोहराते हैं ये दो गलतियां कोरोना वायरस : एक घंटे में 23 बार से ज्यादा चेहरे को छूते हैं हम, ज्यादातर लोग दोहराते हैं ये दो गलतियां लाइव हिन्दुस्तान टीम ,नई 01:18 AM\\nकोरोनावायरससेबचनेकेलिएहमकितनीहीसावधानियोंकोअपनारहेहैंलेकिनइनसावधानियोंकेबीचकुछबातेंऐसीहैं, जिसेहमनजरअंदाजकरबैठतेहैं।जैसे, हमबार-बारहाथतोधोरहेहैंलेकिनहमचेहरेकोबार-बारनहींधोपाते।ऐसेमेंहाथोंकीतुलनामेंचेहरेकाज्यादाख्यालरखाजानाचाहिएक्योंकिहाथोंकोबार-बारधोयाजासकताहैलेकिनचेहरेकोनहीं।ऐसेमेंबार-बारचेहरेकोछूनाहमारेहाथोंऔरचेहरेदोनोंकेलिएखतरनाकहै।\\nएकघंटेमें 23 बारछूतेहैंचेहरा अतंरराष्ट्रीयमेडिकलपत्रिकाएनसीबाआईमेंछपेएकशोधमेंखुलासाहुआहैकिहमहरघंटेलगभग 23 बारअपनाचेहराछूतेहैं।कुछलोगहरघंटेइससेज्यादाबारभीचेहरेपरजाने-अनजानेहाथफेरलेतेहैं।इसीपत्रिकामेंकीदूसरीशोधमेंबतायागयाहैकिहमएकघंटे 15 बारअपनीउंगलियोंकोनाककेभीतरलेजातेहैं।सबसेहैरानकरनेवालीबातयेहैकिजाने-अनजाने 90 फीसदीलोगचेहरे, नाक, मुंहयाआंखोंकोहरघंटेलगातारछूतेहैं।\\nआपकाहाथकररहाहैमददकोरोनावायरसफैलानेमेंमदद विश्वस्वास्थ्यसंगठन (WHO) कीचीफसाइंटिस्टडॉसौम्यास्वामीनाथनकाकहनाहैकिकोरोनावायरससेबचावकेलिएहाथोंकोअपनेचेहरेसेदूररखनाबहुतजरूरीहै।दरअसल 80 फीसदीलोगोंकेहाथोंमेंबैक्टीरियायावायरसहोताहै, ऐसेमेंजबभीकोईव्यक्तिअपनेउंगलियोंसेचेहरेकोछूताहैतोसंक्रमणकाखतराबढ़जाताहै।डॉ।स्वामीनाथनकाकहनाहैकिकोरोनावायरससंक्रमणकेइसघड़ीमेंबार-बारहाथोंकोधोतेरहनाहीबचावकासबसेप्रभावीतरीकाहै। corona virus alert we touch our face more than 23 times within one hour according to study',\n",
       " 'The coronavirus has taken a huge toll on human life. It also has trashed the global economy and will no doubt leave behind gallons of red ink in its wake. But not all industries are negatively impacted. In fact, some have been so busy since the beginning of the pandemic that they are actually looking to hire more people. One of these businesses is food and grocery delivery; with people told to stay inside, firms like Uber Eats, Shipt and Instacart are desperately seeking warm bodies to shop and deliver orders. This is a companion discussion topic for the original entry at -ceo-says-networks-are-stressed-as-mobile-volumes-soar_id123191',\n",
       " 'कोरोना काउंट अगली स्टोरी हिंदी न्यूज़ › मनोरंजन › Coronavirus: सेल्फ आइसोलेशन के दौरान बोल्ड अवतार में दिखीं एमी जैक्सन, फोटोज सोशल मीडिया पर वायरल Coronavirus: सेल्फ आइसोलेशन के दौरान बोल्ड अवतार में दिखीं एमी जैक्सन, फोटोज सोशल मीडिया पर वायरल लाइव हिन्दुस्तान टीम,नई दिल्ली 01:43 PM पूरीदुनियाइससमयकोरोनावायरससेडरीहुईहै।इसवायरससेबचनेकेलिएसभीनेघरसेबाहरनिकलाबंदकरदियाहै।सभीसेल्फआइसोलेशनपरहैं।एमीजैक्सनभीइनदिनोंपरिवारकेसाथटाइमस्पेंडकररहीहैं।वहअपनेबेटेऔरपेटकेसाथएंजॉयकररहीहैं।इसकेसाथहीउन्होंनेअपनीकुछफोटोजशेयरकीहैंजोसोशलमीडियापरकाफीवायरलहोरहीहै।इनफोटोजमेंएमीनेब्लूकलरकाआउटफिटपहनाहुआहैजिसमेंवहकाफीहॉटलगरहीहैं।',\n",
       " 'कोरोना काउंट अगली स्टोरी COVID-19: इटली में 651 और लोगों की मौत, कोरोना से अब तक 5500 की जानें गईं; कुल मामला 59,138 COVID-19: इटली में 651 और लोगों की मौत, कोरोना से अब तक 5500 की जानें गईं; कुल मामला 59,138 एएफपी,रोम Last updated: Sun, 22 Mar 2020 11:28 PM इटलीमेंरविवार (22 मार्च) को 651 औरसंक्रमितोंकीमौतहोगई।इसकेसाथहीकोरोनावायरससंक्रमणसेमौतकेमामलेमेंइटलीदुनियामेंकरीब 5500 मौतोंकेसाथसबसेऊपरपहुंचगयाहै।कोरोनावायरससंक्रमणसेशनिवारकोहुई 793 मौतोंकेमुकाबलेरविवारकोकमलोगोंकीजानगई।वहीं, कुलसंक्रमितोंकाआंकड़ा 10.4 प्रतिशतकीउछालकेसाथ 59,138 तकपहुंचगया।इटलीमेंइसवायरससेअबतककुल 5,476 लोगोंकीमौतहोचुकीहै। वहीं, दुनियाभरके 170 देशोंमेंरविवारकोकोरोनावायरससेसंक्रमितलोगोंकीसंख्या 13,444 मौतोंकेसाथ 308,130 है।एएफपीनेआधिकारिकसूत्रोंकीमददसेकीगईगणनाकेअनुसारयहजानकारीदीहै।येआंकड़ेअंतरराष्ट्रीयसमयानुसाररविवार (22 मार्च) सुबह 11 बजेतककेहैं।भारतसहितदुनियाकेकईदेशोंमेंकोरोनावायरसकोफैलनेसेरोकनेलिएरविवार (22 मार्च) कोकरीबएकअरबलोगघरोंमेंबंदरहे।\\nकोरोनासेस्पेनमें 394 औरलोगोंकीमौत, अबतक 1720 नेगंवाईजान सबसेबुरीतरहसेप्रभावितइटलीमेंकारखानेबंदकरदिएगएहैं।इसमहामारीकेकारणदुनियाकेकरीब 35 मुल्कोंनेबंद (लॉकडाउन) कियाहै, जिससेजनजीवन, यात्राऔरकारोबारप्रभावितहुएहै।वहींसरकारेंसीमाएंबंदकरनेकोलेकरजद्दोजहदकररहीहैंऔरवायरसकीवजहसेआर्थिकमंदीसेबचनेकेलिएआपातकालीनउपायोंमेंअरबडॉलरलगारहीहैं। शनिवार (21 मार्च) कोअंतरराष्ट्रीयसमयानुसारशामसातबजेतकदुनियाभरमें 1,702 औरलोगोंकीमौतहुईऔर 28,674 नए मामलेसामनेआए।चीनमेंसबसेपहलेदिसम्बरमेंकोरोनावायरसकामामलासामनेआयाथा।चीनमेंकोरोनावायरसके 81,054 मामलेसामनेआए, जिसमें 3,261 लोगोंकीमौतभीशामिलहैं।इसमेंसे 72,244 लोगठीकहोगए।देशमेंशनिवारसे 46 नएमामलोंऔरछहलोगोंकीमौतहोनेकीजानकारीदीगई। Coronavirus Italy reports 651 new virus death toll nears 5500',\n",
       " 'विज्ञापन Home › Business › Corporate › corona virus effect indian automobile facing tough time productions stops till 31st {\"_id\":\"5e78a0188ebc3e760d18ebff\",\"slug\":\"corona-virus-effect-indian-automobile-facing-tough-time-productions-stops-till-31st\",\"type\":\"story\",\"status\": \"\\\\u0915\\\\u094b\\\\u0930\\\\u094b\\\\u0928\\\\u093e\\\\u0935\\\\u093e\\\\u092f\\\\u0930\\\\u0938 \\\\u0915\\\\u0947 \\\\u0916\\\\u094c\\\\u092b \\\\u0938\\\\u0947 \\\\u092c\\\\u0902\\\\u0926 \\\\u0939\\\\u0941\\\\u090f \\\\u0907\\\\u0928 \\\\u0915\\\\u0902\\\\u092a\\\\u0928\\\\u093f\\\\u092f\\\\u094b\\\\u0902 \\\\u0915\\\\u0947 \\\\u0915\\\\u093e\\\\u0930\\\\u0916\\\\u093e\\\\u0928\\\\u0947\\\\u0902, \\\\u0907\\\\u0924\\\\u0928\\\\u0947 \\\\u0926\\\\u093f\\\\u0928\\\\u094b\\\\u0902 \\\\u0924\\\\u0915 \\\\u0928\\\\u0939\\\\u0940\\\\u0902 \\\\u092c\\\\u0928\\\\u0947\\\\u0902\\\\u0917\\\\u0947 \\\\u0915\\\\u093e\\\\u0930 \\\\u0914\\\\u0930 \\\\u092c\\\\u093e\\\\u0907\\\\u0915\\\\u094d\\\\u0938\",\"category\":{\"title\":\"Corporate\",\"title_hn\":\"\\\\u0915\\\\u0949\\\\u0930\\\\u092a\\\\u094b\\\\u0930\\\\u0947\\\\u091f\",\"slug\":\"corporate\"}} कोरोनावायरस के खौफ से बंद हुए इन कंपनियों के कारखानें, इतने दिनों तक नहीं बनेंगे कार और बाइक्स बिजनेस डेस्क, अमर उजाला, नई दिल्ली Updated Mon, 23 Mar 2020 05:10 PM IST विज्ञापन Car Plant and Factory - फोटो : सांकेतिक ख़बर सुनें ख़बर सुनें कोरोना वायरस दुनियाभर के 200 से भी ज्यादा देशों में फैल चुका है। इसने अर्थव्यवस्था को भी बहुत बड़ा झटका दिया है। ऐसे में दुनियाभर के शेयर बाजार लगातार क्रैश हो रहे हैं। भारत की अर्थव्यवस्था भी अब कोरोनावारस की चपेट में आ गई है। दरअसल कोरोनावायर महामारी के चलते कई जगहों पर काम पूरी तरह से बंद हो चुका है। ऐसे में मारुति सुजूकी (Maruti Suzuki -MSI), महिन्द्रा एण्ड महिन्द्रा (Mahindra & Mahindra) और होंडा कार्स (Honda Cars ) जैसी कई बड़ी कार कंपनियों ने अपने कारखानों में प्रोडक्शन बंद कर दिया है। इसलिए बंद हुए ये कारखाने दुनियाभर में कोरोना वायरस का संक्रमण तेजी से फैल रहा है। ऐसे में सरकार और प्रशासन लोगों को घरों में रहने के लिए कह रही है। ऐसे में एहतियाती कदम उठाते हुए इन कंपनियों ने कुछ समय के लिये कारखानों को बंद रखने का फैसला किया है। इन कंपनियों ने बंद किए कारखानें देश की सबसे बड़ी कार कंपनी मारुति सुजूकी इंडिया ने अपने गुड़गांव और मानेसर कारखानों में तुरंत प्रभाव से प्रोडक्शन को बंद कर दिया है। वहीं होंडा कार्स इंडिया लिमिटेड (HCIL) ने 31 मार्च तक देश में अपने दो कारखानों के प्रोडक्शन को रोक दिया है। वहीं, महिन्द्रा एण्ड महिन्द्रा (M&M) ने भी महाराष्ट्र में अगले आदेश तक अपने प्रोडक्शन को बंद कर दिया है। निलंबित रखने की घोषणा की है। वहीं, Fiat ने भी भारत में अपने कारखानों में कामकाज को इस महीने के अंत तक बंद कर दिया है। एमजी मोटर इंडिया (MG Motor) ने कहा है कि उसके हलोल (गुजरात) कारखाने में 25 मार्च तक प्रोडक्शन बंद रहेगा। दोपहिया प्रोडक्शन भी बंद हुआ दुनिया की सबसे बड़ी टू-व्हीलर निर्माता हीरो मोटो कार्प (Hero Motocorp) ने कोरोनावायरस के खतरे को देखते हुए अपना प्रोडक्शन बंद कर दिया है। वहीं, होंडा मोटरसाइकिल एण्ड स्कूटर इंडिया (HMSI) ने अपने सभी प्रोडक्शन कारखानों में कामकाज बंद कर दिया है। कोरोना वायरस दुनियाभर के 200 से भी ज्यादा देशों में फैल चुका है। इसने अर्थव्यवस्था को भी बहुत बड़ा झटका दिया है। ऐसे में दुनियाभर के शेयर बाजार लगातार क्रैश हो रहे हैं। भारत की अर्थव्यवस्था भी अब कोरोनावारस की चपेट में आ गई है। दरअसल कोरोनावायर महामारी के चलते कई जगहों पर काम पूरी तरह से बंद हो चुका है। ऐसे में मारुति सुजूकी (Maruti Suzuki -MSI), महिन्द्रा एण्ड महिन्द्रा (Mahindra & Mahindra) और होंडा कार्स (Honda Cars ) जैसी कई बड़ी कार कंपनियों ने अपने कारखानों में प्रोडक्शन बंद कर दिया है। विज्ञापन इसलिए बंद हुए ये कारखाने दुनियाभर में कोरोना वायरस का संक्रमण तेजी से फैल रहा है। ऐसे में सरकार और प्रशासन लोगों को घरों में रहने के लिए कह रही है। ऐसे में एहतियाती कदम उठाते हुए इन कंपनियों ने कुछ समय के लिये कारखानों को बंद रखने का फैसला किया है। इन कंपनियों ने बंद किए कारखानें देश की सबसे बड़ी कार कंपनी मारुति सुजूकी इंडिया ने अपने गुड़गांव और मानेसर कारखानों में तुरंत प्रभाव से प्रोडक्शन को बंद कर दिया है। वहीं होंडा कार्स इंडिया लिमिटेड (HCIL) ने 31 मार्च तक देश में अपने दो कारखानों के प्रोडक्शन को रोक दिया है। वहीं, महिन्द्रा एण्ड महिन्द्रा (M&M) ने भी महाराष्ट्र में अगले आदेश तक अपने प्रोडक्शन को बंद कर दिया है। निलंबित रखने की घोषणा की है। वहीं, Fiat ने भी भारत में अपने कारखानों में कामकाज को इस महीने के अंत तक बंद कर दिया है। एमजी मोटर इंडिया (MG Motor) ने कहा है कि उसके हलोल (गुजरात) कारखाने में 25 मार्च तक प्रोडक्शन बंद रहेगा। दोपहिया प्रोडक्शन भी बंद हुआ दुनिया की सबसे बड़ी टू-व्हीलर निर्माता हीरो मोटो कार्प (Hero Motocorp) ने कोरोनावायरस के खतरे को देखते हुए अपना प्रोडक्शन बंद कर दिया है। वहीं, होंडा मोटरसाइकिल एण्ड स्कूटर इंडिया (HMSI) ने अपने सभी प्रोडक्शन कारखानों में कामकाज बंद कर दिया है। विज्ञापन विज्ञापन सबसे विश्वसनीय हिंदी न्यूज़ वेबसाइट अमर उजाला पर पढ़ें कारोबार समाचार और बजट 2020 से जुड़ी ब्रेकिंग अपडेट। कारोबार जगत की अन्य खबरें जैसे पर्सनल फाइनेंस , लाइव प्रॉपर्टी न्यूज़ , लेटेस्ट बैंकिंग बीमा इन हिंदी, ऑनलाइन मार्केट न्यूज़, लेटेस्ट कॉरपोरेट समाचार और बाज़ार आदि से संबंधित ब्रेकिंग न्यूज़ । रहें हर खबर से अपडेट, डाउनलोड करें अमर उजाला हिंदी न्यूज़ APP अपने मोबाइल पर। विज्ञापन',\n",
       " '119072, г. Москва, Берсеневский пер., д. 2, стр. 1\\nСвидетельства о регистрации СМИ:\\nЭл № ФС77-55029 от 14 августа 2013 года, выдано Федеральной службой по надзору в сфере связи, информационных технологий и массовых коммуникаций (Роскомнадзор)\\nИА № ФС77-51367 от 23 ноября 2012 года, выдано Федеральной службой по надзору в сфере связи, информационных технологий и массовых коммуникаций (Роскомнадзор) Настоящий ресурс содержит материалы 18+ «Обвал цен на нефть и курса рубля в марте 2020» В Приамурье медики встретили самолёт из Вьетнама\\nБлаговещенск , 23 марта 2020 , 02:41 — REGNUM Медики и специалисты Роспотребназора в аэропорту города Благовещенска встретили самолёт из Вьетнама, на борту которого находился 241 гражданин России, сообщили корреспонденту ИА REGNUM в пресс-службе областного правительства.\\nЧитайте также: Более 240 человек добровольно сдали тест на COVID-19 в Приморье\\nКаждый из прибывших был подвергнут тепловизионному контролю и осмотру со стороны медиков, в результате чего было выявлено три человека с повышенной температурой. Этих людей доставили в Амурскую инфекционную больницу.\\n«Из числа прибывших 228 — амурчане, 13 человек — жители Приморского и Хабаровского краёв, а также Якутии и Удмуртии. Всем прибывшим выдано постановление главного государственного санитарного врача по Амурской области об изоляции по месту жительства», — сказано в сообщении.\\nКак сообщало ИА REGNUM , в Приморье более 240 человек прошли тест на коронавирус в добровольном порядке. История вопроса В конце декабря 2019 года китайские власти сообщили о вспышке пневмонии неизвестного происхождения в городе Ухань провинции Хубэй. Эксперты предварительно установили, что возбудителем заболевания стал новый тип коронавируса — 2019-nCoV. 11 марта 2020 года Всемирная Организация Здравоохранения объявила пандемию коронавируса COVID-19, который к этому моменту поразил 118 тысяч человек в 114 странах',\n",
       " 'Во Франции от коронавируса за сутки скончались 112 человек МИР Во Франции от коронавируса за сутки скончались 112 человек Общее число жертв коронавирусной инфекции выросло во Франции до 674-х. Шестая часть из них умерла за последние сутки. Сегодня 01.42 По числу жертв коронавируса Франция находится на пятом месте в мире Фото: ЕРА Во Франции за сутки от коронавирусной инфекции скончались 112 граждан. Об этом 22 марта сообщило Le Figaro . Количество жертв COVID-19 выросло в общей сложности до 674. За 24 часа с 14 459 до 16 018 увеличилось также число заражений. То есть за сутки коронавирус обнаружили у более чем 1,5 тыс. человек. В общей сложности во Франции с коронавирусной инфекцией госпитализировали 7240 граждан, состояние 1746-ти из заболевших оценивается как серьезное. Вспышка коронавирусной инфекции COVID-19 началась в декабре 2019 года в Китае. 11 марта Всемирная организация здравоохранения объявила распространение коронавируса пандемией . По данным американского Университета Джона Хопкинса на 22 марта, общее количество инфицированных в мире составляет более 310 тыс., умерло более 13 тыс. человек. По числу жертв коронавируса Франция находится на пятом месте в мире после Италии, Китая, Испании и Ирана.',\n",
       " 'मेन्यू विज्ञापन Home › World › Coronavirus in World Live Update Covid 19 cases in Italy Iran China Wuhan US France Pakistan Spain Germany UK Norway South Korea {\"_id\":\"5e78243b8ebc3e78b12b251a\",\"slug\":\"coronavirus-in-world-live-update-covid-19-cases-in-italy-iran-china-wuhan-us-france-pakistan-spain-germany-uk-norway-south-korea\",\"type\":\"story\",\"status\": \"Coronavirus World LIVE: \\\\u092a\\\\u093e\\\\u0915\\\\u093f\\\\u0938\\\\u094d\\\\u0924\\\\u093e\\\\u0928 \\\\u092e\\\\u0947\\\\u0902 \\\\u0915\\\\u094b\\\\u0930\\\\u094b\\\\u0928\\\\u093e \\\\u0938\\\\u0947 \\\\u0928\\\\u093f\\\\u092a\\\\u091f\\\\u0928\\\\u0947 \\\\u0915\\\\u0947 \\\\u0932\\\\u093f\\\\u090f \\\\u0938\\\\u0947\\\\u0928\\\\u093e \\\\u0924\\\\u0948\\\\u0928\\\\u093e\\\\u0924, \\\\u092a\\\\u093f\\\\u091b\\\\u0932\\\\u0947 24 \\\\u0918\\\\u0902\\\\u091f\\\\u094b\\\\u0902 \\\\u092e\\\\u0947\\\\u0902 \\\\u0938\\\\u094d\\\\u092a\\\\u0947\\\\u0928 \\\\u092e\\\\u0947\\\\u0902 462 \\\\u0915\\\\u0940 \\\\u092e\\\\u094c\\\\u0924\",\"category\":{\"title\":\"World\",\"title_hn\":\"\\\\u0926\\\\u0941\\\\u0928\\\\u093f\\\\u092f\\\\u093e\",\"slug\":\"world\"}} Coronavirus World LIVE: पाकिस्तान में कोरोना से निपटने के लिए सेना तैनात, पिछले 24 घंटों में स्पेन में 462 की मौत वर्ल्ड डेस्क, अमर उजाला Updated Mon, 23 Mar 2020 05:18 PM IST विज्ञापन पाकिस्तान में कोरोना को रोकने के लिए सेना तैनात - फोटो : PTI ख़बर सुनें ख़बर सुनें कोरोना वायरस का कहर दुनियाभर में बढ़ता ही जा रहा है। इस वायरस की वजह से दुनियाभर में 14 हजार 600 से ज्यादा लोगों की मौत हो चुकी है। दुनियाभर के 180 से ज्यादा देश इस वायरस की चपेट में हैं। इटली, स्पेन, फ्रांस और श्रीलंका के अलावा कई अमेरिकी राज्यों में पूरी तरह लॉकडाउन है। 35 देशों में करीब 90 करोड़ लोग अपने घरों में कैद हैं। कोरोना अपडेट्स:- कोरोना से निपटने के लिए पाकिस्तान के प्रमुख क्षेत्रों में सेना तैनात कोरोना वायरस से निपटने के लिए पाकिस्तान सरकार ने सेना के जवानों को इस्लामाबाद, पंजाब, सिंध, खैबर पखतूनख्वा, ब्लोचिस्तान, गिलगिट बाल्टिस्तान और पीओके में तैनात किया है। पाकिस्तान में कोरोना वायरस के 824 मामले सामने आए है, और इससे छह लोगों की मौत हुई है। स्पेन में मरने वालों की संख्या 2000 के पार कोरोना वायरस महामारी की वजह से स्पेन में मौत का आंकड़ा 2,182 तक पहुंच गया है। सरकार ने घोषणा की है कि पिछले 24 घंटों में 462 लोगों की जाने जा चुकी है। आने वाले समय में वैश्विक अर्थव्यवस्था को होगा नुकसान- ओईसीडी आर्थिक सहयोग और विकास संगठन (ओईसीडी) ने चेतावनी दी है कि कोरोनो वायरस महामारी से उबरने में दुनिया को कई साल लगेंगे। ओईसीडी के महासचिव एंजेल गुरिया ने कहा कि आर्थिक झटका पहले से ही वित्तीय संकट से बड़ा था। यह बात उन्होंने बीसीसी से बातचीत में कहा। पूरे ब्रिटेन में सोमवार को हजारों फास्ट फूड रेस्तरां बंद ईरान में महामारी से 127 लोगों की और मौत एएफपी समाचार एजेंसी के मुताबिक ईरान में कोरोना वायरस से 127 और लोगों की मौत हो गई है, जिसके बाद इस महामारी से मरने वालों लोगों का आंकड़ा 1812 पर पहुंच गया है। ताइवान में क्वारंटीन तोड़ने पर लगा भारी जुर्माना कोरोन वायरस से संक्रमित मरीजों को क्वारंटीन में रहने के लिए कहा गया है। मगर कई लोग इसका सख्ती से पालन नहीं कर रहे हैं। ऐसे में ताइवान में एक शख्स को क्वारंटीन तोड़ने पर भारी जुर्माना का सामना करना पड़ा है। उस पर 33,000 डॉलर (लगभग 26 लाख) का जुर्माना लगाया गया है। उस पर रात में क्वारंटीन तोड़कर क्ल्ब जाने का आरोप है। बताया जा रहा है कि वह आदमी दक्षिण पूर्व एशिया से लौटने के बाद दो सप्ताह के लिए क्वारंटीन में था। टीका लगाने वाला डॉक्टर पॉजिटिव, जर्मन चांसलर मर्केल क्वारंटीन कोरोना वायरस के खौफ के चलते जर्मन चांसलर एंजेला मर्केल को क्वारंटीन होना पड़ा है। हालांकि, अभी उनकी जांच नहीं हुई है। दरअसल, उन्होंने हाल ही में किसी डॉक्टर से टीका लगवाया था। बाद में पता चला कि वह डॉक्टर कोरोना पॉजिटिव था। इसकी जानकारी मिलते ही मर्केल एकांतवास में चली गईं। रविवार को कोरोना से बचाव के लिए उठाए जरूरी कदमों की जानकारी देने के लिए प्रेस कॉन्फ्रेंस कर रहीं मर्केल को उसके ठीक बाद डॉक्टर के पॉजिटिव होने की जानकारी दी गई। जापान के प्रधानमंत्री शिंजो आबे ने कहा है कि कोरोनो वायरस की महामारी के कारण टोक्यो ओलंपिक को स्थगित करना अनिवार्य हो सकता है। अंतरराष्ट्रीय ओलंपिक समिति पर बढ़ते दबाव के बाद उन्होंने सोमवार को माना कि कोविड-19 से खतरे को देखते हुए ओलंपिक को स्थगित करने पर फैसला किया जा सकता है। कोरोना वायरस महामारी के कारण दुनियाभर में 14,616 लोगों की मौत हो चुकी है। वहीं, चीन में सोमवार तक 89 फीसदी मरीज ठीक हो चुके हैं। चीन में पहला मामला दिसंबर में सामने आया था। तब से अब तक देश में संक्रमण के 81,093 केस सामने आ चुके हैं। अब तक 72,703 लोगों को अस्पताल से छुट्टी मिल चुकी है। इस समय 5,129 मरीज अस्पताल में भर्ती हैं। चीन में अब तक 3,270 लोगों की जान जा चुकी है। चीन के हेल्थ कमीशन ने सोमवार को यह जानकारी दी।\\nन्यूजीलैंड में पिछले 48 घंटे में कोरोना के मामलों में दोगुनी वृद्धि हुई है। सरकार बुधवार से लॉकडाउन की तैयारियों में जुट गई है। स्कूल, व्यवसायों और सामुदायिक सेवाओं में लगे लोगों को तैयारियों के लिए दो दिन का समय दिया गया है। देश में कोरोना के मामलों की संख्या 102 से ज्यादा हो गई है। अमेरिका में कोरोना वायरस से संक्रमित लोगों की संख्या 34,000 तक पहुंच गई है और 400 से ज्यादा लोगों की मौत हो चुकी है। हर तीन अमेरिकी लोगों में से एक को घर के भीतर रहने को कहा गया है। कोविड-19 के नए मामलों के आंकड़े रखने वाली वेबसाइट वर्ल्डोमीटर ने बताया कि रविवार शाम तक केंटुकी से रिपब्लिकन सांसद रेंड पॉल समेत 33,546 लोग कोरोना वायरस से संक्रमित थे। वहीं मृतकों की संख्या बढ़कर 419 हो गई है। इसी बीच व्हाइट हाउस में एक संवाददाता सम्मेलन में अमेरिका के राष्ट्रपति डोनाल्ड ट्रंप ने न्यूयॉर्क, कैलिफोर्निया और वाशिंगटन की कोरोना वायरस से बेहद प्रभावित स्थलों के रूप में पहचान की। राष्ट्रपति ने न्यूयॉर्क में नेशनल गार्ड की तैनाती को भी मंजूरी दे दी। चीन में सोमवार को स्थानीय स्तर पर जानलेवा कोरोना वायरस का कोई मामला सामने नहीं आया, लेकिन विदेशों से संक्रमित होकर आने वाले लोगों की संख्या 39 और बढ़ गई है। राष्ट्रीय स्वास्थ्य आयोग ने बताया कि वायरस से नौ और लोगों की मौत हुई है और ये सभी मौत सर्वाधिक प्रभावित वुहान में हुई। हॉलीवुड फिल्म निर्माता हार्वे वीनस्टीन को कोरोना वायरस से संक्रमित पाया गया है। अमेरिकी मीडिया ने यह खबर दी है। दुष्कर्म और यौन उत्पीड़न के दोष में वीनस्टीन को 23 साल कैद की सजा सुनाई गई है और वह फिलहाल उत्तरी न्यूयॉर्क प्रांत की जेल में है। वीनस्टीन के प्रवक्ता ने इस विषय पर मीडिया की खबर पर टिप्पणी करने से इनकार कर दिया। रेंड पॉल कोरोना वायरस से संक्रमित पहले अमेरिकी सांसद: अमेरिका में केंटकी के सांसद रेंड पॉल ने कहा है कि जांच में वह कोरोना वायरस से संक्रमित पाए गए हैं। रिपब्लिकन सांसद पॉल कोरोना वायरस से संक्रमित होने वाले अमेरिकी सीनेट के पहले सदस्य हैं। उन्होंने रविवार को ट्वीट किया कि वह अच्छा महसूस कर रहे हैं और पृथक हैं। अमेरिका में पिछले 24 घंटे में कोविड-19 के कारण 100 से अधिक लोगों की मौत सक्रिय मामलों में अमेरिका दूसरे नंबर पर : कुल 26382 सक्रिय मामलों के साथ अमेरिका विश्व में दूसरा सर्वाधिक संक्रमितों देश बन चुका है। उसने केवल 178 रोगियों का इलाज किया है। वहीं चीन में 5353 सक्रिय मामले ही बचे हैं, वह 72440 का इलाज कर चुका है और 3261 की मौत हुई। स्पेन में सर्वाधिक नए मामले : स्पेन में 3076 नए मामले मिले जो विश्व में सर्वाधिक है। यहां 1753 की मौत और 2125 के इलाज के बाद 24694 सक्रिय मामले हैं जो तीसरे सर्वाधिक हैं। इटली में अभी विश्व के सर्वाधिक 42681 सक्रिय मामले हैं। ट्रंप ने ऑटोमोबाइल कंपनियों से कहा, वेंटीलेटर बनाकर दिखाओ : अमेरिकी राष्ट्रपति डोनाल्ड ट्रंप ने फोर्ड, जनरल मोटर्स व टेस्ला ऑटोमोबाइल कंपनियों को वेंटीलेटर व अन्य उपकरण बनाने की अनुमति दी है। उन्हें प्रेरित करते हुए ट्वीट किया, ‘दिखा दो आप कितना अच्छा काम कर सकते हो।’ ब्रिटेन के शाही महल का एक कर्मचारी का टेस्ट पॉजिटिव मिला। हॉलीवुड अभिनेत्री सोफिया माइल्स के पिता की कोरोना से मौत। अमेरिकी उपराष्ट्रपति और उनकी पत्नी का टेस्ट निगेटिव। जापान ने विदेश की गैर जरूरी यात्रा से बचने की सलाह दी। फिलीपींस में छह और लोगों की मौत, मृतकों की संख्या 25 हुई। क्यूबा ने इटली भेजी डॉक्टरों व नर्सों की टीम। इस महामारी से इटली सबसे ज्यादा प्रभावित है, जहां शनिवार को करीब 793 लोगों की मौत के साथ यह आंकड़ा 4825 पहुंच गया। मलयेशिया में लॉक डाउन, सेना ने संभाला मोर्चा। प्रतिबंधों को लागू करने के लिए रविवार को राजधानी समेत तमाम शहरों में सेना उतार दी गई। दक्षिण पूर्व एशियाई देशों में मलयेशिया कोरोना से सबसे ज्यादा प्रभावित है। चीन में लगातार तीन दिन तक कोरोना संक्रमण का एक भी स्थानीय मामला सामने नहीं आने के बाद शनिवार को एक घरेलू मामला दर्ज किया गया। इसके अलावा बाहर से आए संक्रमित लोगों के 46 नए मामले सामने आए हैं।',\n",
       " 'NgĆ°áť\\x9di nghi nhiáť m Covid-19 khĂ´ng nĂŞn báť\\x8f qua cĂĄc triáť\\x87u cháťŠng váť\\x81 tiĂŞu hĂła 15:23 23/03/2020 (VietQ.vn) - Máť\\x99t nghiĂŞn cáťŠu máť\\x9bi Ä\\x91Ă˘y táťŤ cĂĄc nhĂ khoa háť\\x8dc Trung Quáť\\x91c Ä\\x91ĂŁ cháť\\x89 ra ráşąng cĂĄc triáť\\x87u cháťŠng váť\\x81 tiĂŞu hĂła cĹŠng cĂł tháť\\x83 khiáşżn ngĆ°áť\\x9di báť\\x87nh cĂł nguy cĆĄ báť\\x8b nhiáť m Covid-19. Covid-19 khiáşżn táťˇ phĂş nĂ o máşĽt nhiáť\\x81u tiáť\\x81n nháşĽt trong tuáş§n qua? ChĂşng ta Ä\\x91áť\\x81u biáşżt ráşąng cĂĄc triáť\\x87u cháťŠng pháť\\x95 biáşżn nháşĽt cáť§aÂ ngĆ°áť\\x9di báť\\x8b lĂ˘y nhiáť m COVID-19Â cho Ä\\x91áşżn tháť\\x9di Ä\\x91iáť\\x83m hiáť\\x87n táşĄi bao gáť\\x93m: ho khan, sáť\\x91t, khĂł tháť\\x9f. Tuy nhiĂŞn máť\\x9bi Ä\\x91Ă˘y, cĂĄc nhĂ nghiĂŞn cáťŠu cáşŁnh bĂĄo ráşąng cĂł nháťŻng triáť\\x87u cháťŠng khĂĄc Ă\\xadt pháť\\x95 biáşżn hĆĄn cĂł tháť\\x83 Ä\\x91ĂĄng chĂş Ă˝ hĆĄn cĂĄc bĂĄc sÄŠ táťŤng nghÄŠ: cháťŠng tiĂŞu cháşŁy. Máť\\x99t nghiĂŞn cáťŠu quan sĂĄt phĂ˘n tĂ\\xadch dáťŻ liáť\\x87u táťŤ dĂ˘n sáť\\x91 Ä\\x91a Ä\\x91iáť\\x83m táşĄi Trung Quáť\\x91c Ä\\x91Ć°áťŁc tháťąc hiáť\\x87n báť\\x9fi cĂĄc Ä\\x91iáť\\x81u tra viĂŞn thuáť\\x99c NhĂłmÂ chuyĂŞn gia Ä\\x91iáť\\x81u tráť\\x8b y táşż COVID-19Â táşĄi VĹŠ HĂĄn cĂ´ng báť\\x91 trĂŞn TáşĄp chĂ\\xad Gastroenterology cáť§a Máťš vĂ o ngĂ y 18/3 cho tháşĽy cĂĄc váşĽn Ä\\x91áť\\x81 tiĂŞu hĂła nhĆ° tiĂŞu cháşŁy, nĂ´n máť\\xada vĂ Ä\\x91au báťĽng xuáşĽt hiáť\\x87n khĂĄ nhiáť\\x81u áť\\x9f nháťŻng trĆ°áť\\x9dng háťŁp báť\\x87nh nhĂ˘n dĆ°ĆĄng tĂ\\xadnh váť\\x9bi COVID-19. Ä\\x90iáť\\x81u nĂ y trĆ°áť\\x9bc Ä\\x91Ă˘y chĂşng ta chĆ°a táťŤng nghÄŠ Ä\\x91áşżn, máť\\x99t náť\\xada sáť\\x91 ngĆ°áť\\x9di báť\\x8b lĂ˘y nhiáť m gáşˇp pháşŁi tĂŹnh tráşĄng trĂŞn. ThĂŞm vĂ o Ä\\x91Ăł, so váť\\x9bi nháťŻng ngĆ°áť\\x9di khĂ´ng cĂł váşĽn Ä\\x91áť\\x81 váť\\x81 Ä\\x91Ć°áť\\x9dng tiĂŞu hĂła, ngĆ°áť\\x9di cĂł báť\\x87nh váť\\x81 Ä\\x91Ć°áť\\x9dng tiĂŞu hĂła cĂł nguy cĆĄ táť\\xad vong cao hĆĄn khi nhiáť m COVID-19. Â NháťŻng ngĆ°áť\\x9di báť\\x8b nhiáť m Covid-19 cĹŠng cĂł dáşĽu hiáť\\x87u váť\\x81 báť\\x87nh tiĂŞu hĂła\\nCĂĄc nhĂ nghiĂŞn cáťŠuÂ Ä\\x91ĂŁ kháşŁo sĂĄt 204 trĆ°áť\\x9dng háťŁp máşŻc COVID-19 Ä\\x91áş§u tiĂŞn táşĄi 3 báť\\x87nh viáť\\x87n riĂŞng biáť\\x87t áť\\x9f VĹŠ HĂĄn váť\\x9bi tuáť\\x95i trung bĂŹnh cáť§a báť\\x87nh nhĂ˘n lĂ 54,9 tuáť\\x95i (107 nam vĂ 97 náťŻ). Theo Ä\\x91Ăł, háť\\x8d kháşłng Ä\\x91áť\\x8bnh cĂĄc triáť\\x87u cháťŠng hĂ´ háşĽp lĂ dáşĽu hiáť\\x87u pháť\\x95 biáşżn nháşĽt Ä\\x91áť\\x83 nháş\\xadn biáşżt ngĆ°áť\\x9di báť\\x8b lĂ˘y nhiáť m COVID-19, nhĆ°ng quan tráť\\x8dng hĆĄn cáşŁ, háť\\x8d nháş\\xadn tháşĽy cĂł táť\\x9bi 99/204 báť\\x87nh nhĂ˘n tham gia kháşŁo sĂĄt (48,5%) cĂł cĂĄc triáť\\x87u cháťŠng váť\\x81 tiĂŞu hĂła khi tĂŹnh tráşĄng báť\\x87nh xáşĽu Ä\\x91i theo tháť\\x9di gian.Â CĂł nháťŻng báť\\x87nh nhĂ˘n trong sáť\\x91 Ä\\x91Ăł cĂ˛n khĂ´ng cĂł cĂĄc triáť\\x87u cháťŠng váť\\x81 hĂ´ háşĽp dĂš dĆ°ĆĄng tĂ\\xadnh váť\\x9bi virus. BĂŞn cáşĄnh Ä\\x91Ăł, nháťŻng ngĆ°áť\\x9di cĂł triáť\\x87u cháťŠng liĂŞn quan Ä\\x91áşżn tiĂŞu hĂła, bao gáť\\x93m chĂĄn Ä\\x83n hoáşˇc Ä\\x83n khĂ´ng ngon (83,8% báť\\x87nh nhĂ˘n), tiĂŞu cháşŁy (29,3%), nĂ´n (0,8%) vĂ Ä\\x91au báťĽng (0,4%) cĹŠng cĂł â\\x80\\x9c káşżt quáşŁ lĂ˘m sĂ ng táť\\x93i táť\\x87 hĆĄn vĂ nguy cĆĄ táť\\xad vong cao hĆĄn so váť\\x9bi nháťŻng ngĆ°áť\\x9di khĂ´ng cĂł triáť\\x87u cháťŠng tiĂŞu hĂła â\\x80\\x9d, bĂĄc sÄŠ Brennan MR Spiegel, Ä\\x91áť\\x93ng Táť\\x95ng biĂŞn táş\\xadp TáşĄp chĂ\\xad TiĂŞu hĂła Máťš giáşŁi thĂ\\xadch trong bĂ i cĂ´ng báť\\x91 nghiĂŞn cáťŠu. Do tháťąc táşż lĂ báť\\x87nh nhĂ˘n khĂ´ng cĂł triáť\\x87u cháťŠng tiĂŞu hĂła cĂł nhiáť\\x81u kháşŁ nÄ\\x83ng Ä\\x91Ć°áťŁc cháťŻa kháť\\x8fi vĂ xuáşĽt viáť\\x87n hĆĄn so váť\\x9bi báť\\x87nh nhĂ˘n cĂł triáť\\x87u cháťŠng, (60% nháťŻng ngĆ°áť\\x9di khĂ´ng cĂł triáť\\x87u cháťŠng tiĂŞu hĂła Ä\\x91ĂŁ Ä\\x91Ć°áťŁc xuáşĽt viáť\\x87n, so váť\\x9bi cháť\\x89 34,3% báť\\x87nh nhĂ˘n cĂł triáť\\x87u cháťŠng tiĂŞu hĂła), BS Spiegel nháşĽn máşĄnh â\\x80\\x9c cáş§n chĂş Ă˝ Ä\\x91áşżn triáť\\x87u cháťŠng tiĂŞu cháşŁy Ä\\x91áť\\x83 Ä\\x91áşˇt ra nghi ngáť\\x9d váť\\x81 kháşŁ nÄ\\x83ng lĂ˘y nhiáť m COVID-19 táťŤ sáť\\x9bm trong quĂĄ trĂŹnh Ä\\x91iáť\\x81u tráť\\x8b báť\\x87nh trĆ°áť\\x9bc khi cĂĄc triáť\\x87u cháťŠng liĂŞn quan Ä\\x91áşżn hĂ´ háşĽp xuáşĽt hiáť\\x87n vĂ phĂĄt triáť\\x83n â\\x80\\x9d. Ä\\x90áşˇc biáť\\x87t, nghiĂŞn cáťŠu cĹŠng cháť\\x89 ra ráşąng nháťŻng ngĆ°áť\\x9di cĂł triáť\\x87u cháťŠng tiĂŞu hĂła vĂŹ khĂ´ng biáşżt mĂŹnh báť\\x8b lĂ˘y nhiáť m do chĆ°a xuáşĽt hiáť\\x87n triáť\\x87u cháťŠng hĂ´ háşĽp nĂŞn máşĽt nhiáť\\x81u tháť\\x9di gian hĆĄn Ä\\x91áť\\x83 tĂŹm kiáşżm sáťą chÄ\\x83m sĂłc y táşż. Trong khi tháť\\x9di gian trung bĂŹnh táťŤ khi xuáşĽt hiáť\\x87n triáť\\x87u cháťŠng hĂ´ háşĽp Ä\\x91áşżn khi nháş\\xadp viáť\\x87n Ä\\x91áť\\x91i váť\\x9bi nháťŻng ngĆ°áť\\x9di khĂ´ng cĂł triáť\\x87u cháťŠng tiĂŞu hĂła lĂ 7,3 ngĂ y thĂŹ ngĆ°áť\\x9di cĂł triáť\\x87u cháťŠng tiĂŞu hĂła láşĄi máşĽt táť\\x9bi 9 ngĂ y. BĂĄc sÄŠ Niket Sonpal, chuyĂŞn gia váť\\x81 náť\\x99i khoa vĂ tiĂŞu hĂła táşĄi New York Ä\\x91áťŠng trĂŞn gĂłc nhĂŹn khĂĄch quan nháş\\xadn Ä\\x91áť\\x8bnh Ä\\x91Ă˘y lĂ máť\\x99t phĂĄt hiáť\\x87n â\\x80\\x9cquan tráť\\x8dngâ\\x80\\x9d báť\\x9fi â\\x80\\x9c trong giai Ä\\x91oáşĄn Ä\\x91áş§u cáť§a dáť\\x8bch báť\\x87nh bĂšng phĂĄt áť\\x9f Trung Quáť\\x91c, Iran vĂ sau Ä\\x91Ăł lĂ Ă\\x9d, chĂşng ta cháť§ yáşżu tháşĽy cĂĄc triáť\\x87u cháťŠng hĂ´ háşĽp nhĆ° ho khan, máť\\x87t máť\\x8fi, kĂ¨m theo sáť\\x91t â\\x80\\x9d mĂ khĂ´ng Ä\\x91áť\\x83 Ă˝ táť\\x9bi triáť\\x87u cháťŠng tiĂŞu cháşŁy. BáşŁo Linh',\n",
       " '28/07/41 06:18:07 ص\\nفشلزوجيورو/دولار EUR/USD فيالاستفادةمنمحاولةالارتدادالمبكرةيومالجمعةفوقحاجزمنطقة 1.0800.\\nارتفاعالطلبعلىالدولارالأمريكي،وسطانخفاضحادفيأسواق الأسهم الأمريكية،أدىإلىممارسةضغوطجديدةعلىالزوج.\\nفشلمجلسالشيوخالأمريكيفيتمريرمشروعقانون COVID-19 ،مماأثاربعضالضعفعلىالدولارالأمريكي.\\nفشلزوجيورو/دولار EUR/USD فيالاستفادةمنمحاولةالارتدادالمبكرةيومالجمعة،ليواجهبدلاًمنذلكبعضالعروضالجديدةبالقربمنمنطقة 1.0830. كانينظرإلىارتفاعالطلبعلىالدولارالأمريكيعلىأنهأحدالعواملالرئيسيةوراءالانخفاضاللحظيالحادللزوجبمايقربمن 100 نقطةإلىأدنىمستوياتهالجديدةخلال 37 شهر. استمرالدولارفيالاستفادةمنالاندفاعالعالمينحوتكديسالسيولةالنقديةوسطتفاقمأزمةتفشيوباءفيروسكورونا،كماحصلعلىدعمإضافيمنانخفاضجديدفيأسواقالأسهمالأمريكية.\\nظلالزوجفيوضعدفاعيخلالالجلسةالآسيويةالمبكرةيومالاثنين،وإناستمرفيإظهاربعضالمرونةعندمستوياتأدنىوتمكنمنتسجيلارتدادلحظيمتواضعفوقحاجزمنطقة 1.0700. كانالدولارمضغوطاًمنفشلمجلسالشيوخالأمريكيفيتمريرمشروعقانونالإنقاذمنفيروسكوروناالمستجد COVID-19 وانخفاضعائداتسنداتالخزانةالأمريكيةالمدفوعمنحالةالنفورمنالمخاطرة،مماظلداعماًلمحاولةالارتدادالتيقامبهاالزوجفياليومالأولمنأسبوعتداولجديد.\\nيتراجعالزوجالآنمرةأخرىليتداولبالقربمنمنتصفمناطق 1.0700،علىالرغممنأنهلايزالمنالممكنرؤيةماإذاكانبإمكانالثيرانالاستفادةمنالحركةأوسوفيواجهالارتفاعمرةأخرىبعضالعروضالجديدعندمستوياتأعلى. فيظلعدموجودأيإصداراتاقتصاديةرئيسيةمحركةللسوق،سواءمنمنطقةاليوروأوالولاياتالمتحدة،فقدتستمرالتطوراتالمحيطةبملحمةوباءفيروسكورونافيالتأثيرعلى معنويات مخاطرالسوقالأوسعنطاقاًوديناميكيات أسعار الدولار،والتيقدتتحولإلىمحركحصريلزخمالزوج.\\nالنظرةالفنيةعلىالمدىالقصير\\nمنمنظورفني،يشيرالتراجعاللحظيفيالجلسةالسابقةإلىاستمرارالاهتمامبالبيععندمستوياتأعلى. يأتيذلكعلىخلفيةكسردعمخطالاتجاهالهابطلمدةعامينونصفالعامومزيدمنالتعزيزللتوقعاتالهبوطيةعلىالمدىالقريب. ومعذلك،فإنالانحرافعلىمؤشرالقوةالنسبية RSI علىالرسمالبيانياليومييستدعيبعضالحذرقبلدخولمراكزتستهدفتسجيلمزيدمنالانخفاضعلىالمدىالقريب.\\nفيالوقتنفسه،يبدوأنحاجزمنطقة 1.0800 يعملكمقاومةحالية،تليهامنطقةالعروض 1.0830-35. قديمتدالزخمإلىمافوقالحواجزالمذكورة،وإنكانقديواجهمقاومةشديدةوخطرالتلاشيبشكلسريعبالقربمنمنطقةالمقاومةالقوية 1.0880.\\nعلىالجانبالآخر،قديستمرالزوجفيالعثورعلىبعضالدعمبالقربمنمنتصفمناطق 1.0600،والتيفيحالةكسرهاسوفيؤكدذلكالتحيزالهبوطيويمهدالطريقللانخفاضنحوالدعمالتاليالجديربالملاحظة،حولمنطقة 1.0590. يمكنأنيمتدالهبوطبشكلأكبرنحوالحاجزالنفسيالرئيسيلمنطقة 1.0500،قبلأنينخفض\\u200b\\u200bالزوجفينهايةالمطافلتحديأدنىمستوياتديسمبر/كانونالأول 2016،حولمنطقة 1.0380-65.\\nإخلاءالمسؤولية: تحتويالمعلوماتالواردةفيهذهالصفحاتعلىبياناتتطلعيةتنطويعلىمخاطروشكوك. إنالأسواقوالأدواتالمذكورةفيهذهالصفحةهيلأغراضإعلاميةفقطولايجبأنتظهربأيشكلمنالأشكالكتوصيةلشراءأوبيعهذهالأوراقالمالية. يجبعليكالقيامبأبحاثكالخاصةقبلاتخاذأيقراراتالاستثمار. لاتضمن FXStreet بأيحالمنالأحوالأنتكونهذهالمعلوماتخاليةمنالأخطاءأووالمغالطاتأوالأخطاءالمادية. كمالايضمنأنهذهالمعلوماتذاتطبيعةمناسبة. الاستثمارفيالفوركسينطويعلىقدركبيرمنالمخاطر،بمافيذلكفقدانكلأوجزءمنالاستثمارالخاصبك،فضلاعنالتوترات. تقععلىعاتقكجميعالمخاطروالخسائروالتكاليفالمرتبطةبالاستثمار،بمافيذلكالخسارةالإجماليةلرأسالمال. ']"
      ]
     },
     "execution_count": 345,
     "metadata": {},
     "output_type": "execute_result"
    }
   ],
   "source": [
    "delnews"
   ]
  },
  {
   "cell_type": "code",
   "execution_count": 238,
   "metadata": {},
   "outputs": [
    {
     "data": {
      "text/plain": [
       "[1, 1, 1, 1, 0, 1, 1, 1, 1, 1, 1, 1, 0, 1, 1, 1, 1, 1, 1, 1]"
      ]
     },
     "execution_count": 238,
     "metadata": {},
     "output_type": "execute_result"
    }
   ],
   "source": [
    "[1 if (i[s] >= u'\\u0041' and i[s] <= u'\\u005a') or (i[s] >= u'\\u0061' and i[s] <= u'\\u007a') or i[s].isdigit() or i[s].isspace() else 0 for s in random_c]"
   ]
  },
  {
   "cell_type": "code",
   "execution_count": 202,
   "metadata": {},
   "outputs": [
    {
     "data": {
      "text/plain": [
       "'Boeing is suspending its dividend and taking other financial steps to help it weather the commercial aviation slump caused by the coronavirus disease (Covid-19), the US aerospace manufacturer announced late on 20 March.\\nBoeing will stop paying its quarterly cash dividend of USD2.055 per share “until further notice”, the company said. In addition, Boeing’s nearly year-old suspension of stock buybacks will continue indefinitely, and CEO Dave Calhoun and Board Chairman Larry Kellner “will forgo all pay until the end of the year”.\\n“Boeing is drawing on all of its resources to sustain operations, support its workforce and customers, and maintain supply chain continuity through the Covid-19 crisis and for the long term,” the company said.\\n Jane’s (140 of 417 words)'"
      ]
     },
     "execution_count": 202,
     "metadata": {},
     "output_type": "execute_result"
    }
   ],
   "source": [
    "i = df.text[2]\n",
    "i = re.sub(r'(https|http)?:\\/\\/(\\w|\\.|\\/|\\?|\\=|\\&|\\%)*\\b|@\\w+|#', '', i, flags=re.MULTILINE) #delete URL, # , and @xxx\n",
    "i"
   ]
  },
  {
   "cell_type": "code",
   "execution_count": 48,
   "metadata": {},
   "outputs": [
    {
     "data": {
      "text/plain": [
       "[' ',\n",
       " 'Tell AOC cowfarts are the vaccine for covid 19',\n",
       " 'Read Full Story ... Related articles:',\n",
       " 'It\\'s \"China-virus\", not coronavirus.',\n",
       " ' 7603743 ',\n",
       " 'Do they want him with or without the corona virus?',\n",
       " 'COVID-19 Letter From Mayor Coleman ',\n",
       " ' Click to Subscribe Older Stories',\n",
       " ' 7:25 ',\n",
       " ' 7603742 ',\n",
       " ' 7603741 ',\n",
       " ' 7603739 ',\n",
       " ' 7603740 ',\n",
       " ' 7603735 ',\n",
       " 'CORONAVIRUS: Boca, Delray Cases Jump ',\n",
       " ' 7603729 ',\n",
       " 'The cartels getting into the Covid-19 game.',\n",
       " 'Mercedes-Benz Si (',\n",
       " 'Joe could sniff for Coronavirus in women’s hair?',\n",
       " 'Le 13 mars 2020 à 2:05 ',\n",
       " 'Coronavirus 1 Voters of Utah 0',\n",
       " 'Le 16 mars 2020 à 2:10 ',\n",
       " '1k on Coronavirus FTW.',\n",
       " 'Le 15 mars 2020 à 2:56 ',\n",
       " ' 4 4 ',\n",
       " 'Le 18 mars 2020 à 2:38 ',\n",
       " 'é€TTC/min) E-mail :',\n",
       " 'Le 13 mars 2020 à 2:23 ',\n",
       " 'Le 18 mars 2020 à 2:55 ',\n",
       " 'Le 14 mars 2020 à 2:04 ',\n",
       " ' 7603724 ',\n",
       " ' 7603728 ',\n",
       " ' 7603720 ',\n",
       " ' 7603722 ',\n",
       " ' 7:05 ',\n",
       " ' 7603713 ',\n",
       " ' 7603714 ',\n",
       " 'This Coronavirus is like a biblical plague.',\n",
       " 'Le 13 mars 2020 à 2:12 ',\n",
       " 'Yeah IMPEACH COVID-19',\n",
       " 'Le 15 mars 2020 à 2:57 ',\n",
       " 'Le 13 mars 2020 à 2:10 ',\n",
       " 'Dems ARE a virus, and more destructive then COVID.',\n",
       " 'Mountain Dew cures corona virus. Try the code red.',\n",
       " ' 7603701 ',\n",
       " ' 7603704 ',\n",
       " ' 7603703 ',\n",
       " ' 7603707 ',\n",
       " \"The coronavirus doesn't care what state your in.\",\n",
       " ' 7603700 ',\n",
       " ' 7603698 ',\n",
       " '5,683 cases of the virus have now been confirmed.',\n",
       " 'Le 16 mars 2020 à 2:26 ',\n",
       " 'One can hope Pelosi gets the coronavirus.',\n",
       " 'Rand Paul went to the gym today with coronavirus.',\n",
       " \"COVID-19 Pelosi's kennel number\",\n",
       " \"I wonder if the ocean's salt water kills COVID-19?\",\n",
       " 'What? Romney got coronavirus?',\n",
       " 'Covid is very liberal state friendly..',\n",
       " ' 7603926 ',\n",
       " 'trump golfs while the covid kills millions of kids',\n",
       " 'One wonders if Covid-19 has shares in Facebook ?',\n",
       " 'If there ever was a reason for drone strikes...',\n",
       " \"BUT - where's my Covid-19 TEST - IDIOT ....??\",\n",
       " '\"Chinese Virus did not start in Covid\"',\n",
       " 'Covid-19 ',\n",
       " 'Comment, Analysis & Research March 23, ',\n",
       " 'Comment & Analysis ',\n",
       " 'Research ',\n",
       " 'Covid-19 March 23, ',\n",
       " 'Legal, Regulation & Compliance March 23, ',\n",
       " 'Mar 23, 2020, 5:00 AM Add to Bookmarks ',\n",
       " 'Mar 23, 2020, 10:56 AM Add to Bookmarks ',\n",
       " 'Legal, Tax, Regulation & Compliance March 23, ',\n",
       " 'Legal,Regulation,Tax & Compliance March 23, ',\n",
       " 'Reblog What to Read Next ',\n",
       " 'As Seen On As seen on News 4 ',\n",
       " '\\nAre you looking for a stock?\\nTry one of these ',\n",
       " 'Extremely Wealthy ',\n",
       " 'Alternative Investments March 23, ',\n",
       " 'What to Plant in a Warming World gardening 7h ',\n",
       " 'Video ',\n",
       " 'Coronavirus- 1, Trump- 0.',\n",
       " ' 7603925 ',\n",
       " ' 7603924 ',\n",
       " 'trump wants Romney to have Coronavirus. WOW!',\n",
       " '22nd March 2020',\n",
       " ' 46 ',\n",
       " ' 7604147 ',\n",
       " ' 7604146 ',\n",
       " 'Posted by OCUser at 08:31 PM | 9 Advertisement',\n",
       " 'PRETIVM CORONAVIRUS UPDATE – MARCH 20, 2020 ',\n",
       " 'Covid- WHAT??? I forgot',\n",
       " 'I thought Coronavirus was a hoax!!!',\n",
       " 'The coronavirus is seeking out the democrats.',\n",
       " 'what does student debt have to do with Covid 19?',\n",
       " ' 7604240 ',\n",
       " ' 7604236 ',\n",
       " ' 7604231 ',\n",
       " 'Fox News told us Coronavirus was just a Flu',\n",
       " ' 7604359 ',\n",
       " 'Coronavirus TOOK ER JOBS!!!',\n",
       " 'Your America is sure dense about Covid.',\n",
       " 'Please rate your own coronavirus response.',\n",
       " 'Sean I thought you said coronavirus is hoax?',\n",
       " ' +11 11 0',\n",
       " 'Harvey Weinstein da positivo a coronavirus',\n",
       " 'News Moderator Post navigation',\n",
       " ' 55 17 ',\n",
       " \"He didn't destroy them, coronavirus did.\",\n",
       " 'Breaking: Senate Democrats block Coronavirus Bill',\n",
       " 'Rising Covid-19 deaths leave investors on edge.',\n",
       " 'Le 17 mars 2020 à 2:48 ',\n",
       " ' 7604616 ',\n",
       " ' 7604614 ',\n",
       " 'Le 21 mars 2020 à 2:07 ',\n",
       " 'New ',\n",
       " 'kup forms will lead to conviction. LETTER',\n",
       " 'coronavirus may help you get rid of some fat',\n",
       " 'kayo sana mag ka covid, mga salot!',\n",
       " 'Chinese Wuhan Coronavirus Made in China from Wuhan',\n",
       " 'Covid babies rock!',\n",
       " \" value='2217' '2217',tz: '2217' ]); </script>\",\n",
       " 'Covid-19 is scheduled to come back next year.',\n",
       " 'PELOSI-VID-19 worst than (COVID-19)',\n",
       " 'Be scared, lib. Coronavirus is gonna get ya!',\n",
       " ' 7604889 ',\n",
       " 'COVID-19 won the virtual race.',\n",
       " 'Like a good neighbor Covid-19 is there.',\n",
       " 'He too has Covid-19? 😮',\n",
       " 'Schiff has been very quiet . did he get Covid 19',\n",
       " ' 7604985 ',\n",
       " 'Dems, \"Let them eat COVID\"',\n",
       " 'Isolation is the treatment for Coronavirus !!!!',\n",
       " 'Sneeze on her, anybody with covid-19',\n",
       " ' +10 10 0',\n",
       " 'Wuhan Chinese Novel Covid 19 Coronavirus!',\n",
       " 'Have the two Corinthians caught Corona Virus yet',\n",
       " 'And a healthy dose of coronavirus...',\n",
       " 'The idea is to prolong the COVID 19 and prevent GE',\n",
       " 'On March 23, 2020 / News ',\n",
       " 'RADIO EN VIVO, ¡Recomiéndenos! Video',\n",
       " 'Chile Chile. Chile Chile. Chile. Chile ',\n",
       " 'Turkey Turkey. Turkey Turkey. Turkey. Turkey ',\n",
       " ' Yesterday Older News',\n",
       " 'I hope corona virus wipes out the house',\n",
       " 'Social media is far worse than the coronavirus.',\n",
       " 'Pelosi needs a dose of corona virus fast.',\n",
       " \"You don't want a baby born with COVID.\",\n",
       " ' И в Барселона има заразен с COVID-19 Gong.bg',\n",
       " 'Trump just filed a lawsuit vs coronavirus',\n",
       " 'How will this bill help you avoid coronavirus',\n",
       " 'Right plus, this is not the last corona virus',\n",
       " 'ven 25 ',\n",
       " '09:02, 23 марта 2020',\n",
       " 'Wrong! Al Gore invented the corona virus.',\n",
       " 'This Coronavirus is my kind of virus',\n",
       " 'Al Gore invented coronavirus',\n",
       " 'It had nothing to do with Coronavirus, duh!',\n",
       " \"Coronavirus hasn't even gotten warmed up yet.\",\n",
       " 'If you ever had a coronavirus, raise your hand.',\n",
       " 'Better cabin fever than Covid fever...just sayin.',\n",
       " 'Covid-19 related death?',\n",
       " 'Posted in Stream Post navigation',\n",
       " \"Joe will catch COVID-19 and then it's lights out\",\n",
       " \"I'll give her a Coronavirus bang.\",\n",
       " \"Doesn't count as a coronavirus death.\",\n",
       " 'With a twist of coronavirus',\n",
       " 'Full of coronavirus and themselves.',\n",
       " 'There is not such a thing as the Coronavirus....',\n",
       " ' 1 × deux ',\n",
       " '0 Annual ',\n",
       " 'News Around NC ',\n",
       " 'Another coronavirus trend...makin babies.',\n",
       " 'Rand Paul tests positive for coronavirus,... ',\n",
       " 'DHS reports 206 positive COVID-19 cases in... ',\n",
       " 'DHS: Pandemic Measures Cut Illegal Border... ',\n",
       " 'You also said the coronavirus was not a crisis',\n",
       " 'Glad we had this Corona virus under control...',\n",
       " 'Trump to profit from coronavirus bail outs.',\n",
       " 'Ah - the Corona Virus under control….',\n",
       " 'Awesome job controlling the spread of Coronavirus',\n",
       " ' Veille – Curation ',\n",
       " 'Crude prices have dropped 60% since start of year',\n",
       " 'Democrats are the corona viruses best friend',\n",
       " 'No, the corona viruses are their offspring.',\n",
       " 'Tweet',\n",
       " 'Until now Pelosi is more lethal than coronavirus',\n",
       " 'I believe this Corona Virus is man made',\n",
       " 'ACDP leader tests for Coronavirus Explore Gov.za',\n",
       " 'Coronavirus cases increase to 274 Explore Gov.za',\n",
       " 'Or a coronavirus...',\n",
       " ' ambientale,è \"rifiuto\" ',\n",
       " \"Covid-19 ain't got nothing on TDS.\",\n",
       " 'Your morning briefing for Monday 23 March 2020.',\n",
       " 'She wants failed economics she is the coronavirus',\n",
       " 'COVID-19 = Y2k Laugh Out Loud! ...',\n",
       " 'fact. man caused climate change caused covid',\n",
       " 'The DEMS are a bigger virus than Covid-19',\n",
       " '(Hamburger Abendblatt Hamburg) ärz 2020 13:56:36',\n",
       " ' 55 16 ',\n",
       " 'Influenza is not a Coronavirus.',\n",
       " '23 mars 2020 à 13h17',\n",
       " 'Maybe COVID-19 will kill the sonovabitch!',\n",
       " 'Mass gatherings could be seen in Matlock Bath.',\n",
       " 'Biden- Coronavirus is bad m’kay.',\n",
       " 'The coronavirus is still a work in progress.',\n",
       " 'Why alcohol at bars.. should be good against covid',\n",
       " 'The Dems are worse than Coronavirus.',\n",
       " 'ZIP | March 23, 2020 8:55 am Bail Money',\n",
       " 'Democrats Block Senate Coronavirus Package',\n",
       " 'Joe will challenge covid to a push-up contest.',\n",
       " ' 7607365 ',\n",
       " ' 7607366 ',\n",
       " 'ZIP | March 23, 2020 9:30 am Bail Money',\n",
       " 'Créé: 23.03.2020, 14h34',\n",
       " 'Biden Says Sniffing Hair cures Covid-19 !!',\n",
       " \"L'attrice 89enne si è spenta a Madrid\",\n",
       " 'Are there no democrat pols with covid 19?',\n",
       " ' 7607359 ',\n",
       " 'Has Covid 19 done Brexit?',\n",
       " ' 7607355 ',\n",
       " ' 7607354 ',\n",
       " ' 7607352 ',\n",
       " ' 7607353 ',\n",
       " ' 7607351 ',\n",
       " 'Not on people with COVID-19.',\n",
       " 'Sharing headlines',\n",
       " ' 7607346 ',\n",
       " ' 7607348 ',\n",
       " ' 7607344 ',\n",
       " 'Ojingaism is worse than coronavirus.',\n",
       " 'DHS: Coronavirus Pandemic Measures Cut Illegal... ',\n",
       " 'Covid-19 will be gone by 2nd week of November.',\n",
       " 'Only Rinos will catch the coronavirus',\n",
       " '“The corona virus is a hoax.” — Trump',\n",
       " 'Coronavirus!',\n",
       " 'Yep. In his case, the coronavirus may be a CURE.',\n",
       " \"Coming next Mike Tyson's corona virus plan.\",\n",
       " ' 20,000 270 ',\n",
       " 'At a coronavirus rehab in China',\n",
       " 'Next page\\n ',\n",
       " ' 7607334 ',\n",
       " ' 7607331 ',\n",
       " ' 7607338 ',\n",
       " ' 7607339 ',\n",
       " ' 7607336 ',\n",
       " ' 7607333 ',\n",
       " ' 7607337 ',\n",
       " ' 7607332 ',\n",
       " ' 7607340 ',\n",
       " ' 7607335 ',\n",
       " ' 7607326 ',\n",
       " 'Exposed to Covid-45 huh?',\n",
       " 'and there was no COVID-19, so what is your point?',\n",
       " \"It's just a hoax....like covid-19\",\n",
       " 'Coronavirus (D)',\n",
       " 'now coronavirus still got time to explore fitness',\n",
       " 'High quality MP4 (5.74 ',\n",
       " '2 weeks ago Corona virus was a \"Democratic hoax\"',\n",
       " 'Flu is not a Coronavirus.',\n",
       " \"Didn't realize they made coronavirus mask\",\n",
       " ' 7607708 ',\n",
       " ' 7607713 ',\n",
       " \"don't sniff COVID, Joe\",\n",
       " ' 7607717 ',\n",
       " ' 7607715 ',\n",
       " ' 7607714 ',\n",
       " ' 7607700 ',\n",
       " ' 7607702 ',\n",
       " \"that's how many corona virus victims died in Wuhan\",\n",
       " 'The corona virus fight is based on computer models',\n",
       " 'Like trump does in his Coronavirus briefings?',\n",
       " 'Double pandemic - COVID-19 and lying liberals.',\n",
       " ' 7607692 ',\n",
       " ' 7607693 ',\n",
       " ' 7607689 ',\n",
       " 'Inject him with covid 19',\n",
       " 'Jason Cooper\\n ',\n",
       " '\"Coronavirus mask\" OMG really!? LOL!',\n",
       " '\"Coronavirus? Come on Man! You didn\\'t catch that.\"',\n",
       " 'Joe said he would soon be releasing COVID-20',\n",
       " 'Inject him with the Coronavirus and lock him up.',\n",
       " ' (Res)',\n",
       " 'General Info ',\n",
       " ' 7607968 ',\n",
       " ' 7607966 ',\n",
       " ' 7607970 ',\n",
       " ' 7607969 ',\n",
       " 'Mar 23, 2020 @ 11:48am Recent Posts',\n",
       " 'Lots of Covid cases there...',\n",
       " 'Biden, \"My leg hair cures COVID-19.\"',\n",
       " ' ambientale, è \"rifiuto\" ',\n",
       " 'I had a great time, coronavirus or not',\n",
       " '»',\n",
       " ' 7607954 ',\n",
       " ' 7607955 ',\n",
       " ' 7607956 ',\n",
       " \"COVID-19 = Trump's IQ\",\n",
       " ' 7607957 ',\n",
       " ' 7607958 ',\n",
       " ' 7607959 ',\n",
       " ' 7607951 ',\n",
       " 'Covid19 , coronavirus , abattage , vente directe',\n",
       " '“I would take Coronavirus behind the gym.” Biden',\n",
       " 'USA TODAY',\n",
       " 'They are not \"Coronavirus masks\".',\n",
       " ' 7608125 ',\n",
       " ' 7608123 ',\n",
       " 'I feel sorry for anybody who has the Coronavirus.',\n",
       " ' 7608124 ',\n",
       " ' 7608120 ',\n",
       " ' 7608116 ',\n",
       " 'High quality MP4 (9.46 ',\n",
       " '2020-03-23 Update on Operations (COVID-19).pdf',\n",
       " 'Créé: 23.03.2020, 17h53',\n",
       " 'CORONAVIRUS is the \"new\" deadly weapon !!',\n",
       " ' 7608575 ',\n",
       " ' 7608577 ',\n",
       " 'correction: Syria confirms first coronavirus case.',\n",
       " ' 7608579 ',\n",
       " ' 7608582 ',\n",
       " ' 7608574 ',\n",
       " ' 7608578 ',\n",
       " ' 7608580 ',\n",
       " ' 7608572 ',\n",
       " ' 7608585 ',\n",
       " ' 7608565 ',\n",
       " ' 7608568 ',\n",
       " 'I dont think joe would survive the coronavirus.',\n",
       " 'Al Gore invented the Corona Virus.',\n",
       " 'And now a coronavirus message from Forest Gump',\n",
       " 'Let’s find some answers.',\n",
       " ' 7608558 ',\n",
       " ' 7608816 ',\n",
       " ' 7608560 ',\n",
       " ' 7608562 ',\n",
       " ' 7608556 ',\n",
       " ' 7608554 ',\n",
       " 'WATCH LIVE: WHITE HOUSE COVID-19 UPDATE',\n",
       " 'Tél. : 08 26 80 52 52 (0,15 €',\n",
       " 'Update: Read the latest on the coronavirus here.',\n",
       " 'Kes HIV more then Covid-19 @Thai-Msia border.',\n",
       " 'The election is Trump vs. Coronavirus.',\n",
       " 'COVID-19 also Made in China',\n",
       " 'Biden is using the coronavirus to campaign',\n",
       " 'Did he know it was the Corona virus?? lol',\n",
       " ' 7608813 ',\n",
       " ' 7608811 ',\n",
       " ' 7608804 ',\n",
       " ' 7608807 ',\n",
       " ' 7608809 ',\n",
       " ' 7608810 ',\n",
       " 'Why the coronavirus could mean more bogus... ',\n",
       " \"Coronavirus: 'Islamic State' seeks to profit... \",\n",
       " 'Mientras Italia se prepara para una semana \\\\',\n",
       " '136 Hart Senate Office Bldg. Washington, DC 20510',\n",
       " 'COVID-19 = China Originated Virus In December-19',\n",
       " 'Coronavirus is coming, lives being erased',\n",
       " ' 7608800 ',\n",
       " ' coronavirus.\\n football, ',\n",
       " ' 7608801 ',\n",
       " ' 7608798 ',\n",
       " ' 7608802 ',\n",
       " ' coronavirus .\\n football , ',\n",
       " 'di Gianluca Semprini',\n",
       " 'It must be favourable for him.... Quote',\n",
       " 'Next stop Coronavirus.',\n",
       " ' 7608997 ',\n",
       " ' 7608999 ',\n",
       " ' 7608996 ',\n",
       " ' 7608991 ',\n",
       " 'See you in Covid-29',\n",
       " ' 7608992 ',\n",
       " '\"Coronavirus\" or \"MMGW\"? </sarc>',\n",
       " 'I hope to God they both get corona virus and die.',\n",
       " \"WHO CARES WHEN 1000'S ARE DYING OF CORONAVIRUS!\",\n",
       " 'Iniciar AutoTest Coronavirus',\n",
       " 'His nickname is COVID Joe.',\n",
       " 'DEMOCRATVIRUS = Deadlier than the coronavirus',\n",
       " 'Coronavirus bill dead on arrival. No pun intended.',\n",
       " 'made in wuhan, chicom made corona COVID-19 virus',\n",
       " 'Liberals are worse than the corona virus...:0',\n",
       " 'Liberalism is worse than COVID-19.',\n",
       " 'New Chinese phrase for Coronavirus: Far Flung Flu',\n",
       " 'Democrats kill more Americans than the coronavirus',\n",
       " 'Joe challenged Coronavirus to a push-up contest.',\n",
       " 'It was Covid 19 where have you been.',\n",
       " 'ZIP | March 23, 2020 3:01 pm Bail Money',\n",
       " 'COVID = China Originated Virus Is Deadly',\n",
       " '\\n ',\n",
       " 'Coronavirus...what Coronavirus...come on man.',\n",
       " ' gratitude,\" […] 1843537192',\n",
       " 'The next one will be coronavirus 20.',\n",
       " 'ZIP | March 23, 2020 3:32 pm Bail Money',\n",
       " 'Who said curry can prevent Coronavirus?',\n",
       " ' Lectura: (\\nMá',\n",
       " ' 7609533 ',\n",
       " ' 7609538 ',\n",
       " ' 7609537 ',\n",
       " ' 7609540 ',\n",
       " ' 7609535 ',\n",
       " ' 7609534 ',\n",
       " 'and who said COVID-19 was 100 percent bad?',\n",
       " ' 7609539 ',\n",
       " ' 7609542 ',\n",
       " ' 7609524 ',\n",
       " ' 7609526 ',\n",
       " ' 7609522 ',\n",
       " 'You, sick and dying of coronavirus?',\n",
       " ' 6:35 ',\n",
       " 'corona virus goes well with Lime disease!',\n",
       " ' 7609514 ',\n",
       " ' 7609520 ',\n",
       " ' 7609507 ',\n",
       " ' 7609505 ',\n",
       " ' 7609506 ',\n",
       " ' Review Every Day Aches and Pains',\n",
       " 'Please get coronavirus.',\n",
       " 'More coronavirus is what I hope for you.',\n",
       " 'added to the corona virus statistics.',\n",
       " ' (Video) Posted on This entry was posted in Video ',\n",
       " ' 7609859 ',\n",
       " ' 7609862 ',\n",
       " ' 7609860 ',\n",
       " ' 7609849 ',\n",
       " ' 7609847 ',\n",
       " 'Coronavirus makes leg hair fall out',\n",
       " ' 7:00 ',\n",
       " \"Well, at least they didn't die of coronavirus.\",\n",
       " 'Shanthi Rexaline 3:51pm 464 Comments Share:',\n",
       " 'Did not know Coronavirus was a common cold....',\n",
       " 'Meghna Sengupta ',\n",
       " 'come back and bring your Coronavirus with you,',\n",
       " ' 7609844 ',\n",
       " ' 7609845 ',\n",
       " ' 7609841 ',\n",
       " ' 7609836 ',\n",
       " ' 7609835 ',\n",
       " ' 7609842 ',\n",
       " ' 7609838 ',\n",
       " ' 7609824 ',\n",
       " ' 7609819 ',\n",
       " ' 7609832 ',\n",
       " ' 7609833 ',\n",
       " ' 7609834 ',\n",
       " 'ZIP | March 23, 2020 5:07 pm Bail Money',\n",
       " ' 6:10 ',\n",
       " 'High quality MP4 (18.87 ',\n",
       " 'COVID-19*',\n",
       " 'COVID-19 Post navigation',\n",
       " 'Sadly, the chickens have Corona virus too.',\n",
       " 'I farmacisti in trincea » ',\n",
       " 'COVID-19 the Pelosi Plague.',\n",
       " ' 7610236 ',\n",
       " ' 7610238 ',\n",
       " ' 7610244 ',\n",
       " ' 7610231 ',\n",
       " ' 7610239 ',\n",
       " ' 7610233 ',\n",
       " ' 7610207 ',\n",
       " ' 7610209 ',\n",
       " ' 7610229 ',\n",
       " ' 7610211 ',\n",
       " ' Centro comercial colombo Colombo Covid-19 ',\n",
       " 'I just heard that Anonymous has COVID-19.',\n",
       " 'Coronavirus Stimulus Package (3 ',\n",
       " ' Civil Process Civil Process ',\n",
       " 'Would a good bonfire fight the Coronavirus?',\n",
       " ' 7610206 ',\n",
       " ' 7610196 ',\n",
       " '200320CannAmericaC19.pdf',\n",
       " ' 7610205 ',\n",
       " '780 1',\n",
       " '2020 Webinar',\n",
       " '100+ in the US died of COVID-19 today. Today.',\n",
       " '75 Save']"
      ]
     },
     "execution_count": 48,
     "metadata": {},
     "output_type": "execute_result"
    }
   ],
   "source": [
    "[i for i in df.text if len(i)<=50]"
   ]
  },
  {
   "cell_type": "markdown",
   "metadata": {},
   "source": [
    "# Run"
   ]
  },
  {
   "cell_type": "code",
   "execution_count": 429,
   "metadata": {},
   "outputs": [
    {
     "data": {
      "text/html": [
       "<div>\n",
       "<style scoped>\n",
       "    .dataframe tbody tr th:only-of-type {\n",
       "        vertical-align: middle;\n",
       "    }\n",
       "\n",
       "    .dataframe tbody tr th {\n",
       "        vertical-align: top;\n",
       "    }\n",
       "\n",
       "    .dataframe thead th {\n",
       "        text-align: right;\n",
       "    }\n",
       "</style>\n",
       "<table border=\"1\" class=\"dataframe\">\n",
       "  <thead>\n",
       "    <tr style=\"text-align: right;\">\n",
       "      <th></th>\n",
       "      <th>published</th>\n",
       "      <th>text</th>\n",
       "      <th>tokens</th>\n",
       "    </tr>\n",
       "  </thead>\n",
       "  <tbody>\n",
       "    <tr>\n",
       "      <th>0</th>\n",
       "      <td>2020-03-23 00:00:00+02:00</td>\n",
       "      <td>Tokyo 2020 organisers have started drafting po...</td>\n",
       "      <td>[tokyo, organisers, started, drafting, possibl...</td>\n",
       "    </tr>\n",
       "    <tr>\n",
       "      <th>1</th>\n",
       "      <td>2020-03-23 00:00:00+02:00</td>\n",
       "      <td>The national animal - the tiger and the nation...</td>\n",
       "      <td>[national, animal, tiger, national, bird, peac...</td>\n",
       "    </tr>\n",
       "    <tr>\n",
       "      <th>2</th>\n",
       "      <td>2020-03-23 00:00:00+02:00</td>\n",
       "      <td>Boeing is suspending its dividend and taking o...</td>\n",
       "      <td>[boeing, suspending, dividend, taking, financi...</td>\n",
       "    </tr>\n",
       "    <tr>\n",
       "      <th>3</th>\n",
       "      <td>2020-03-23 00:00:00+02:00</td>\n",
       "      <td>Governor appoints Navy Vice Admiral Raquel C. ...</td>\n",
       "      <td>[governor, appoints, navy, vice, admiral, raqu...</td>\n",
       "    </tr>\n",
       "    <tr>\n",
       "      <th>4</th>\n",
       "      <td>2020-03-23 00:00:00+02:00</td>\n",
       "      <td>Afriend of singer Kanika Kapoor who is believe...</td>\n",
       "      <td>[afriend, singer, kanika, kapoor, believed, tr...</td>\n",
       "    </tr>\n",
       "    <tr>\n",
       "      <th>5</th>\n",
       "      <td>2020-03-23 00:00:00+02:00</td>\n",
       "      <td>Singapore will significantly tighten borders f...</td>\n",
       "      <td>[singapore, significantly, tighten, borders, t...</td>\n",
       "    </tr>\n",
       "    <tr>\n",
       "      <th>6</th>\n",
       "      <td>2020-03-23 00:00:00+02:00</td>\n",
       "      <td>250+ tourists stuck in Karnataka, Min says the...</td>\n",
       "      <td>[tourists, stuck, karnataka, min, says, need, ...</td>\n",
       "    </tr>\n",
       "    <tr>\n",
       "      <th>7</th>\n",
       "      <td>2020-03-23 00:00:00+02:00</td>\n",
       "      <td>For Mr Tiat Lim, the fountain of youth is in t...</td>\n",
       "      <td>[mr, tiat, lim, fountain, youth, gym, since, g...</td>\n",
       "    </tr>\n",
       "    <tr>\n",
       "      <th>8</th>\n",
       "      <td>2020-03-23 00:00:00+02:00</td>\n",
       "      <td>Cafes and restaurants have faced difficulty as...</td>\n",
       "      <td>[cafes, restaurants, faced, difficulty, govern...</td>\n",
       "    </tr>\n",
       "    <tr>\n",
       "      <th>9</th>\n",
       "      <td>2020-03-23 00:00:00+02:00</td>\n",
       "      <td>Patna residents say no to home deliveries Fary...</td>\n",
       "      <td>[patna, residents, say, no, home, deliveries, ...</td>\n",
       "    </tr>\n",
       "  </tbody>\n",
       "</table>\n",
       "</div>"
      ],
      "text/plain": [
       "                  published  \\\n",
       "0 2020-03-23 00:00:00+02:00   \n",
       "1 2020-03-23 00:00:00+02:00   \n",
       "2 2020-03-23 00:00:00+02:00   \n",
       "3 2020-03-23 00:00:00+02:00   \n",
       "4 2020-03-23 00:00:00+02:00   \n",
       "5 2020-03-23 00:00:00+02:00   \n",
       "6 2020-03-23 00:00:00+02:00   \n",
       "7 2020-03-23 00:00:00+02:00   \n",
       "8 2020-03-23 00:00:00+02:00   \n",
       "9 2020-03-23 00:00:00+02:00   \n",
       "\n",
       "                                                text  \\\n",
       "0  Tokyo 2020 organisers have started drafting po...   \n",
       "1  The national animal - the tiger and the nation...   \n",
       "2  Boeing is suspending its dividend and taking o...   \n",
       "3  Governor appoints Navy Vice Admiral Raquel C. ...   \n",
       "4  Afriend of singer Kanika Kapoor who is believe...   \n",
       "5  Singapore will significantly tighten borders f...   \n",
       "6  250+ tourists stuck in Karnataka, Min says the...   \n",
       "7  For Mr Tiat Lim, the fountain of youth is in t...   \n",
       "8  Cafes and restaurants have faced difficulty as...   \n",
       "9  Patna residents say no to home deliveries Fary...   \n",
       "\n",
       "                                              tokens  \n",
       "0  [tokyo, organisers, started, drafting, possibl...  \n",
       "1  [national, animal, tiger, national, bird, peac...  \n",
       "2  [boeing, suspending, dividend, taking, financi...  \n",
       "3  [governor, appoints, navy, vice, admiral, raqu...  \n",
       "4  [afriend, singer, kanika, kapoor, believed, tr...  \n",
       "5  [singapore, significantly, tighten, borders, t...  \n",
       "6  [tourists, stuck, karnataka, min, says, need, ...  \n",
       "7  [mr, tiat, lim, fountain, youth, gym, since, g...  \n",
       "8  [cafes, restaurants, faced, difficulty, govern...  \n",
       "9  [patna, residents, say, no, home, deliveries, ...  "
      ]
     },
     "execution_count": 429,
     "metadata": {},
     "output_type": "execute_result"
    }
   ],
   "source": [
    "df_temp = df.head(10).copy()\n",
    "df_temp.loc[:,'tokens'] = apply_by_multiprocessing(df_temp['text'], prepareNews, workers=32)\n",
    "df_temp"
   ]
  },
  {
   "cell_type": "code",
   "execution_count": 437,
   "metadata": {},
   "outputs": [
    {
     "name": "stderr",
     "output_type": "stream",
     "text": [
      "\r",
      "  0%|          | 0/12 [00:00<?, ?it/s]"
     ]
    },
    {
     "name": "stdout",
     "output_type": "stream",
     "text": [
      "19 Mar@ all words count:31224685, word dict length:253335, word 2g dict length:7354675\n"
     ]
    },
    {
     "name": "stderr",
     "output_type": "stream",
     "text": [
      "\r",
      "  8%|▊         | 1/12 [03:05<33:59, 185.40s/it]"
     ]
    },
    {
     "name": "stdout",
     "output_type": "stream",
     "text": [
      "20 Mar@ all words count:30477632, word dict length:260748, word 2g dict length:7279962\n"
     ]
    },
    {
     "name": "stderr",
     "output_type": "stream",
     "text": [
      "\r",
      " 17%|█▋        | 2/12 [06:10<30:52, 185.26s/it]"
     ]
    },
    {
     "name": "stdout",
     "output_type": "stream",
     "text": [
      "21 Mar@ all words count:18343190, word dict length:192848, word 2g dict length:4731684\n"
     ]
    },
    {
     "name": "stderr",
     "output_type": "stream",
     "text": [
      "\r",
      " 25%|██▌       | 3/12 [08:03<24:31, 163.48s/it]"
     ]
    },
    {
     "name": "stdout",
     "output_type": "stream",
     "text": [
      "22 Mar@ all words count:15559432, word dict length:173705, word 2g dict length:4063454\n"
     ]
    },
    {
     "name": "stderr",
     "output_type": "stream",
     "text": [
      "\r",
      " 33%|███▎      | 4/12 [09:36<19:00, 142.59s/it]"
     ]
    },
    {
     "name": "stdout",
     "output_type": "stream",
     "text": [
      "23 Mar@ all words count:28273613, word dict length:247006, word 2g dict length:6809810\n"
     ]
    },
    {
     "name": "stderr",
     "output_type": "stream",
     "text": [
      "\r",
      " 42%|████▏     | 5/12 [12:25<17:32, 150.32s/it]"
     ]
    },
    {
     "name": "stdout",
     "output_type": "stream",
     "text": [
      "24 Mar@ all words count:30908110, word dict length:261879, word 2g dict length:7335993\n"
     ]
    },
    {
     "name": "stderr",
     "output_type": "stream",
     "text": [
      "\r",
      " 50%|█████     | 6/12 [15:24<15:53, 158.89s/it]"
     ]
    },
    {
     "name": "stdout",
     "output_type": "stream",
     "text": [
      "25 Mar@ all words count:32017775, word dict length:264611, word 2g dict length:7730308\n"
     ]
    },
    {
     "name": "stderr",
     "output_type": "stream",
     "text": [
      "\r",
      " 58%|█████▊    | 7/12 [18:27<13:51, 166.30s/it]"
     ]
    },
    {
     "name": "stdout",
     "output_type": "stream",
     "text": [
      "26 Mar@ all words count:31556481, word dict length:266950, word 2g dict length:7799761\n"
     ]
    },
    {
     "name": "stderr",
     "output_type": "stream",
     "text": [
      "\r",
      " 67%|██████▋   | 8/12 [21:38<11:34, 173.60s/it]"
     ]
    },
    {
     "name": "stdout",
     "output_type": "stream",
     "text": [
      "27 Mar@ all words count:29573618, word dict length:266097, word 2g dict length:7437456\n"
     ]
    },
    {
     "name": "stderr",
     "output_type": "stream",
     "text": [
      "\r",
      " 75%|███████▌  | 9/12 [24:38<08:46, 175.46s/it]"
     ]
    },
    {
     "name": "stdout",
     "output_type": "stream",
     "text": [
      "28 Mar@ all words count:18335201, word dict length:199374, word 2g dict length:4946467\n"
     ]
    },
    {
     "name": "stderr",
     "output_type": "stream",
     "text": [
      "\r",
      " 83%|████████▎ | 10/12 [26:28<05:11, 155.90s/it]"
     ]
    },
    {
     "name": "stdout",
     "output_type": "stream",
     "text": [
      "29 Mar@ all words count:11258098, word dict length:155119, word 2g dict length:3434446\n"
     ]
    },
    {
     "name": "stderr",
     "output_type": "stream",
     "text": [
      "100%|██████████| 12/12 [27:46<00:00, 138.84s/it]"
     ]
    },
    {
     "name": "stdout",
     "output_type": "stream",
     "text": [
      "30 Mar@ all words count:67442, word dict length:10075, word 2g dict length:49439\n"
     ]
    },
    {
     "name": "stderr",
     "output_type": "stream",
     "text": [
      "\n"
     ]
    }
   ],
   "source": [
    "dates = range(19,31)\n",
    "TOP_COMMON_2G = 5000\n",
    "for d in tqdm(dates):\n",
    "    with open('df_03{}_news.pickle'.format(d), 'rb') as handle:\n",
    "        df = pickle.load(handle)\n",
    "    # prepare df\n",
    "    df = df.drop_duplicates(['text'])\n",
    "    df.loc[:,'published'] = pd.to_datetime(df.published)\n",
    "    df = df.sort_values(by='published')\n",
    "    df = df.reset_index(drop=True)\n",
    "    np.random.seed(1)\n",
    "    df.loc[:,'tokens'] = apply_by_multiprocessing(df['text'], prepareNews, workers=32)\n",
    "    df = df.dropna() # delete none tokens\n",
    "    df = df.reset_index(drop=True)\n",
    "    # save tokens into df\n",
    "    with open('./filtered_data/df_03{}_news_filtered.pickle'.format(d), 'wb') as handle:\n",
    "        pickle.dump(df, handle, protocol=pickle.HIGHEST_PROTOCOL)\n",
    "    \n",
    "    \n",
    "    all_words = []\n",
    "    for i in df.tokens:\n",
    "        all_words.extend(i)\n",
    "    del(df)\n",
    "    words_dict = nltk.FreqDist(all_words)\n",
    "    words_dict_2g_tuple = nltk.FreqDist(nltk.ngrams(all_words, 2))\n",
    "    words_dict_2g =  nltk.FreqDist()\n",
    "    for k,v in words_dict_2g_tuple.most_common(TOP_COMMON_2G):\n",
    "        words_dict_2g[' '.join(k)] = v\n",
    "    print(\"{} Mar@ all words count:{}, word dict length:{}, word 2g dict length:{}\".format(d,len(all_words),len(words_dict),len(words_dict_2g_tuple)))\n",
    "    del(all_words)\n",
    "    with open('./filtered_data/words_dict_03{}_filtered.pickle'.format(d), 'wb') as handle:\n",
    "        pickle.dump(words_dict, handle, protocol=pickle.HIGHEST_PROTOCOL)\n",
    "    with open('./filtered_data/words_dict_2g_03{}_filtered.pickle'.format(d), 'wb') as handle:\n",
    "        pickle.dump(words_dict_2g, handle, protocol=pickle.HIGHEST_PROTOCOL)"
   ]
  },
  {
   "cell_type": "markdown",
   "metadata": {},
   "source": [
    "# Deletion Ratio"
   ]
  },
  {
   "cell_type": "code",
   "execution_count": 4,
   "metadata": {},
   "outputs": [
    {
     "name": "stderr",
     "output_type": "stream",
     "text": [
      "100%|██████████| 12/12 [01:56<00:00,  9.71s/it]\n"
     ]
    }
   ],
   "source": [
    "# News\n",
    "df_len, filtered_len, unique_len = [],[],[]\n",
    "dates = range(19,31)\n",
    "for d in tqdm(dates):\n",
    "    with open('df_03{}_news.pickle'.format(d), 'rb') as handle:\n",
    "        df = pickle.load(handle)\n",
    "        df_len.append(len(df)) \n",
    "        df = df.drop_duplicates(['text'])\n",
    "        unique_len.append(len(df))\n",
    "    with open('./filtered_data/df_03{}_news_filtered.pickle'.format(d), 'rb') as handle:\n",
    "        filtered_len.append(len(pickle.load(handle)))"
   ]
  },
  {
   "cell_type": "code",
   "execution_count": 5,
   "metadata": {},
   "outputs": [
    {
     "data": {
      "text/html": [
       "<div>\n",
       "<style scoped>\n",
       "    .dataframe tbody tr th:only-of-type {\n",
       "        vertical-align: middle;\n",
       "    }\n",
       "\n",
       "    .dataframe tbody tr th {\n",
       "        vertical-align: top;\n",
       "    }\n",
       "\n",
       "    .dataframe thead th {\n",
       "        text-align: right;\n",
       "    }\n",
       "</style>\n",
       "<table border=\"1\" class=\"dataframe\">\n",
       "  <thead>\n",
       "    <tr style=\"text-align: right;\">\n",
       "      <th></th>\n",
       "      <th>Original Length</th>\n",
       "      <th>Unique News Length</th>\n",
       "      <th>Filtered Length</th>\n",
       "      <th>Deletion ratio (Original)</th>\n",
       "      <th>Deletion ratio (Unique)</th>\n",
       "    </tr>\n",
       "  </thead>\n",
       "  <tbody>\n",
       "    <tr>\n",
       "      <th>19</th>\n",
       "      <td>123303</td>\n",
       "      <td>112622</td>\n",
       "      <td>102233</td>\n",
       "      <td>0.170880</td>\n",
       "      <td>0.092247</td>\n",
       "    </tr>\n",
       "    <tr>\n",
       "      <th>20</th>\n",
       "      <td>120482</td>\n",
       "      <td>108398</td>\n",
       "      <td>98350</td>\n",
       "      <td>0.183695</td>\n",
       "      <td>0.092695</td>\n",
       "    </tr>\n",
       "    <tr>\n",
       "      <th>21</th>\n",
       "      <td>73288</td>\n",
       "      <td>66021</td>\n",
       "      <td>58053</td>\n",
       "      <td>0.207879</td>\n",
       "      <td>0.120689</td>\n",
       "    </tr>\n",
       "    <tr>\n",
       "      <th>22</th>\n",
       "      <td>65495</td>\n",
       "      <td>59054</td>\n",
       "      <td>51268</td>\n",
       "      <td>0.217223</td>\n",
       "      <td>0.131845</td>\n",
       "    </tr>\n",
       "    <tr>\n",
       "      <th>23</th>\n",
       "      <td>115372</td>\n",
       "      <td>104166</td>\n",
       "      <td>93354</td>\n",
       "      <td>0.190844</td>\n",
       "      <td>0.103796</td>\n",
       "    </tr>\n",
       "    <tr>\n",
       "      <th>24</th>\n",
       "      <td>123574</td>\n",
       "      <td>111761</td>\n",
       "      <td>100611</td>\n",
       "      <td>0.185824</td>\n",
       "      <td>0.099766</td>\n",
       "    </tr>\n",
       "    <tr>\n",
       "      <th>25</th>\n",
       "      <td>126522</td>\n",
       "      <td>113979</td>\n",
       "      <td>103781</td>\n",
       "      <td>0.179739</td>\n",
       "      <td>0.089473</td>\n",
       "    </tr>\n",
       "    <tr>\n",
       "      <th>26</th>\n",
       "      <td>123850</td>\n",
       "      <td>112627</td>\n",
       "      <td>101406</td>\n",
       "      <td>0.181219</td>\n",
       "      <td>0.099630</td>\n",
       "    </tr>\n",
       "    <tr>\n",
       "      <th>27</th>\n",
       "      <td>117116</td>\n",
       "      <td>106592</td>\n",
       "      <td>95618</td>\n",
       "      <td>0.183562</td>\n",
       "      <td>0.102953</td>\n",
       "    </tr>\n",
       "    <tr>\n",
       "      <th>28</th>\n",
       "      <td>73229</td>\n",
       "      <td>66413</td>\n",
       "      <td>58405</td>\n",
       "      <td>0.202433</td>\n",
       "      <td>0.120579</td>\n",
       "    </tr>\n",
       "    <tr>\n",
       "      <th>29</th>\n",
       "      <td>46657</td>\n",
       "      <td>43191</td>\n",
       "      <td>36688</td>\n",
       "      <td>0.213666</td>\n",
       "      <td>0.150564</td>\n",
       "    </tr>\n",
       "    <tr>\n",
       "      <th>30</th>\n",
       "      <td>232</td>\n",
       "      <td>205</td>\n",
       "      <td>193</td>\n",
       "      <td>0.168103</td>\n",
       "      <td>0.058537</td>\n",
       "    </tr>\n",
       "  </tbody>\n",
       "</table>\n",
       "</div>"
      ],
      "text/plain": [
       "    Original Length  Unique News Length  Filtered Length  \\\n",
       "19           123303              112622           102233   \n",
       "20           120482              108398            98350   \n",
       "21            73288               66021            58053   \n",
       "22            65495               59054            51268   \n",
       "23           115372              104166            93354   \n",
       "24           123574              111761           100611   \n",
       "25           126522              113979           103781   \n",
       "26           123850              112627           101406   \n",
       "27           117116              106592            95618   \n",
       "28            73229               66413            58405   \n",
       "29            46657               43191            36688   \n",
       "30              232                 205              193   \n",
       "\n",
       "    Deletion ratio (Original)  Deletion ratio (Unique)  \n",
       "19                   0.170880                 0.092247  \n",
       "20                   0.183695                 0.092695  \n",
       "21                   0.207879                 0.120689  \n",
       "22                   0.217223                 0.131845  \n",
       "23                   0.190844                 0.103796  \n",
       "24                   0.185824                 0.099766  \n",
       "25                   0.179739                 0.089473  \n",
       "26                   0.181219                 0.099630  \n",
       "27                   0.183562                 0.102953  \n",
       "28                   0.202433                 0.120579  \n",
       "29                   0.213666                 0.150564  \n",
       "30                   0.168103                 0.058537  "
      ]
     },
     "execution_count": 5,
     "metadata": {},
     "output_type": "execute_result"
    }
   ],
   "source": [
    "df_ratio = pd.DataFrame({'Original Length':df_len, 'Unique News Length':unique_len, 'Filtered Length':filtered_len}, index=dates)\n",
    "df_ratio['Deletion ratio (Original)'] = (df_ratio['Original Length']-df_ratio['Filtered Length'])/df_ratio['Original Length']\n",
    "df_ratio['Deletion ratio (Unique)'] = (df_ratio['Unique News Length']-df_ratio['Filtered Length'])/df_ratio['Unique News Length']\n",
    "df_ratio"
   ]
  },
  {
   "cell_type": "code",
   "execution_count": 8,
   "metadata": {},
   "outputs": [
    {
     "data": {
      "text/plain": [
       "(0.19042223878711104, 0.10523112936781902)"
      ]
     },
     "execution_count": 8,
     "metadata": {},
     "output_type": "execute_result"
    }
   ],
   "source": [
    "df_ratio[\"Deletion ratio (Original)\"].mean(),df_ratio[\"Deletion ratio (Unique)\"].mean()"
   ]
  }
 ],
 "metadata": {
  "kernelspec": {
   "display_name": "Python 3",
   "language": "python",
   "name": "python3"
  },
  "language_info": {
   "codemirror_mode": {
    "name": "ipython",
    "version": 3
   },
   "file_extension": ".py",
   "mimetype": "text/x-python",
   "name": "python",
   "nbconvert_exporter": "python",
   "pygments_lexer": "ipython3",
   "version": "3.6.9"
  }
 },
 "nbformat": 4,
 "nbformat_minor": 2
}
