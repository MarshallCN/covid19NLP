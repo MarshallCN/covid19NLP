{
 "cells": [
  {
   "cell_type": "code",
   "execution_count": 1,
   "metadata": {},
   "outputs": [
    {
     "name": "stdout",
     "output_type": "stream",
     "text": [
      "CPU numbers: 32\n"
     ]
    }
   ],
   "source": [
    "import re\n",
    "import numpy as np \n",
    "import pandas as pd \n",
    "import matplotlib.pyplot as plt  \n",
    "import nltk\n",
    "from nltk.tokenize import sent_tokenize, word_tokenize\n",
    "# nltk.download('stopwords')\n",
    "# nltk.download('punkt')\n",
    "# nltk.download('averaged_perceptron_tagger')\n",
    "from tqdm import tqdm\n",
    "from nltk.corpus import stopwords\n",
    "stopwordEn = stopwords.words('english')\n",
    "from nltk.corpus import wordnet\n",
    "import pickle\n",
    "import multiprocessing as mp\n",
    "import gensim\n",
    "from gensim import corpora\n",
    "import pyLDAvis.gensim\n",
    "\n",
    "print('CPU numbers:',mp.cpu_count())\n",
    "def _apply_df(args):\n",
    "    df, func, kwargs = args\n",
    "    return df.apply(func, **kwargs)\n",
    "def apply_by_multiprocessing(df, func, **kwargs):\n",
    "#     print(kwargs)\n",
    "    workers = kwargs.pop('workers')\n",
    "    pool = mp.Pool(processes=workers)\n",
    "    result = pool.map(_apply_df, [(d, func, kwargs) for d in np.array_split(df, workers)])\n",
    "    pool.close()\n",
    "    return pd.concat(list(result))\n",
    "#apply_by_multiprocessing(fullset['Text'], process_text, workers=cores)\n",
    "def lemmaWord(word):\n",
    "    lemma = wordnet.morphy(word)\n",
    "    if lemma is not None:\n",
    "        return lemma\n",
    "    else:\n",
    "        return word\n",
    "def processText(text,lemma=False, gram=1):\n",
    "    text = re.sub(r'(https|http)?:\\/\\/(\\w|\\.|\\/|\\?|\\=|\\&|\\%)*\\b', '', text, flags=re.MULTILINE)\n",
    "    tokens = word_tokenize(text)\n",
    "    tokens = [lemmaWord(i.lower()) if lemma else i.lower() for i in tokens if i.lower() not in stopwordEn and i.isalpha()]\n",
    "    if gram<=1:\n",
    "        return tokens\n",
    "    else:\n",
    "        return [i for i in nltk.ngrams(tokens, gram)]"
   ]
  },
  {
   "cell_type": "markdown",
   "metadata": {},
   "source": [
    "# Small Sample"
   ]
  },
  {
   "cell_type": "code",
   "execution_count": 2,
   "metadata": {},
   "outputs": [
    {
     "name": "stderr",
     "output_type": "stream",
     "text": [
      "100%|██████████| 9/9 [00:00<00:00, 14266.34it/s]\n"
     ]
    }
   ],
   "source": [
    "test_sub = [\"My name is Marshall\",\"how are you today?\", \"you are alex, the bad guy\", \"Marshall is a happy name\",\n",
    "            \"alex is your name\",\"alex is really bad\",\"I am happy, marshall said\",\"you're bad, so alex is bad\",\"Bad guy alex finally meet happy marshall\"]\n",
    "tokens = [processText(text, lemma=True) for text in test_sub] #1-gram\n",
    "# tokens = [[' '.join(i) for i in processText(text, lemma=True, gram=2)] for text in test_sub] #2-gram\n",
    "dictionary = corpora.Dictionary(tokens)\n",
    "corpus = [dictionary.doc2bow(text) for text in tqdm(tokens)]"
   ]
  },
  {
   "cell_type": "code",
   "execution_count": 3,
   "metadata": {},
   "outputs": [
    {
     "data": {
      "text/plain": [
       "[['name', 'marshall'],\n",
       " ['today'],\n",
       " ['alex', 'bad', 'guy'],\n",
       " ['marshall', 'happy', 'name'],\n",
       " ['alex', 'name'],\n",
       " ['alex', 'really', 'bad'],\n",
       " ['happy', 'marshall', 'say'],\n",
       " ['bad', 'alex', 'bad'],\n",
       " ['bad', 'guy', 'alex', 'finally', 'meet', 'happy', 'marshall']]"
      ]
     },
     "execution_count": 3,
     "metadata": {},
     "output_type": "execute_result"
    }
   ],
   "source": [
    "tokens"
   ]
  },
  {
   "cell_type": "markdown",
   "metadata": {},
   "source": [
    "# LDA"
   ]
  },
  {
   "cell_type": "code",
   "execution_count": 86,
   "metadata": {},
   "outputs": [
    {
     "name": "stdout",
     "output_type": "stream",
     "text": [
      "(0, '0.286*\"marshall\" + 0.197*\"name\" + 0.196*\"happy\" + 0.107*\"say\" + 0.107*\"today\" + 0.018*\"alex\" + 0.018*\"bad\" + 0.018*\"really\" + 0.018*\"guy\" + 0.018*\"meet\" + 0.018*\"finally\"')\n",
      "(1, '0.180*\"guy\" + 0.180*\"alex\" + 0.180*\"bad\" + 0.098*\"finally\" + 0.098*\"meet\" + 0.098*\"happy\" + 0.098*\"marshall\" + 0.016*\"today\" + 0.016*\"name\" + 0.016*\"say\" + 0.016*\"really\"')\n",
      "(2, '0.091*\"today\" + 0.091*\"name\" + 0.091*\"alex\" + 0.091*\"bad\" + 0.091*\"marshall\" + 0.091*\"happy\" + 0.091*\"say\" + 0.091*\"really\" + 0.091*\"guy\" + 0.091*\"finally\" + 0.091*\"meet\"')\n",
      "(3, '0.091*\"today\" + 0.091*\"name\" + 0.091*\"alex\" + 0.091*\"bad\" + 0.091*\"marshall\" + 0.091*\"happy\" + 0.091*\"say\" + 0.091*\"really\" + 0.091*\"guy\" + 0.091*\"meet\" + 0.091*\"finally\"')\n",
      "(4, '0.314*\"bad\" + 0.314*\"alex\" + 0.118*\"really\" + 0.117*\"name\" + 0.020*\"today\" + 0.020*\"marshall\" + 0.020*\"happy\" + 0.020*\"say\" + 0.020*\"guy\" + 0.020*\"finally\" + 0.020*\"meet\"')\n"
     ]
    }
   ],
   "source": [
    "# 普通LDA 最优参数\n",
    "# Passes 越高，越cluster之间差异对比越明显，15比较稳定\n",
    "# alpha: auto-自动学习非对称的分布, asymmetric非对称先验(比较容易聚集类)，默认symmetric对称先验比较靠谱\n",
    "\n",
    "NUM_TOPICS = 5\n",
    "ldamodel = gensim.models.ldamodel.LdaModel(corpus, num_topics = NUM_TOPICS, id2word=dictionary, passes=15,random_state=0,alpha='symmetric')\n",
    "topics = ldamodel.print_topics(num_words=30)\n",
    "for topic in topics:\n",
    "    print(topic)"
   ]
  },
  {
   "cell_type": "code",
   "execution_count": 87,
   "metadata": {},
   "outputs": [
    {
     "data": {
      "text/html": [
       "\n",
       "<link rel=\"stylesheet\" type=\"text/css\" href=\"https://cdn.rawgit.com/bmabey/pyLDAvis/files/ldavis.v1.0.0.css\">\n",
       "\n",
       "\n",
       "<div id=\"ldavis_el55411406246275566646876191187\"></div>\n",
       "<script type=\"text/javascript\">\n",
       "\n",
       "var ldavis_el55411406246275566646876191187_data = {\"mdsDat\": {\"x\": [0.17926736237482993, -0.06508397350738093, 0.017809991945113447, 0.017809904674768076, -0.14980328548733055], \"y\": [-0.017176254344581334, 0.07664708112313758, -0.0025095824331422237, -0.002509632422092215, -0.05445161192332175], \"topics\": [1, 2, 3, 4, 5], \"cluster\": [1, 1, 1, 1, 1], \"Freq\": [28.260847091674805, 35.773372650146484, 4.787059307098389, 4.787059307098389, 26.39167022705078]}, \"tinfo\": {\"Term\": [\"bad\", \"alex\", \"marshall\", \"guy\", \"name\", \"happy\", \"really\", \"finally\", \"meet\", \"today\", \"say\", \"marshall\", \"say\", \"today\", \"name\", \"happy\", \"really\", \"meet\", \"finally\", \"guy\", \"alex\", \"bad\", \"guy\", \"finally\", \"meet\", \"alex\", \"bad\", \"happy\", \"marshall\", \"today\", \"say\", \"really\", \"name\", \"today\", \"say\", \"really\", \"finally\", \"meet\", \"guy\", \"name\", \"happy\", \"marshall\", \"alex\", \"bad\", \"today\", \"say\", \"really\", \"meet\", \"finally\", \"guy\", \"name\", \"happy\", \"marshall\", \"alex\", \"bad\", \"really\", \"bad\", \"alex\", \"name\", \"today\", \"say\", \"finally\", \"meet\", \"guy\", \"happy\", \"marshall\"], \"Freq\": [4.0, 4.0, 3.0, 2.0, 2.0, 2.0, 1.0, 1.0, 1.0, 1.0, 1.0, 2.179969310760498, 0.8169653415679932, 0.8166139125823975, 1.501353144645691, 1.4983466863632202, 0.13619336485862732, 0.13618890941143036, 0.13618873059749603, 0.13619248569011688, 0.1362103670835495, 0.13620680570602417, 1.7427977323532104, 0.9506084322929382, 0.9506084322929382, 1.7410160303115845, 1.7405469417572021, 0.9500962495803833, 0.9492515325546265, 0.1584901362657547, 0.1584581434726715, 0.15845762193202972, 0.15847845375537872, 0.11760614067316055, 0.11747939884662628, 0.11747489124536514, 0.11745226383209229, 0.11745211482048035, 0.11746439337730408, 0.11755627393722534, 0.11749595403671265, 0.11750353872776031, 0.11751656979322433, 0.11750435829162598, 0.11760424822568893, 0.11747897416353226, 0.11747471988201141, 0.11745207011699677, 0.11745202541351318, 0.11746471375226974, 0.11755691468715668, 0.11749667674303055, 0.11750424653291702, 0.1175135150551796, 0.11750780791044235, 0.8382490873336792, 2.237546682357788, 2.237107992172241, 0.8346225023269653, 0.1397732049226761, 0.13974162936210632, 0.13973477482795715, 0.13973468542099, 0.13973994553089142, 0.13974788784980774, 0.13975098729133606], \"Total\": [4.0, 4.0, 3.0, 2.0, 2.0, 2.0, 1.0, 1.0, 1.0, 1.0, 1.0, 3.5039799213409424, 1.3501235246658325, 1.3500876426696777, 2.729567289352417, 2.823183536529541, 1.367849588394165, 1.4614362716674805, 1.461436152458191, 2.253659248352051, 4.349364280700684, 4.349312782287598, 2.253659248352051, 1.461436152458191, 1.4614362716674805, 4.349364280700684, 4.349312782287598, 2.823183536529541, 3.5039799213409424, 1.3500876426696777, 1.3501235246658325, 1.367849588394165, 2.729567289352417, 1.3500876426696777, 1.3501235246658325, 1.367849588394165, 1.461436152458191, 1.4614362716674805, 2.253659248352051, 2.729567289352417, 2.823183536529541, 3.5039799213409424, 4.349364280700684, 4.349312782287598, 1.3500876426696777, 1.3501235246658325, 1.367849588394165, 1.4614362716674805, 1.461436152458191, 2.253659248352051, 2.729567289352417, 2.823183536529541, 3.5039799213409424, 4.349364280700684, 4.349312782287598, 1.367849588394165, 4.349312782287598, 4.349364280700684, 2.729567289352417, 1.3500876426696777, 1.3501235246658325, 1.461436152458191, 1.4614362716674805, 2.253659248352051, 2.823183536529541, 3.5039799213409424], \"Category\": [\"Default\", \"Default\", \"Default\", \"Default\", \"Default\", \"Default\", \"Default\", \"Default\", \"Default\", \"Default\", \"Default\", \"Topic1\", \"Topic1\", \"Topic1\", \"Topic1\", \"Topic1\", \"Topic1\", \"Topic1\", \"Topic1\", \"Topic1\", \"Topic1\", \"Topic1\", \"Topic2\", \"Topic2\", \"Topic2\", \"Topic2\", \"Topic2\", \"Topic2\", \"Topic2\", \"Topic2\", \"Topic2\", \"Topic2\", \"Topic2\", \"Topic3\", \"Topic3\", \"Topic3\", \"Topic3\", \"Topic3\", \"Topic3\", \"Topic3\", \"Topic3\", \"Topic3\", \"Topic3\", \"Topic3\", \"Topic4\", \"Topic4\", \"Topic4\", \"Topic4\", \"Topic4\", \"Topic4\", \"Topic4\", \"Topic4\", \"Topic4\", \"Topic4\", \"Topic4\", \"Topic5\", \"Topic5\", \"Topic5\", \"Topic5\", \"Topic5\", \"Topic5\", \"Topic5\", \"Topic5\", \"Topic5\", \"Topic5\", \"Topic5\"], \"logprob\": [11.0, 10.0, 9.0, 8.0, 7.0, 6.0, 5.0, 4.0, 3.0, 2.0, 1.0, -1.2527999877929688, -2.234299898147583, -2.2346999645233154, -1.6258000135421753, -1.6277999877929688, -4.0258002281188965, -4.025899887084961, -4.025899887084961, -4.0258002281188965, -4.025700092315674, -4.025700092315674, -1.712399959564209, -2.31850004196167, -2.31850004196167, -1.7134000062942505, -1.7137000560760498, -2.3190999031066895, -2.319999933242798, -4.109899997711182, -4.110099792480469, -4.110099792480469, -4.110000133514404, -2.3970000743865967, -2.398099899291992, -2.398099899291992, -2.3982999324798584, -2.3982999324798584, -2.398200035095215, -2.39739990234375, -2.397900104522705, -2.397900104522705, -2.3977999687194824, -2.397900104522705, -2.3970000743865967, -2.398099899291992, -2.398099899291992, -2.3982999324798584, -2.3982999324798584, -2.398200035095215, -2.39739990234375, -2.397900104522705, -2.397900104522705, -2.3977999687194824, -2.3977999687194824, -2.140199899673462, -1.1583000421524048, -1.1584999561309814, -2.1445000171661377, -3.9314000606536865, -3.9316999912261963, -3.9316999912261963, -3.9316999912261963, -3.9316999912261963, -3.9316000938415527, -3.9316000938415527], \"loglift\": [11.0, 10.0, 9.0, 8.0, 7.0, 6.0, 5.0, 4.0, 3.0, 2.0, 1.0, 0.7890999913215637, 0.7613000273704529, 0.7609000205993652, 0.6658999919891357, 0.6302000284194946, -1.0432000160217285, -1.1094000339508057, -1.1094000339508057, -1.5425000190734863, -2.199899911880493, -2.199899911880493, 0.7709000110626221, 0.5978999733924866, 0.5978999733924866, 0.11240000277757645, 0.11209999769926071, -0.06109999865293503, -0.27799999713897705, -1.114300012588501, -1.1145000457763672, -1.127500057220459, -1.8183000087738037, 0.5986999869346619, 0.597599983215332, 0.5845000147819519, 0.5181000232696533, 0.5181000232696533, 0.08510000258684158, -0.10570000112056732, -0.14000000059604645, -0.35589998960494995, -0.5720000267028809, -0.5720000267028809, 0.5986999869346619, 0.597599983215332, 0.5845000147819519, 0.5181000232696533, 0.5181000232696533, 0.08510000258684158, -0.10570000112056732, -0.14000000059604645, -0.35589998960494995, -0.5720000267028809, -0.5720000267028809, 0.8424000144004822, 0.6675000190734863, 0.6672999858856201, 0.14720000326633453, -0.9358000159263611, -0.9359999895095825, -1.0153000354766846, -1.0153000354766846, -1.4484000205993652, -1.673699975013733, -1.8897000551223755]}, \"token.table\": {\"Topic\": [2, 5, 2, 5, 2, 2, 1, 2, 1, 2, 2, 1, 5, 5, 1, 1], \"Freq\": [0.45983731746673584, 0.45983731746673584, 0.4598427712917328, 0.4598427712917328, 0.6842584013938904, 0.8874456286430359, 0.3542100489139557, 0.3542100489139557, 0.5707795023918152, 0.2853897511959076, 0.6842583417892456, 0.7327168583869934, 0.3663584291934967, 0.7310745120048523, 0.7406729459762573, 0.740692675113678], \"Term\": [\"alex\", \"alex\", \"bad\", \"bad\", \"finally\", \"guy\", \"happy\", \"happy\", \"marshall\", \"marshall\", \"meet\", \"name\", \"name\", \"really\", \"say\", \"today\"]}, \"R\": 11, \"lambda.step\": 0.01, \"plot.opts\": {\"xlab\": \"PC1\", \"ylab\": \"PC2\"}, \"topic.order\": [1, 2, 3, 4, 5]};\n",
       "\n",
       "function LDAvis_load_lib(url, callback){\n",
       "  var s = document.createElement('script');\n",
       "  s.src = url;\n",
       "  s.async = true;\n",
       "  s.onreadystatechange = s.onload = callback;\n",
       "  s.onerror = function(){console.warn(\"failed to load library \" + url);};\n",
       "  document.getElementsByTagName(\"head\")[0].appendChild(s);\n",
       "}\n",
       "\n",
       "if(typeof(LDAvis) !== \"undefined\"){\n",
       "   // already loaded: just create the visualization\n",
       "   !function(LDAvis){\n",
       "       new LDAvis(\"#\" + \"ldavis_el55411406246275566646876191187\", ldavis_el55411406246275566646876191187_data);\n",
       "   }(LDAvis);\n",
       "}else if(typeof define === \"function\" && define.amd){\n",
       "   // require.js is available: use it to load d3/LDAvis\n",
       "   require.config({paths: {d3: \"https://cdnjs.cloudflare.com/ajax/libs/d3/3.5.5/d3.min\"}});\n",
       "   require([\"d3\"], function(d3){\n",
       "      window.d3 = d3;\n",
       "      LDAvis_load_lib(\"https://cdn.rawgit.com/bmabey/pyLDAvis/files/ldavis.v1.0.0.js\", function(){\n",
       "        new LDAvis(\"#\" + \"ldavis_el55411406246275566646876191187\", ldavis_el55411406246275566646876191187_data);\n",
       "      });\n",
       "    });\n",
       "}else{\n",
       "    // require.js not available: dynamically load d3 & LDAvis\n",
       "    LDAvis_load_lib(\"https://cdnjs.cloudflare.com/ajax/libs/d3/3.5.5/d3.min.js\", function(){\n",
       "         LDAvis_load_lib(\"https://cdn.rawgit.com/bmabey/pyLDAvis/files/ldavis.v1.0.0.js\", function(){\n",
       "                 new LDAvis(\"#\" + \"ldavis_el55411406246275566646876191187\", ldavis_el55411406246275566646876191187_data);\n",
       "            })\n",
       "         });\n",
       "}\n",
       "</script>"
      ],
      "text/plain": [
       "<IPython.core.display.HTML object>"
      ]
     },
     "execution_count": 87,
     "metadata": {},
     "output_type": "execute_result"
    }
   ],
   "source": [
    "lda_display = pyLDAvis.gensim.prepare(ldamodel, corpus, dictionary, sort_topics=False)\n",
    "pyLDAvis.display(lda_display)"
   ]
  },
  {
   "cell_type": "markdown",
   "metadata": {},
   "source": [
    "# Multi-core"
   ]
  },
  {
   "cell_type": "code",
   "execution_count": 94,
   "metadata": {},
   "outputs": [
    {
     "name": "stdout",
     "output_type": "stream",
     "text": [
      "(0, '0.286*\"marshall\" + 0.197*\"name\" + 0.196*\"happy\" + 0.107*\"say\" + 0.107*\"today\" + 0.018*\"alex\" + 0.018*\"bad\" + 0.018*\"guy\" + 0.018*\"really\" + 0.018*\"meet\"')\n",
      "(1, '0.225*\"alex\" + 0.155*\"guy\" + 0.155*\"bad\" + 0.085*\"meet\" + 0.085*\"finally\" + 0.085*\"happy\" + 0.084*\"marshall\" + 0.084*\"name\" + 0.014*\"today\" + 0.014*\"say\"')\n",
      "(2, '0.091*\"today\" + 0.091*\"name\" + 0.091*\"alex\" + 0.091*\"bad\" + 0.091*\"marshall\" + 0.091*\"happy\" + 0.091*\"say\" + 0.091*\"guy\" + 0.091*\"finally\" + 0.091*\"meet\"')\n",
      "(3, '0.231*\"alex\" + 0.231*\"really\" + 0.230*\"bad\" + 0.038*\"name\" + 0.038*\"today\" + 0.038*\"marshall\" + 0.038*\"happy\" + 0.038*\"say\" + 0.038*\"guy\" + 0.038*\"meet\"')\n",
      "(4, '0.424*\"bad\" + 0.231*\"alex\" + 0.038*\"name\" + 0.038*\"today\" + 0.038*\"marshall\" + 0.038*\"happy\" + 0.038*\"say\" + 0.038*\"guy\" + 0.038*\"really\" + 0.038*\"finally\"')\n"
     ]
    }
   ],
   "source": [
    "# 多线程加速，alpha没有auto,选用默认的symmetric，效果近似传统方法\n",
    "NUM_TOPICS = 5\n",
    "ldamodel =  gensim.models.ldamulticore.LdaMulticore(corpus, num_topics = NUM_TOPICS, id2word=dictionary, passes=10,random_state=0,workers=4,alpha='symmetric')\n",
    "topics = ldamodel.print_topics(num_words=10)\n",
    "for topic in topics:\n",
    "    print(topic)"
   ]
  },
  {
   "cell_type": "code",
   "execution_count": 89,
   "metadata": {},
   "outputs": [
    {
     "data": {
      "text/html": [
       "\n",
       "<link rel=\"stylesheet\" type=\"text/css\" href=\"https://cdn.rawgit.com/bmabey/pyLDAvis/files/ldavis.v1.0.0.css\">\n",
       "\n",
       "\n",
       "<div id=\"ldavis_el5541140624627557264270002669\"></div>\n",
       "<script type=\"text/javascript\">\n",
       "\n",
       "var ldavis_el5541140624627557264270002669_data = {\"mdsDat\": {\"x\": [-0.19803715854944082, 0.03016522149543946, -0.03607808189495612, 0.09556412222719546, 0.10838589672176195], \"y\": [-0.001844115733613868, 0.05005214956449268, -0.019408926333183543, -0.042594934075372466, 0.013795826577677268], \"topics\": [1, 2, 3, 4, 5], \"cluster\": [1, 1, 1, 1, 1], \"Freq\": [28.27863311767578, 40.65620040893555, 4.787294864654541, 13.118992805480957, 13.158880233764648]}, \"tinfo\": {\"Term\": [\"bad\", \"alex\", \"really\", \"marshall\", \"guy\", \"today\", \"say\", \"name\", \"happy\", \"finally\", \"meet\", \"marshall\", \"say\", \"today\", \"name\", \"happy\", \"really\", \"meet\", \"finally\", \"guy\", \"bad\", \"alex\", \"guy\", \"meet\", \"finally\", \"alex\", \"bad\", \"happy\", \"name\", \"marshall\", \"today\", \"say\", \"really\", \"today\", \"say\", \"really\", \"finally\", \"meet\", \"guy\", \"name\", \"happy\", \"marshall\", \"bad\", \"alex\", \"really\", \"bad\", \"alex\", \"today\", \"say\", \"meet\", \"finally\", \"guy\", \"name\", \"happy\", \"marshall\", \"bad\", \"alex\", \"today\", \"say\", \"really\", \"finally\", \"meet\", \"guy\", \"name\", \"happy\", \"marshall\"], \"Freq\": [4.0, 4.0, 1.0, 3.0, 2.0, 1.0, 1.0, 2.0, 2.0, 1.0, 1.0, 2.1806578636169434, 0.8169999718666077, 0.8166937232017517, 1.5048103332519531, 1.4988365173339844, 0.13619525730609894, 0.13619422912597656, 0.13619384169578552, 0.1361999660730362, 0.1362232118844986, 0.13622625172138214, 1.7041096687316895, 0.9295108914375305, 0.9295108914375305, 2.475126028060913, 1.696626901626587, 0.9285033941268921, 0.9214606285095215, 0.9274654984474182, 0.15497879683971405, 0.1549425721168518, 0.15493926405906677, 0.11760888993740082, 0.11747763305902481, 0.1174519881606102, 0.11745237559080124, 0.11745208501815796, 0.11746811121702194, 0.11759286373853683, 0.11749991029500961, 0.11750975251197815, 0.11751728504896164, 0.11753861606121063, 0.8172076940536499, 0.8162639141082764, 0.8186290264129639, 0.1362943947315216, 0.13623613119125366, 0.13622412085533142, 0.13622400164604187, 0.13623565435409546, 0.13630177080631256, 0.13625194132328033, 0.13625921308994293, 1.5066031217575073, 0.8194404244422913, 0.13636530935764313, 0.13630206882953644, 0.13629351556301117, 0.13628992438316345, 0.13628976047039032, 0.13630123436450958, 0.13637471199035645, 0.13631586730480194, 0.1363217681646347], \"Total\": [4.0, 4.0, 1.0, 3.0, 2.0, 1.0, 1.0, 2.0, 2.0, 1.0, 1.0, 3.4982142448425293, 1.361958384513855, 1.3619410991668701, 2.816540241241455, 2.8174076080322266, 1.3620877265930176, 1.4556710720062256, 1.4556710720062256, 2.2303147315979004, 4.2732343673706055, 4.366960525512695, 2.2303147315979004, 1.4556710720062256, 1.4556710720062256, 4.366960525512695, 4.2732343673706055, 2.8174076080322266, 2.816540241241455, 3.4982142448425293, 1.3619410991668701, 1.361958384513855, 1.3620877265930176, 1.3619410991668701, 1.361958384513855, 1.3620877265930176, 1.4556710720062256, 1.4556710720062256, 2.2303147315979004, 2.816540241241455, 2.8174076080322266, 3.4982142448425293, 4.2732343673706055, 4.366960525512695, 1.3620877265930176, 4.2732343673706055, 4.366960525512695, 1.3619410991668701, 1.361958384513855, 1.4556710720062256, 1.4556710720062256, 2.2303147315979004, 2.816540241241455, 2.8174076080322266, 3.4982142448425293, 4.2732343673706055, 4.366960525512695, 1.3619410991668701, 1.361958384513855, 1.3620877265930176, 1.4556710720062256, 1.4556710720062256, 2.2303147315979004, 2.816540241241455, 2.8174076080322266, 3.4982142448425293], \"Category\": [\"Default\", \"Default\", \"Default\", \"Default\", \"Default\", \"Default\", \"Default\", \"Default\", \"Default\", \"Default\", \"Default\", \"Topic1\", \"Topic1\", \"Topic1\", \"Topic1\", \"Topic1\", \"Topic1\", \"Topic1\", \"Topic1\", \"Topic1\", \"Topic1\", \"Topic1\", \"Topic2\", \"Topic2\", \"Topic2\", \"Topic2\", \"Topic2\", \"Topic2\", \"Topic2\", \"Topic2\", \"Topic2\", \"Topic2\", \"Topic2\", \"Topic3\", \"Topic3\", \"Topic3\", \"Topic3\", \"Topic3\", \"Topic3\", \"Topic3\", \"Topic3\", \"Topic3\", \"Topic3\", \"Topic3\", \"Topic4\", \"Topic4\", \"Topic4\", \"Topic4\", \"Topic4\", \"Topic4\", \"Topic4\", \"Topic4\", \"Topic4\", \"Topic4\", \"Topic4\", \"Topic5\", \"Topic5\", \"Topic5\", \"Topic5\", \"Topic5\", \"Topic5\", \"Topic5\", \"Topic5\", \"Topic5\", \"Topic5\", \"Topic5\"], \"logprob\": [11.0, 10.0, 9.0, 8.0, 7.0, 6.0, 5.0, 4.0, 3.0, 2.0, 1.0, -1.253100037574768, -2.2348999977111816, -2.235300064086914, -1.6240999698638916, -1.628100037574768, -4.026400089263916, -4.026400089263916, -4.026400089263916, -4.026400089263916, -4.026199817657471, -4.026199817657471, -1.8628000020980835, -2.468899965286255, -2.468899965286255, -1.4895000457763672, -1.8672000169754028, -2.4700000286102295, -2.47760009765625, -2.471100091934204, -4.260300159454346, -4.260499954223633, -4.260499954223633, -2.3970000743865967, -2.398099899291992, -2.398400068283081, -2.398400068283081, -2.398400068283081, -2.398200035095215, -2.397200107574463, -2.3980000019073486, -2.397900104522705, -2.3977999687194824, -2.397599935531616, -1.466599941253662, -1.4677000045776367, -1.464900016784668, -3.257699966430664, -3.2581000328063965, -3.25819993019104, -3.25819993019104, -3.2581000328063965, -3.2576000690460205, -3.257999897003174, -3.2578999996185303, -0.8579000234603882, -1.4668999910354614, -3.260200023651123, -3.2606000900268555, -3.260699987411499, -3.260699987411499, -3.260699987411499, -3.260699987411499, -3.2600998878479004, -3.260499954223633, -3.260499954223633], \"loglift\": [11.0, 10.0, 9.0, 8.0, 7.0, 6.0, 5.0, 4.0, 3.0, 2.0, 1.0, 0.7904000282287598, 0.7519999742507935, 0.7516999840736389, 0.6362000107765198, 0.6319000124931335, -1.0396000146865845, -1.1060999631881714, -1.1060999631881714, -1.5326999425888062, -2.182800054550171, -2.204400062561035, 0.6309000253677368, 0.4514999985694885, 0.4514999985694885, 0.33219999074935913, -0.02370000071823597, -0.20999999344348907, -0.21729999780654907, -0.42750000953674316, -1.2733999490737915, -1.2735999822616577, -1.2736999988555908, 0.589900016784668, 0.5888000130653381, 0.5885000228881836, 0.5220000147819519, 0.5220000147819519, 0.09549999982118607, -0.13680000603199005, -0.1378999948501587, -0.35429999232292175, -0.5543000102043152, -0.5759000182151794, 1.5202000141143799, 0.3756999969482422, 0.35690000653266907, -0.27070000767707825, -0.2712000012397766, -0.337799996137619, -0.337799996137619, -0.7644000053405762, -0.9973000288009644, -0.9980000257492065, -1.2143000364303589, 0.9855999946594238, 0.3549000024795532, -0.2732999920845032, -0.2736999988555908, -0.27390000224113464, -0.34040001034736633, -0.34040001034736633, -0.7670000195503235, -0.9998000264167786, -1.000499963760376, -1.2168999910354614]}, \"token.table\": {\"Topic\": [2, 4, 5, 2, 4, 5, 2, 2, 1, 2, 1, 2, 2, 1, 2, 4, 1, 1], \"Freq\": [0.45798444747924805, 0.22899222373962402, 0.22899222373962402, 0.46802955865859985, 0.23401477932929993, 0.46802955865859985, 0.6869683861732483, 0.8967344164848328, 0.3549362123012543, 0.3549362123012543, 0.5717202425003052, 0.2858601212501526, 0.6869683861732483, 0.7100910544395447, 0.35504552721977234, 0.7341670989990234, 0.7342368364334106, 0.7342461347579956], \"Term\": [\"alex\", \"alex\", \"alex\", \"bad\", \"bad\", \"bad\", \"finally\", \"guy\", \"happy\", \"happy\", \"marshall\", \"marshall\", \"meet\", \"name\", \"name\", \"really\", \"say\", \"today\"]}, \"R\": 11, \"lambda.step\": 0.01, \"plot.opts\": {\"xlab\": \"PC1\", \"ylab\": \"PC2\"}, \"topic.order\": [1, 2, 3, 4, 5]};\n",
       "\n",
       "function LDAvis_load_lib(url, callback){\n",
       "  var s = document.createElement('script');\n",
       "  s.src = url;\n",
       "  s.async = true;\n",
       "  s.onreadystatechange = s.onload = callback;\n",
       "  s.onerror = function(){console.warn(\"failed to load library \" + url);};\n",
       "  document.getElementsByTagName(\"head\")[0].appendChild(s);\n",
       "}\n",
       "\n",
       "if(typeof(LDAvis) !== \"undefined\"){\n",
       "   // already loaded: just create the visualization\n",
       "   !function(LDAvis){\n",
       "       new LDAvis(\"#\" + \"ldavis_el5541140624627557264270002669\", ldavis_el5541140624627557264270002669_data);\n",
       "   }(LDAvis);\n",
       "}else if(typeof define === \"function\" && define.amd){\n",
       "   // require.js is available: use it to load d3/LDAvis\n",
       "   require.config({paths: {d3: \"https://cdnjs.cloudflare.com/ajax/libs/d3/3.5.5/d3.min\"}});\n",
       "   require([\"d3\"], function(d3){\n",
       "      window.d3 = d3;\n",
       "      LDAvis_load_lib(\"https://cdn.rawgit.com/bmabey/pyLDAvis/files/ldavis.v1.0.0.js\", function(){\n",
       "        new LDAvis(\"#\" + \"ldavis_el5541140624627557264270002669\", ldavis_el5541140624627557264270002669_data);\n",
       "      });\n",
       "    });\n",
       "}else{\n",
       "    // require.js not available: dynamically load d3 & LDAvis\n",
       "    LDAvis_load_lib(\"https://cdnjs.cloudflare.com/ajax/libs/d3/3.5.5/d3.min.js\", function(){\n",
       "         LDAvis_load_lib(\"https://cdn.rawgit.com/bmabey/pyLDAvis/files/ldavis.v1.0.0.js\", function(){\n",
       "                 new LDAvis(\"#\" + \"ldavis_el5541140624627557264270002669\", ldavis_el5541140624627557264270002669_data);\n",
       "            })\n",
       "         });\n",
       "}\n",
       "</script>"
      ],
      "text/plain": [
       "<IPython.core.display.HTML object>"
      ]
     },
     "execution_count": 89,
     "metadata": {},
     "output_type": "execute_result"
    }
   ],
   "source": [
    "lda_display = pyLDAvis.gensim.prepare(ldamodel, corpus, dictionary, sort_topics=False)\n",
    "pyLDAvis.display(lda_display)"
   ]
  },
  {
   "cell_type": "markdown",
   "metadata": {},
   "source": [
    "# Functions related to Topic Modelling"
   ]
  },
  {
   "cell_type": "code",
   "execution_count": 43,
   "metadata": {},
   "outputs": [
    {
     "data": {
      "text/html": [
       "<div>\n",
       "<style scoped>\n",
       "    .dataframe tbody tr th:only-of-type {\n",
       "        vertical-align: middle;\n",
       "    }\n",
       "\n",
       "    .dataframe tbody tr th {\n",
       "        vertical-align: top;\n",
       "    }\n",
       "\n",
       "    .dataframe thead th {\n",
       "        text-align: right;\n",
       "    }\n",
       "</style>\n",
       "<table border=\"1\" class=\"dataframe\">\n",
       "  <thead>\n",
       "    <tr style=\"text-align: right;\">\n",
       "      <th></th>\n",
       "      <th>3</th>\n",
       "      <th>4</th>\n",
       "      <th>0</th>\n",
       "      <th>1</th>\n",
       "      <th>6</th>\n",
       "      <th>5</th>\n",
       "      <th>2</th>\n",
       "      <th>7</th>\n",
       "      <th>8</th>\n",
       "      <th>9</th>\n",
       "      <th>10</th>\n",
       "    </tr>\n",
       "  </thead>\n",
       "  <tbody>\n",
       "    <tr>\n",
       "      <th>0</th>\n",
       "      <td>alex</td>\n",
       "      <td>bad</td>\n",
       "      <td>marshall</td>\n",
       "      <td>name</td>\n",
       "      <td>happy</td>\n",
       "      <td>guy</td>\n",
       "      <td>today</td>\n",
       "      <td>really</td>\n",
       "      <td>say</td>\n",
       "      <td>finally</td>\n",
       "      <td>meet</td>\n",
       "    </tr>\n",
       "    <tr>\n",
       "      <th>1</th>\n",
       "      <td>5</td>\n",
       "      <td>5</td>\n",
       "      <td>4</td>\n",
       "      <td>3</td>\n",
       "      <td>3</td>\n",
       "      <td>2</td>\n",
       "      <td>1</td>\n",
       "      <td>1</td>\n",
       "      <td>1</td>\n",
       "      <td>1</td>\n",
       "      <td>1</td>\n",
       "    </tr>\n",
       "  </tbody>\n",
       "</table>\n",
       "</div>"
      ],
      "text/plain": [
       "     3    4         0     1      6    5      2       7    8        9     10\n",
       "0  alex  bad  marshall  name  happy  guy  today  really  say  finally  meet\n",
       "1     5    5         4     3      3    2      1       1    1        1     1"
      ]
     },
     "execution_count": 43,
     "metadata": {},
     "output_type": "execute_result"
    }
   ],
   "source": [
    "pd.DataFrame([(i,dictionary.cfs[k]) for k,i in dictionary.iteritems()]).sort_values(by=1,ascending=False).T"
   ]
  },
  {
   "cell_type": "code",
   "execution_count": 9,
   "metadata": {},
   "outputs": [
    {
     "data": {
      "text/plain": [
       "[(0,\n",
       "  '0.263*\"marshall\" + 0.228*\"name\" + 0.185*\"happy\" + 0.092*\"say\" + 0.091*\"today\" + 0.024*\"alex\" + 0.024*\"meet\" + 0.024*\"finally\" + 0.023*\"guy\" + 0.023*\"bad\"'),\n",
       " (1,\n",
       "  '0.269*\"bad\" + 0.268*\"alex\" + 0.118*\"guy\" + 0.067*\"really\" + 0.067*\"finally\" + 0.067*\"meet\" + 0.049*\"happy\" + 0.043*\"marshall\" + 0.018*\"name\" + 0.017*\"today\"'),\n",
       " (2,\n",
       "  '0.093*\"today\" + 0.091*\"name\" + 0.091*\"alex\" + 0.091*\"marshall\" + 0.091*\"really\" + 0.091*\"happy\" + 0.091*\"bad\" + 0.090*\"guy\" + 0.090*\"say\" + 0.090*\"finally\"')]"
      ]
     },
     "execution_count": 9,
     "metadata": {},
     "output_type": "execute_result"
    }
   ],
   "source": [
    "# 显示每个Topic的词向量表示，显示具体词语，默认显示Top20\n",
    "ldamodel.print_topics()"
   ]
  },
  {
   "cell_type": "code",
   "execution_count": 10,
   "metadata": {},
   "outputs": [
    {
     "data": {
      "text/plain": [
       "array([[0.26324803, 0.2275979 , 0.09083208, 0.02428105, 0.02322719,\n",
       "        0.02336232, 0.18528856, 0.02308698, 0.09169419, 0.02369042,\n",
       "        0.02369124],\n",
       "       [0.04274272, 0.01822507, 0.01696878, 0.26838884, 0.2692721 ,\n",
       "        0.1175331 , 0.04933495, 0.06707782, 0.01688803, 0.06678449,\n",
       "        0.06678429],\n",
       "       [0.090932  , 0.09135655, 0.09327401, 0.09126303, 0.0906753 ,\n",
       "        0.09036507, 0.09082185, 0.09084722, 0.09035214, 0.09005748,\n",
       "        0.09005538]], dtype=float32)"
      ]
     },
     "execution_count": 10,
     "metadata": {},
     "output_type": "execute_result"
    }
   ],
   "source": [
    "# 得到每个Topic的词向量表示\n",
    "ldamodel.get_topics()"
   ]
  },
  {
   "cell_type": "code",
   "execution_count": 11,
   "metadata": {},
   "outputs": [
    {
     "data": {
      "text/plain": [
       "[(0, 0.26324806),\n",
       " (1, 0.22759792),\n",
       " (6, 0.18528858),\n",
       " (8, 0.0916942),\n",
       " (2, 0.090832084),\n",
       " (3, 0.024281053),\n",
       " (10, 0.02369124),\n",
       " (9, 0.023690425),\n",
       " (5, 0.023362326),\n",
       " (4, 0.023227187)]"
      ]
     },
     "execution_count": 11,
     "metadata": {},
     "output_type": "execute_result"
    }
   ],
   "source": [
    "# 查询某一个Topic 所构成的words的所占比例\n",
    "ldamodel.get_topic_terms(0)"
   ]
  },
  {
   "cell_type": "code",
   "execution_count": 12,
   "metadata": {},
   "outputs": [
    {
     "data": {
      "text/plain": [
       "('marshall', [(0, 0.23775995), (1, 0.021836447), (2, 0.014256414)])"
      ]
     },
     "execution_count": 12,
     "metadata": {},
     "output_type": "execute_result"
    }
   ],
   "source": [
    "# 查询字典中某个字，在模型中距离每个Topic的距离位置\n",
    "dictionary[0],ldamodel.get_term_topics(0)"
   ]
  },
  {
   "cell_type": "code",
   "execution_count": 13,
   "metadata": {},
   "outputs": [
    {
     "data": {
      "text/plain": [
       "[[(0, 1)], [(0, 1), (1, 1)], [(6, 1)], [(4, 1)], [(5, 1)]]"
      ]
     },
     "execution_count": 13,
     "metadata": {},
     "output_type": "execute_result"
    }
   ],
   "source": [
    "# 额外的corpus\n",
    "new_text = ['hi, marshall',\"my name is marshall\",'happy day','bad people','hi guys']\n",
    "new_tokens = [processText(text, lemma=True) for text in new_text]\n",
    "other_corpus = [dictionary.doc2bow(text) for text in new_tokens]\n",
    "other_corpus"
   ]
  },
  {
   "cell_type": "code",
   "execution_count": 14,
   "metadata": {},
   "outputs": [
    {
     "name": "stdout",
     "output_type": "stream",
     "text": [
      "[(0, 0.6627141), (1, 0.16907607), (2, 0.16820979)]\n",
      "[(0, 0.7758506), (1, 0.11196737), (2, 0.11218204)]\n",
      "[(0, 0.6594241), (1, 0.1715518), (2, 0.16902407)]\n",
      "[(0, 0.16698891), (1, 0.6648994), (2, 0.16811173)]\n",
      "[(0, 0.16753846), (1, 0.66180587), (2, 0.17065568)]\n"
     ]
    }
   ],
   "source": [
    "# 额外corpus 的doc在模型中距离每个Topic的距离位置\n",
    "for i in other_corpus:\n",
    "    print(ldamodel[i]) # .get_document_topics 简写"
   ]
  },
  {
   "cell_type": "code",
   "execution_count": 15,
   "metadata": {},
   "outputs": [],
   "source": [
    "# 将额外的corpus更新到模型中\n",
    "ldamodel.update(other_corpus)"
   ]
  },
  {
   "cell_type": "code",
   "execution_count": 16,
   "metadata": {},
   "outputs": [
    {
     "data": {
      "text/plain": [
       "(array([[0.        , 0.88177261, 0.39799445],\n",
       "        [1.        , 0.        , 0.33821746],\n",
       "        [0.41967284, 0.29940789, 0.        ]]),\n",
       " array([[list([['guy', 'bad', 'meet', 'name', 'happy', 'really', 'finally', 'marshall', 'alex', 'today'], []]),\n",
       "         list([['guy', 'bad', 'meet', 'happy', 'name', 'really', 'finally', 'marshall', 'alex', 'today'], []]),\n",
       "         list([['guy', 'bad', 'meet', 'happy', 'name', 'really', 'finally', 'marshall', 'alex', 'today'], []])],\n",
       "        [list([['guy', 'bad', 'meet', 'name', 'happy', 'really', 'finally', 'marshall', 'alex', 'today'], []]),\n",
       "         list([['guy', 'bad', 'meet', 'happy', 'name', 'really', 'finally', 'marshall', 'alex', 'today'], []]),\n",
       "         list([['guy', 'bad', 'meet', 'happy', 'name', 'really', 'finally', 'marshall', 'alex', 'today'], []])],\n",
       "        [list([['guy', 'bad', 'meet', 'name', 'happy', 'really', 'finally', 'marshall', 'alex', 'today'], []]),\n",
       "         list([['guy', 'bad', 'meet', 'happy', 'name', 'really', 'finally', 'marshall', 'alex', 'today'], []]),\n",
       "         list([['guy', 'bad', 'meet', 'happy', 'name', 'really', 'finally', 'marshall', 'alex', 'today'], []])]],\n",
       "       dtype=object))"
      ]
     },
     "execution_count": 16,
     "metadata": {},
     "output_type": "execute_result"
    }
   ],
   "source": [
    "# 两个Topic models 差异\n",
    "ldamodel.diff(ldamodel,annotation=True,normed=True)"
   ]
  },
  {
   "cell_type": "code",
   "execution_count": 17,
   "metadata": {},
   "outputs": [
    {
     "data": {
      "text/plain": [
       "-22.18306356759244"
      ]
     },
     "execution_count": 17,
     "metadata": {},
     "output_type": "execute_result"
    }
   ],
   "source": [
    "ldamodel.bound(other_corpus)"
   ]
  }
 ],
 "metadata": {
  "kernelspec": {
   "display_name": "Python 3",
   "language": "python",
   "name": "python3"
  },
  "language_info": {
   "codemirror_mode": {
    "name": "ipython",
    "version": 3
   },
   "file_extension": ".py",
   "mimetype": "text/x-python",
   "name": "python",
   "nbconvert_exporter": "python",
   "pygments_lexer": "ipython3",
   "version": "3.8.10"
  }
 },
 "nbformat": 4,
 "nbformat_minor": 4
}
